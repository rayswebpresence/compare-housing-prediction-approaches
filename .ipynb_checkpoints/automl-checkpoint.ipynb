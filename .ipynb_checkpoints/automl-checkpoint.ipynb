{
 "cells": [
  {
   "cell_type": "markdown",
   "metadata": {},
   "source": [
    "# Automated ML\n",
    "\n",
    "TODO: Import Dependencies. In the cell below, import all the dependencies that you will need to complete the project."
   ]
  },
  {
   "cell_type": "code",
   "execution_count": 14,
   "metadata": {
    "gather": {
     "logged": 1618702125552
    },
    "jupyter": {
     "outputs_hidden": false,
     "source_hidden": false
    },
    "nteract": {
     "transient": {
      "deleting": false
     }
    }
   },
   "outputs": [],
   "source": [
    "from azureml.core import Workspace, Experiment, Run\r\n",
    "from azureml.core.compute import ComputeTarget, AmlCompute\r\n",
    "# from azureml.core.compute import ComputeTargetException\r\n",
    "from azureml.core import ScriptRunConfig, Environment\r\n",
    "from azureml.core import Workspace,Experiment,Run\r\n",
    "from azureml.widgets import RunDetails\r\n",
    "from azureml.core.dataset import Dataset\r\n",
    "from sklearn.model_selection import train_test_split\r\n",
    "from azureml.train.automl import AutoMLConfig\r\n",
    "# get workspace\r\n",
    "ws = Workspace.from_config()\r\n",
    "\r\n"
   ]
  },
  {
   "cell_type": "markdown",
   "metadata": {},
   "source": [
    "## Dataset\n",
    "\n",
    "### Overview\n",
    "This data includes 82 columns for 2,930 properties in Ames, IA. The goal is to predict the cost of the house based on features of the given property.\n",
    "\n"
   ]
  },
  {
   "cell_type": "code",
   "execution_count": 8,
   "metadata": {
    "gather": {
     "logged": 1618702033479
    },
    "jupyter": {
     "outputs_hidden": false,
     "source_hidden": false
    },
    "nteract": {
     "transient": {
      "deleting": false
     }
    }
   },
   "outputs": [
    {
     "name": "stdout",
     "output_type": "stream",
     "text": [
      "Dataset AmesHousing located and loaded in.\n"
     ]
    }
   ],
   "source": [
    "ws = Workspace.from_config()\n",
    "\n",
    "# Create experiment.\n",
    "experiment_name = 'predict-housing-prices'\n",
    "\n",
    "experiment=Experiment(ws, experiment_name)\n",
    "\n",
    "# Get data\n",
    "key = 'AmesHousing'\n",
    "if key in ws.datasets.keys():\n",
    "    data = ws.datasets[key]\n",
    "    print(f\"Dataset {key} located and loaded in.\")\n",
    "else:\n",
    "    print(f\"Cannot find {key}.\")\n",
    "\n",
    "# Load to pandas df\n",
    "df = data.to_pandas_dataframe()"
   ]
  },
  {
   "cell_type": "code",
   "execution_count": 19,
   "metadata": {
    "collapsed": true,
    "gather": {
     "logged": 1618702205724
    },
    "jupyter": {
     "outputs_hidden": false,
     "source_hidden": false
    },
    "nteract": {
     "transient": {
      "deleting": false
     }
    }
   },
   "outputs": [
    {
     "name": "stdout",
     "output_type": "stream",
     "text": [
      "<class 'pandas.core.frame.DataFrame'>\n",
      "RangeIndex: 2930 entries, 0 to 2929\n",
      "Data columns (total 82 columns):\n",
      "Order              2930 non-null int64\n",
      "PID                2930 non-null int64\n",
      "MS SubClass        2930 non-null int64\n",
      "MS Zoning          2930 non-null object\n",
      "Lot Frontage       2440 non-null float64\n",
      "Lot Area           2930 non-null int64\n",
      "Street             2930 non-null object\n",
      "Alley              2930 non-null object\n",
      "Lot Shape          2930 non-null object\n",
      "Land Contour       2930 non-null object\n",
      "Utilities          2930 non-null object\n",
      "Lot Config         2930 non-null object\n",
      "Land Slope         2930 non-null object\n",
      "Neighborhood       2930 non-null object\n",
      "Condition 1        2930 non-null object\n",
      "Condition 2        2930 non-null object\n",
      "Bldg Type          2930 non-null object\n",
      "House Style        2930 non-null object\n",
      "Overall Qual       2930 non-null int64\n",
      "Overall Cond       2930 non-null int64\n",
      "Year Built         2930 non-null int64\n",
      "Year Remod/Add     2930 non-null int64\n",
      "Roof Style         2930 non-null object\n",
      "Roof Matl          2930 non-null object\n",
      "Exterior 1st       2930 non-null object\n",
      "Exterior 2nd       2930 non-null object\n",
      "Mas Vnr Type       2907 non-null object\n",
      "Mas Vnr Area       2907 non-null float64\n",
      "Exter Qual         2930 non-null object\n",
      "Exter Cond         2930 non-null object\n",
      "Foundation         2930 non-null object\n",
      "Bsmt Qual          2929 non-null object\n",
      "Bsmt Cond          2929 non-null object\n",
      "Bsmt Exposure      2926 non-null object\n",
      "BsmtFin Type 1     2929 non-null object\n",
      "BsmtFin SF 1       2929 non-null float64\n",
      "BsmtFin Type 2     2928 non-null object\n",
      "BsmtFin SF 2       2929 non-null float64\n",
      "Bsmt Unf SF        2929 non-null float64\n",
      "Total Bsmt SF      2929 non-null float64\n",
      "Heating            2930 non-null object\n",
      "Heating QC         2930 non-null object\n",
      "Central Air        2930 non-null bool\n",
      "Electrical         2929 non-null object\n",
      "1st Flr SF         2930 non-null int64\n",
      "2nd Flr SF         2930 non-null int64\n",
      "Low Qual Fin SF    2930 non-null int64\n",
      "Gr Liv Area        2930 non-null int64\n",
      "Bsmt Full Bath     2928 non-null float64\n",
      "Bsmt Half Bath     2928 non-null float64\n",
      "Full Bath          2930 non-null int64\n",
      "Half Bath          2930 non-null int64\n",
      "Bedroom AbvGr      2930 non-null int64\n",
      "Kitchen AbvGr      2930 non-null int64\n",
      "Kitchen Qual       2930 non-null object\n",
      "TotRms AbvGrd      2930 non-null int64\n",
      "Functional         2930 non-null object\n",
      "Fireplaces         2930 non-null int64\n",
      "Fireplace Qu       2930 non-null object\n",
      "Garage Type        2930 non-null object\n",
      "Garage Yr Blt      2771 non-null float64\n",
      "Garage Finish      2928 non-null object\n",
      "Garage Cars        2929 non-null float64\n",
      "Garage Area        2929 non-null float64\n",
      "Garage Qual        2929 non-null object\n",
      "Garage Cond        2929 non-null object\n",
      "Paved Drive        2930 non-null object\n",
      "Wood Deck SF       2930 non-null int64\n",
      "Open Porch SF      2930 non-null int64\n",
      "Enclosed Porch     2930 non-null int64\n",
      "3Ssn Porch         2930 non-null int64\n",
      "Screen Porch       2930 non-null int64\n",
      "Pool Area          2930 non-null int64\n",
      "Pool QC            2930 non-null object\n",
      "Fence              2930 non-null object\n",
      "Misc Feature       2930 non-null object\n",
      "Misc Val           2930 non-null int64\n",
      "Mo Sold            2930 non-null int64\n",
      "Yr Sold            2930 non-null int64\n",
      "Sale Type          2930 non-null object\n",
      "Sale Condition     2930 non-null object\n",
      "SalePrice          2930 non-null int64\n",
      "dtypes: bool(1), float64(11), int64(28), object(42)\n",
      "memory usage: 1.8+ MB\n"
     ]
    }
   ],
   "source": [
    "df.info()"
   ]
  },
  {
   "cell_type": "code",
   "execution_count": 17,
   "metadata": {
    "collapsed": true,
    "gather": {
     "logged": 1618702190944
    },
    "jupyter": {
     "outputs_hidden": false,
     "source_hidden": false
    },
    "nteract": {
     "transient": {
      "deleting": false
     }
    }
   },
   "outputs": [
    {
     "data": {
      "text/html": [
       "<div>\n",
       "<style scoped>\n",
       "    .dataframe tbody tr th:only-of-type {\n",
       "        vertical-align: middle;\n",
       "    }\n",
       "\n",
       "    .dataframe tbody tr th {\n",
       "        vertical-align: top;\n",
       "    }\n",
       "\n",
       "    .dataframe thead th {\n",
       "        text-align: right;\n",
       "    }\n",
       "</style>\n",
       "<table border=\"1\" class=\"dataframe\">\n",
       "  <thead>\n",
       "    <tr style=\"text-align: right;\">\n",
       "      <th></th>\n",
       "      <th>Order</th>\n",
       "      <th>PID</th>\n",
       "      <th>MS SubClass</th>\n",
       "      <th>Lot Frontage</th>\n",
       "      <th>Lot Area</th>\n",
       "      <th>Overall Qual</th>\n",
       "      <th>Overall Cond</th>\n",
       "      <th>Year Built</th>\n",
       "      <th>Year Remod/Add</th>\n",
       "      <th>Mas Vnr Area</th>\n",
       "      <th>...</th>\n",
       "      <th>Wood Deck SF</th>\n",
       "      <th>Open Porch SF</th>\n",
       "      <th>Enclosed Porch</th>\n",
       "      <th>3Ssn Porch</th>\n",
       "      <th>Screen Porch</th>\n",
       "      <th>Pool Area</th>\n",
       "      <th>Misc Val</th>\n",
       "      <th>Mo Sold</th>\n",
       "      <th>Yr Sold</th>\n",
       "      <th>SalePrice</th>\n",
       "    </tr>\n",
       "  </thead>\n",
       "  <tbody>\n",
       "    <tr>\n",
       "      <th>count</th>\n",
       "      <td>2930.00000</td>\n",
       "      <td>2.930000e+03</td>\n",
       "      <td>2930.000000</td>\n",
       "      <td>2440.000000</td>\n",
       "      <td>2930.000000</td>\n",
       "      <td>2930.000000</td>\n",
       "      <td>2930.000000</td>\n",
       "      <td>2930.000000</td>\n",
       "      <td>2930.000000</td>\n",
       "      <td>2907.000000</td>\n",
       "      <td>...</td>\n",
       "      <td>2930.000000</td>\n",
       "      <td>2930.000000</td>\n",
       "      <td>2930.000000</td>\n",
       "      <td>2930.000000</td>\n",
       "      <td>2930.000000</td>\n",
       "      <td>2930.000000</td>\n",
       "      <td>2930.000000</td>\n",
       "      <td>2930.000000</td>\n",
       "      <td>2930.000000</td>\n",
       "      <td>2930.000000</td>\n",
       "    </tr>\n",
       "    <tr>\n",
       "      <th>mean</th>\n",
       "      <td>1465.50000</td>\n",
       "      <td>7.144645e+08</td>\n",
       "      <td>57.387372</td>\n",
       "      <td>69.224590</td>\n",
       "      <td>10147.921843</td>\n",
       "      <td>6.094881</td>\n",
       "      <td>5.563140</td>\n",
       "      <td>1971.356314</td>\n",
       "      <td>1984.266553</td>\n",
       "      <td>101.896801</td>\n",
       "      <td>...</td>\n",
       "      <td>93.751877</td>\n",
       "      <td>47.533447</td>\n",
       "      <td>23.011604</td>\n",
       "      <td>2.592491</td>\n",
       "      <td>16.002048</td>\n",
       "      <td>2.243345</td>\n",
       "      <td>50.635154</td>\n",
       "      <td>6.216041</td>\n",
       "      <td>2007.790444</td>\n",
       "      <td>180796.060068</td>\n",
       "    </tr>\n",
       "    <tr>\n",
       "      <th>std</th>\n",
       "      <td>845.96247</td>\n",
       "      <td>1.887308e+08</td>\n",
       "      <td>42.638025</td>\n",
       "      <td>23.365335</td>\n",
       "      <td>7880.017759</td>\n",
       "      <td>1.411026</td>\n",
       "      <td>1.111537</td>\n",
       "      <td>30.245361</td>\n",
       "      <td>20.860286</td>\n",
       "      <td>179.112611</td>\n",
       "      <td>...</td>\n",
       "      <td>126.361562</td>\n",
       "      <td>67.483400</td>\n",
       "      <td>64.139059</td>\n",
       "      <td>25.141331</td>\n",
       "      <td>56.087370</td>\n",
       "      <td>35.597181</td>\n",
       "      <td>566.344288</td>\n",
       "      <td>2.714492</td>\n",
       "      <td>1.316613</td>\n",
       "      <td>79886.692357</td>\n",
       "    </tr>\n",
       "    <tr>\n",
       "      <th>min</th>\n",
       "      <td>1.00000</td>\n",
       "      <td>5.263011e+08</td>\n",
       "      <td>20.000000</td>\n",
       "      <td>21.000000</td>\n",
       "      <td>1300.000000</td>\n",
       "      <td>1.000000</td>\n",
       "      <td>1.000000</td>\n",
       "      <td>1872.000000</td>\n",
       "      <td>1950.000000</td>\n",
       "      <td>0.000000</td>\n",
       "      <td>...</td>\n",
       "      <td>0.000000</td>\n",
       "      <td>0.000000</td>\n",
       "      <td>0.000000</td>\n",
       "      <td>0.000000</td>\n",
       "      <td>0.000000</td>\n",
       "      <td>0.000000</td>\n",
       "      <td>0.000000</td>\n",
       "      <td>1.000000</td>\n",
       "      <td>2006.000000</td>\n",
       "      <td>12789.000000</td>\n",
       "    </tr>\n",
       "    <tr>\n",
       "      <th>25%</th>\n",
       "      <td>733.25000</td>\n",
       "      <td>5.284770e+08</td>\n",
       "      <td>20.000000</td>\n",
       "      <td>58.000000</td>\n",
       "      <td>7440.250000</td>\n",
       "      <td>5.000000</td>\n",
       "      <td>5.000000</td>\n",
       "      <td>1954.000000</td>\n",
       "      <td>1965.000000</td>\n",
       "      <td>0.000000</td>\n",
       "      <td>...</td>\n",
       "      <td>0.000000</td>\n",
       "      <td>0.000000</td>\n",
       "      <td>0.000000</td>\n",
       "      <td>0.000000</td>\n",
       "      <td>0.000000</td>\n",
       "      <td>0.000000</td>\n",
       "      <td>0.000000</td>\n",
       "      <td>4.000000</td>\n",
       "      <td>2007.000000</td>\n",
       "      <td>129500.000000</td>\n",
       "    </tr>\n",
       "    <tr>\n",
       "      <th>50%</th>\n",
       "      <td>1465.50000</td>\n",
       "      <td>5.354536e+08</td>\n",
       "      <td>50.000000</td>\n",
       "      <td>68.000000</td>\n",
       "      <td>9436.500000</td>\n",
       "      <td>6.000000</td>\n",
       "      <td>5.000000</td>\n",
       "      <td>1973.000000</td>\n",
       "      <td>1993.000000</td>\n",
       "      <td>0.000000</td>\n",
       "      <td>...</td>\n",
       "      <td>0.000000</td>\n",
       "      <td>27.000000</td>\n",
       "      <td>0.000000</td>\n",
       "      <td>0.000000</td>\n",
       "      <td>0.000000</td>\n",
       "      <td>0.000000</td>\n",
       "      <td>0.000000</td>\n",
       "      <td>6.000000</td>\n",
       "      <td>2008.000000</td>\n",
       "      <td>160000.000000</td>\n",
       "    </tr>\n",
       "    <tr>\n",
       "      <th>75%</th>\n",
       "      <td>2197.75000</td>\n",
       "      <td>9.071811e+08</td>\n",
       "      <td>70.000000</td>\n",
       "      <td>80.000000</td>\n",
       "      <td>11555.250000</td>\n",
       "      <td>7.000000</td>\n",
       "      <td>6.000000</td>\n",
       "      <td>2001.000000</td>\n",
       "      <td>2004.000000</td>\n",
       "      <td>164.000000</td>\n",
       "      <td>...</td>\n",
       "      <td>168.000000</td>\n",
       "      <td>70.000000</td>\n",
       "      <td>0.000000</td>\n",
       "      <td>0.000000</td>\n",
       "      <td>0.000000</td>\n",
       "      <td>0.000000</td>\n",
       "      <td>0.000000</td>\n",
       "      <td>8.000000</td>\n",
       "      <td>2009.000000</td>\n",
       "      <td>213500.000000</td>\n",
       "    </tr>\n",
       "    <tr>\n",
       "      <th>max</th>\n",
       "      <td>2930.00000</td>\n",
       "      <td>1.007100e+09</td>\n",
       "      <td>190.000000</td>\n",
       "      <td>313.000000</td>\n",
       "      <td>215245.000000</td>\n",
       "      <td>10.000000</td>\n",
       "      <td>9.000000</td>\n",
       "      <td>2010.000000</td>\n",
       "      <td>2010.000000</td>\n",
       "      <td>1600.000000</td>\n",
       "      <td>...</td>\n",
       "      <td>1424.000000</td>\n",
       "      <td>742.000000</td>\n",
       "      <td>1012.000000</td>\n",
       "      <td>508.000000</td>\n",
       "      <td>576.000000</td>\n",
       "      <td>800.000000</td>\n",
       "      <td>17000.000000</td>\n",
       "      <td>12.000000</td>\n",
       "      <td>2010.000000</td>\n",
       "      <td>755000.000000</td>\n",
       "    </tr>\n",
       "  </tbody>\n",
       "</table>\n",
       "<p>8 rows × 39 columns</p>\n",
       "</div>"
      ],
      "text/plain": [
       "            Order           PID  MS SubClass  Lot Frontage       Lot Area  \\\n",
       "count  2930.00000  2.930000e+03  2930.000000   2440.000000    2930.000000   \n",
       "mean   1465.50000  7.144645e+08    57.387372     69.224590   10147.921843   \n",
       "std     845.96247  1.887308e+08    42.638025     23.365335    7880.017759   \n",
       "min       1.00000  5.263011e+08    20.000000     21.000000    1300.000000   \n",
       "25%     733.25000  5.284770e+08    20.000000     58.000000    7440.250000   \n",
       "50%    1465.50000  5.354536e+08    50.000000     68.000000    9436.500000   \n",
       "75%    2197.75000  9.071811e+08    70.000000     80.000000   11555.250000   \n",
       "max    2930.00000  1.007100e+09   190.000000    313.000000  215245.000000   \n",
       "\n",
       "       Overall Qual  Overall Cond   Year Built  Year Remod/Add  Mas Vnr Area  \\\n",
       "count   2930.000000   2930.000000  2930.000000     2930.000000   2907.000000   \n",
       "mean       6.094881      5.563140  1971.356314     1984.266553    101.896801   \n",
       "std        1.411026      1.111537    30.245361       20.860286    179.112611   \n",
       "min        1.000000      1.000000  1872.000000     1950.000000      0.000000   \n",
       "25%        5.000000      5.000000  1954.000000     1965.000000      0.000000   \n",
       "50%        6.000000      5.000000  1973.000000     1993.000000      0.000000   \n",
       "75%        7.000000      6.000000  2001.000000     2004.000000    164.000000   \n",
       "max       10.000000      9.000000  2010.000000     2010.000000   1600.000000   \n",
       "\n",
       "       ...  Wood Deck SF  Open Porch SF  Enclosed Porch   3Ssn Porch  \\\n",
       "count  ...   2930.000000    2930.000000     2930.000000  2930.000000   \n",
       "mean   ...     93.751877      47.533447       23.011604     2.592491   \n",
       "std    ...    126.361562      67.483400       64.139059    25.141331   \n",
       "min    ...      0.000000       0.000000        0.000000     0.000000   \n",
       "25%    ...      0.000000       0.000000        0.000000     0.000000   \n",
       "50%    ...      0.000000      27.000000        0.000000     0.000000   \n",
       "75%    ...    168.000000      70.000000        0.000000     0.000000   \n",
       "max    ...   1424.000000     742.000000     1012.000000   508.000000   \n",
       "\n",
       "       Screen Porch    Pool Area      Misc Val      Mo Sold      Yr Sold  \\\n",
       "count   2930.000000  2930.000000   2930.000000  2930.000000  2930.000000   \n",
       "mean      16.002048     2.243345     50.635154     6.216041  2007.790444   \n",
       "std       56.087370    35.597181    566.344288     2.714492     1.316613   \n",
       "min        0.000000     0.000000      0.000000     1.000000  2006.000000   \n",
       "25%        0.000000     0.000000      0.000000     4.000000  2007.000000   \n",
       "50%        0.000000     0.000000      0.000000     6.000000  2008.000000   \n",
       "75%        0.000000     0.000000      0.000000     8.000000  2009.000000   \n",
       "max      576.000000   800.000000  17000.000000    12.000000  2010.000000   \n",
       "\n",
       "           SalePrice  \n",
       "count    2930.000000  \n",
       "mean   180796.060068  \n",
       "std     79886.692357  \n",
       "min     12789.000000  \n",
       "25%    129500.000000  \n",
       "50%    160000.000000  \n",
       "75%    213500.000000  \n",
       "max    755000.000000  \n",
       "\n",
       "[8 rows x 39 columns]"
      ]
     },
     "execution_count": 17,
     "metadata": {},
     "output_type": "execute_result"
    }
   ],
   "source": [
    "df.describe()"
   ]
  },
  {
   "cell_type": "code",
   "execution_count": 23,
   "metadata": {
    "collapsed": true,
    "gather": {
     "logged": 1618702500174
    },
    "jupyter": {
     "outputs_hidden": false,
     "source_hidden": false
    },
    "nteract": {
     "transient": {
      "deleting": false
     }
    }
   },
   "outputs": [
    {
     "data": {
      "text/html": [
       "<div>\n",
       "<style scoped>\n",
       "    .dataframe tbody tr th:only-of-type {\n",
       "        vertical-align: middle;\n",
       "    }\n",
       "\n",
       "    .dataframe tbody tr th {\n",
       "        vertical-align: top;\n",
       "    }\n",
       "\n",
       "    .dataframe thead th {\n",
       "        text-align: right;\n",
       "    }\n",
       "</style>\n",
       "<table border=\"1\" class=\"dataframe\">\n",
       "  <thead>\n",
       "    <tr style=\"text-align: right;\">\n",
       "      <th></th>\n",
       "      <th>Order</th>\n",
       "      <th>MS SubClass</th>\n",
       "      <th>MS Zoning</th>\n",
       "      <th>Lot Frontage</th>\n",
       "      <th>Lot Area</th>\n",
       "      <th>Street</th>\n",
       "      <th>Alley</th>\n",
       "      <th>Lot Shape</th>\n",
       "      <th>Land Contour</th>\n",
       "      <th>Utilities</th>\n",
       "      <th>...</th>\n",
       "      <th>Pool Area</th>\n",
       "      <th>Pool QC</th>\n",
       "      <th>Fence</th>\n",
       "      <th>Misc Feature</th>\n",
       "      <th>Misc Val</th>\n",
       "      <th>Mo Sold</th>\n",
       "      <th>Yr Sold</th>\n",
       "      <th>Sale Type</th>\n",
       "      <th>Sale Condition</th>\n",
       "      <th>SalePrice</th>\n",
       "    </tr>\n",
       "  </thead>\n",
       "  <tbody>\n",
       "    <tr>\n",
       "      <th>2089</th>\n",
       "      <td>2090</td>\n",
       "      <td>50</td>\n",
       "      <td>RL</td>\n",
       "      <td>104.0</td>\n",
       "      <td>23920</td>\n",
       "      <td>Pave</td>\n",
       "      <td>NA</td>\n",
       "      <td>Reg</td>\n",
       "      <td>Lvl</td>\n",
       "      <td>AllPub</td>\n",
       "      <td>...</td>\n",
       "      <td>444</td>\n",
       "      <td>TA</td>\n",
       "      <td>NA</td>\n",
       "      <td>NA</td>\n",
       "      <td>0</td>\n",
       "      <td>4</td>\n",
       "      <td>2007</td>\n",
       "      <td>WD</td>\n",
       "      <td>Normal</td>\n",
       "      <td>228500</td>\n",
       "    </tr>\n",
       "    <tr>\n",
       "      <th>780</th>\n",
       "      <td>781</td>\n",
       "      <td>20</td>\n",
       "      <td>RL</td>\n",
       "      <td>NaN</td>\n",
       "      <td>9000</td>\n",
       "      <td>Pave</td>\n",
       "      <td>NA</td>\n",
       "      <td>Reg</td>\n",
       "      <td>Lvl</td>\n",
       "      <td>AllPub</td>\n",
       "      <td>...</td>\n",
       "      <td>0</td>\n",
       "      <td>NA</td>\n",
       "      <td>NA</td>\n",
       "      <td>NA</td>\n",
       "      <td>0</td>\n",
       "      <td>6</td>\n",
       "      <td>2009</td>\n",
       "      <td>WD</td>\n",
       "      <td>Normal</td>\n",
       "      <td>63900</td>\n",
       "    </tr>\n",
       "    <tr>\n",
       "      <th>1662</th>\n",
       "      <td>1663</td>\n",
       "      <td>80</td>\n",
       "      <td>RL</td>\n",
       "      <td>70.0</td>\n",
       "      <td>10500</td>\n",
       "      <td>Pave</td>\n",
       "      <td>NA</td>\n",
       "      <td>Reg</td>\n",
       "      <td>Lvl</td>\n",
       "      <td>AllPub</td>\n",
       "      <td>...</td>\n",
       "      <td>0</td>\n",
       "      <td>NA</td>\n",
       "      <td>GdWo</td>\n",
       "      <td>NA</td>\n",
       "      <td>0</td>\n",
       "      <td>12</td>\n",
       "      <td>2007</td>\n",
       "      <td>WD</td>\n",
       "      <td>Normal</td>\n",
       "      <td>139000</td>\n",
       "    </tr>\n",
       "    <tr>\n",
       "      <th>381</th>\n",
       "      <td>382</td>\n",
       "      <td>20</td>\n",
       "      <td>RL</td>\n",
       "      <td>80.0</td>\n",
       "      <td>10400</td>\n",
       "      <td>Pave</td>\n",
       "      <td>NA</td>\n",
       "      <td>Reg</td>\n",
       "      <td>Lvl</td>\n",
       "      <td>AllPub</td>\n",
       "      <td>...</td>\n",
       "      <td>0</td>\n",
       "      <td>NA</td>\n",
       "      <td>MnPrv</td>\n",
       "      <td>NA</td>\n",
       "      <td>0</td>\n",
       "      <td>6</td>\n",
       "      <td>2009</td>\n",
       "      <td>WD</td>\n",
       "      <td>Family</td>\n",
       "      <td>152000</td>\n",
       "    </tr>\n",
       "    <tr>\n",
       "      <th>646</th>\n",
       "      <td>647</td>\n",
       "      <td>20</td>\n",
       "      <td>RL</td>\n",
       "      <td>75.0</td>\n",
       "      <td>14559</td>\n",
       "      <td>Pave</td>\n",
       "      <td>NA</td>\n",
       "      <td>Reg</td>\n",
       "      <td>Lvl</td>\n",
       "      <td>AllPub</td>\n",
       "      <td>...</td>\n",
       "      <td>0</td>\n",
       "      <td>NA</td>\n",
       "      <td>NA</td>\n",
       "      <td>Shed</td>\n",
       "      <td>2000</td>\n",
       "      <td>6</td>\n",
       "      <td>2009</td>\n",
       "      <td>WD</td>\n",
       "      <td>Normal</td>\n",
       "      <td>164900</td>\n",
       "    </tr>\n",
       "    <tr>\n",
       "      <th>...</th>\n",
       "      <td>...</td>\n",
       "      <td>...</td>\n",
       "      <td>...</td>\n",
       "      <td>...</td>\n",
       "      <td>...</td>\n",
       "      <td>...</td>\n",
       "      <td>...</td>\n",
       "      <td>...</td>\n",
       "      <td>...</td>\n",
       "      <td>...</td>\n",
       "      <td>...</td>\n",
       "      <td>...</td>\n",
       "      <td>...</td>\n",
       "      <td>...</td>\n",
       "      <td>...</td>\n",
       "      <td>...</td>\n",
       "      <td>...</td>\n",
       "      <td>...</td>\n",
       "      <td>...</td>\n",
       "      <td>...</td>\n",
       "      <td>...</td>\n",
       "    </tr>\n",
       "    <tr>\n",
       "      <th>947</th>\n",
       "      <td>948</td>\n",
       "      <td>50</td>\n",
       "      <td>RL</td>\n",
       "      <td>48.0</td>\n",
       "      <td>12822</td>\n",
       "      <td>Pave</td>\n",
       "      <td>NA</td>\n",
       "      <td>IR1</td>\n",
       "      <td>Lvl</td>\n",
       "      <td>AllPub</td>\n",
       "      <td>...</td>\n",
       "      <td>0</td>\n",
       "      <td>NA</td>\n",
       "      <td>NA</td>\n",
       "      <td>NA</td>\n",
       "      <td>0</td>\n",
       "      <td>8</td>\n",
       "      <td>2009</td>\n",
       "      <td>WD</td>\n",
       "      <td>Abnorml</td>\n",
       "      <td>239686</td>\n",
       "    </tr>\n",
       "    <tr>\n",
       "      <th>831</th>\n",
       "      <td>832</td>\n",
       "      <td>60</td>\n",
       "      <td>RL</td>\n",
       "      <td>79.0</td>\n",
       "      <td>11646</td>\n",
       "      <td>Pave</td>\n",
       "      <td>NA</td>\n",
       "      <td>IR1</td>\n",
       "      <td>Lvl</td>\n",
       "      <td>AllPub</td>\n",
       "      <td>...</td>\n",
       "      <td>0</td>\n",
       "      <td>NA</td>\n",
       "      <td>NA</td>\n",
       "      <td>NA</td>\n",
       "      <td>0</td>\n",
       "      <td>7</td>\n",
       "      <td>2009</td>\n",
       "      <td>WD</td>\n",
       "      <td>Normal</td>\n",
       "      <td>173000</td>\n",
       "    </tr>\n",
       "    <tr>\n",
       "      <th>1333</th>\n",
       "      <td>1334</td>\n",
       "      <td>70</td>\n",
       "      <td>RM</td>\n",
       "      <td>59.0</td>\n",
       "      <td>5870</td>\n",
       "      <td>Pave</td>\n",
       "      <td>NA</td>\n",
       "      <td>Reg</td>\n",
       "      <td>Lvl</td>\n",
       "      <td>AllPub</td>\n",
       "      <td>...</td>\n",
       "      <td>0</td>\n",
       "      <td>NA</td>\n",
       "      <td>MnPrv</td>\n",
       "      <td>Shed</td>\n",
       "      <td>400</td>\n",
       "      <td>4</td>\n",
       "      <td>2008</td>\n",
       "      <td>WD</td>\n",
       "      <td>Normal</td>\n",
       "      <td>106900</td>\n",
       "    </tr>\n",
       "    <tr>\n",
       "      <th>830</th>\n",
       "      <td>831</td>\n",
       "      <td>20</td>\n",
       "      <td>RL</td>\n",
       "      <td>78.0</td>\n",
       "      <td>11645</td>\n",
       "      <td>Pave</td>\n",
       "      <td>NA</td>\n",
       "      <td>Reg</td>\n",
       "      <td>Lvl</td>\n",
       "      <td>AllPub</td>\n",
       "      <td>...</td>\n",
       "      <td>0</td>\n",
       "      <td>NA</td>\n",
       "      <td>NA</td>\n",
       "      <td>NA</td>\n",
       "      <td>0</td>\n",
       "      <td>3</td>\n",
       "      <td>2009</td>\n",
       "      <td>WD</td>\n",
       "      <td>Normal</td>\n",
       "      <td>237000</td>\n",
       "    </tr>\n",
       "    <tr>\n",
       "      <th>1532</th>\n",
       "      <td>1533</td>\n",
       "      <td>70</td>\n",
       "      <td>RL</td>\n",
       "      <td>74.0</td>\n",
       "      <td>11988</td>\n",
       "      <td>Pave</td>\n",
       "      <td>NA</td>\n",
       "      <td>IR1</td>\n",
       "      <td>HLS</td>\n",
       "      <td>AllPub</td>\n",
       "      <td>...</td>\n",
       "      <td>0</td>\n",
       "      <td>NA</td>\n",
       "      <td>NA</td>\n",
       "      <td>NA</td>\n",
       "      <td>0</td>\n",
       "      <td>8</td>\n",
       "      <td>2008</td>\n",
       "      <td>WD</td>\n",
       "      <td>Normal</td>\n",
       "      <td>188700</td>\n",
       "    </tr>\n",
       "  </tbody>\n",
       "</table>\n",
       "<p>2197 rows × 81 columns</p>\n",
       "</div>"
      ],
      "text/plain": [
       "      Order  MS SubClass MS Zoning  Lot Frontage  Lot Area Street Alley  \\\n",
       "2089   2090           50        RL         104.0     23920   Pave    NA   \n",
       "780     781           20        RL           NaN      9000   Pave    NA   \n",
       "1662   1663           80        RL          70.0     10500   Pave    NA   \n",
       "381     382           20        RL          80.0     10400   Pave    NA   \n",
       "646     647           20        RL          75.0     14559   Pave    NA   \n",
       "...     ...          ...       ...           ...       ...    ...   ...   \n",
       "947     948           50        RL          48.0     12822   Pave    NA   \n",
       "831     832           60        RL          79.0     11646   Pave    NA   \n",
       "1333   1334           70        RM          59.0      5870   Pave    NA   \n",
       "830     831           20        RL          78.0     11645   Pave    NA   \n",
       "1532   1533           70        RL          74.0     11988   Pave    NA   \n",
       "\n",
       "     Lot Shape Land Contour Utilities  ... Pool Area Pool QC  Fence  \\\n",
       "2089       Reg          Lvl    AllPub  ...       444      TA     NA   \n",
       "780        Reg          Lvl    AllPub  ...         0      NA     NA   \n",
       "1662       Reg          Lvl    AllPub  ...         0      NA   GdWo   \n",
       "381        Reg          Lvl    AllPub  ...         0      NA  MnPrv   \n",
       "646        Reg          Lvl    AllPub  ...         0      NA     NA   \n",
       "...        ...          ...       ...  ...       ...     ...    ...   \n",
       "947        IR1          Lvl    AllPub  ...         0      NA     NA   \n",
       "831        IR1          Lvl    AllPub  ...         0      NA     NA   \n",
       "1333       Reg          Lvl    AllPub  ...         0      NA  MnPrv   \n",
       "830        Reg          Lvl    AllPub  ...         0      NA     NA   \n",
       "1532       IR1          HLS    AllPub  ...         0      NA     NA   \n",
       "\n",
       "     Misc Feature Misc Val Mo Sold Yr Sold  Sale Type  Sale Condition  \\\n",
       "2089           NA        0       4    2007        WD           Normal   \n",
       "780            NA        0       6    2009        WD           Normal   \n",
       "1662           NA        0      12    2007        WD           Normal   \n",
       "381            NA        0       6    2009        WD           Family   \n",
       "646          Shed     2000       6    2009        WD           Normal   \n",
       "...           ...      ...     ...     ...        ...             ...   \n",
       "947            NA        0       8    2009        WD          Abnorml   \n",
       "831            NA        0       7    2009        WD           Normal   \n",
       "1333         Shed      400       4    2008        WD           Normal   \n",
       "830            NA        0       3    2009        WD           Normal   \n",
       "1532           NA        0       8    2008        WD           Normal   \n",
       "\n",
       "      SalePrice  \n",
       "2089     228500  \n",
       "780       63900  \n",
       "1662     139000  \n",
       "381      152000  \n",
       "646      164900  \n",
       "...         ...  \n",
       "947      239686  \n",
       "831      173000  \n",
       "1333     106900  \n",
       "830      237000  \n",
       "1532     188700  \n",
       "\n",
       "[2197 rows x 81 columns]"
      ]
     },
     "execution_count": 23,
     "metadata": {},
     "output_type": "execute_result"
    }
   ],
   "source": [
    "# Get subsets into train & test data\r\n",
    "train, test = train_test_split(df, shuffle=True)\r\n",
    "\r\n",
    "# Export train and test data\r\n",
    "train.to_csv('exported_train.csv', index=False)\r\n",
    "test.to_csv('exported_test.csv', index=False)\r\n",
    "\r\n",
    "\r\n",
    "train.drop('Order', axis=1)\r\n",
    "train.drop('PID', axis=1)"
   ]
  },
  {
   "cell_type": "markdown",
   "metadata": {
    "nteract": {
     "transient": {
      "deleting": false
     }
    }
   },
   "source": [
    "## Get Training Data back to Tabular data"
   ]
  },
  {
   "cell_type": "code",
   "execution_count": 33,
   "metadata": {
    "collapsed": true,
    "gather": {
     "logged": 1618702914453
    },
    "jupyter": {
     "outputs_hidden": false,
     "source_hidden": false
    },
    "nteract": {
     "transient": {
      "deleting": false
     }
    }
   },
   "outputs": [
    {
     "name": "stdout",
     "output_type": "stream",
     "text": [
      "Uploading an estimated of 1 files\n",
      "Uploading ./exported_train.csv\n",
      "Uploaded ./exported_train.csv, 1 files out of an estimated total of 1\n",
      "Uploaded 1 files\n"
     ]
    }
   ],
   "source": [
    "datastore = ws.get_default_datastore()\r\n",
    "datastore.upload_files(files = ['./exported_train.csv'])\r\n",
    "\r\n",
    "train_data = Dataset.Tabular.from_delimited_files([(datastore, 'exported_train.csv')])"
   ]
  },
  {
   "cell_type": "markdown",
   "metadata": {},
   "source": [
    "## AutoML Configuration\n",
    "\n"
   ]
  },
  {
   "cell_type": "code",
   "execution_count": 36,
   "metadata": {
    "gather": {
     "logged": 1618702966827
    },
    "jupyter": {
     "outputs_hidden": false,
     "source_hidden": false
    },
    "nteract": {
     "transient": {
      "deleting": false
     }
    }
   },
   "outputs": [],
   "source": [
    "# TODO: Put your automl settings here\n",
    "automl_settings = {\n",
    "    'name': 'udacity_automl_run',\n",
    "    'iterations': 20,\n",
    "    'experiment_timeout_minutes': 20,\n",
    "    'max_concurrent_iterations': 6,\n",
    "    'primary_metric': 'normalized_root_mean_squared_error',\n",
    "    'n_cross_validations': 5,\n",
    "    'enable_early_stopping': True,\n",
    "    'featurization': 'auto'\n",
    "    }\n",
    "\n",
    "# TODO: Put your automl config here\n",
    "automl_config = AutoMLConfig(\n",
    "    task='regression',\n",
    "    training_data = train_data,\n",
    "    label_column_name = 'SalePrice',\n",
    "    debug_log = 'automl_errors.log',\n",
    "    compute_target='compute-price',\n",
    "    **automl_settings,\n",
    "    )"
   ]
  },
  {
   "cell_type": "code",
   "execution_count": 38,
   "metadata": {
    "gather": {
     "logged": 1618703627888
    },
    "jupyter": {
     "outputs_hidden": false,
     "source_hidden": false
    },
    "nteract": {
     "transient": {
      "deleting": false
     }
    }
   },
   "outputs": [
    {
     "name": "stdout",
     "output_type": "stream",
     "text": [
      "Submitting remote run.\n",
      "Running on remote compute: compute-price\n"
     ]
    },
    {
     "data": {
      "text/html": [
       "<table style=\"width:100%\"><tr><th>Experiment</th><th>Id</th><th>Type</th><th>Status</th><th>Details Page</th><th>Docs Page</th></tr><tr><td>predict-housing-prices</td><td>AutoML_0f23fc94-dc45-4346-855e-1006973b5760</td><td>automl</td><td>NotStarted</td><td><a href=\"https://ml.azure.com/runs/AutoML_0f23fc94-dc45-4346-855e-1006973b5760?wsid=/subscriptions/5a4ab2ba-6c51-4805-8155-58759ad589d8/resourcegroups/aml-quickstarts-142974/workspaces/quick-starts-ws-142974&amp;tid=660b3398-b80e-49d2-bc5b-ac1dc93b5254\" target=\"_blank\" rel=\"noopener\">Link to Azure Machine Learning studio</a></td><td><a href=\"https://docs.microsoft.com/en-us/python/api/overview/azure/ml/intro?view=azure-ml-py\" target=\"_blank\" rel=\"noopener\">Link to Documentation</a></td></tr></table>"
      ],
      "text/plain": [
       "<IPython.core.display.HTML object>"
      ]
     },
     "metadata": {},
     "output_type": "display_data"
    },
    {
     "name": "stdout",
     "output_type": "stream",
     "text": [
      "\n",
      "Current status: FeaturesGeneration. Generating features for the dataset.\n",
      "Current status: DatasetCrossValidationSplit. Generating individually featurized CV splits.\n",
      "Current status: ModelSelection. Beginning model selection.\n",
      "\n",
      "****************************************************************************************************\n",
      "DATA GUARDRAILS: \n",
      "\n",
      "TYPE:         Missing feature values imputation\n",
      "STATUS:       DONE\n",
      "DESCRIPTION:  If the missing values are expected, let the run complete. Otherwise cancel the current run and use a script to customize the handling of missing feature values that may be more appropriate based on the data type and business requirement.\n",
      "              Learn more about missing value imputation: https://aka.ms/AutomatedMLFeaturization\n",
      "DETAILS:      \n",
      "+---------------------------------+---------------------------------+---------------------------------+\n",
      "|Column name                      |Missing value count              |Imputation type                  |\n",
      "+=================================+=================================+=================================+\n",
      "|Lot Frontage                     |361                              |mean                             |\n",
      "|Mas Vnr Type                     |19                               |                                 |\n",
      "|Mas Vnr Area                     |19                               |mean                             |\n",
      "|Bsmt Qual                        |1                                |                                 |\n",
      "|Bsmt Cond                        |1                                |                                 |\n",
      "|Bsmt Exposure                    |4                                |                                 |\n",
      "|BsmtFin Type 1                   |1                                |                                 |\n",
      "|BsmtFin SF 1                     |1                                |mean                             |\n",
      "|BsmtFin Type 2                   |2                                |                                 |\n",
      "|BsmtFin SF 2                     |1                                |mean                             |\n",
      "|Bsmt Unf SF                      |1                                |mean                             |\n",
      "|Total Bsmt SF                    |1                                |mean                             |\n",
      "|Electrical                       |1                                |                                 |\n",
      "|Bsmt Full Bath                   |2                                |mean                             |\n",
      "|Bsmt Half Bath                   |2                                |mean                             |\n",
      "|Garage Yr Blt                    |111                              |mean                             |\n",
      "|Garage Finish                    |2                                |                                 |\n",
      "|Garage Cars                      |1                                |mean                             |\n",
      "|Garage Area                      |1                                |mean                             |\n",
      "|Garage Qual                      |1                                |                                 |\n",
      "|Garage Cond                      |1                                |                                 |\n",
      "+---------------------------------+---------------------------------+---------------------------------+\n",
      "\n",
      "****************************************************************************************************\n",
      "\n",
      "TYPE:         High cardinality feature detection\n",
      "STATUS:       PASSED\n",
      "DESCRIPTION:  Your inputs were analyzed, and no high cardinality features were detected.\n",
      "              Learn more about high cardinality feature handling: https://aka.ms/AutomatedMLFeaturization\n",
      "\n",
      "****************************************************************************************************\n",
      "\n",
      "****************************************************************************************************\n",
      "ITERATION: The iteration being evaluated.\n",
      "PIPELINE: A summary description of the pipeline being evaluated.\n",
      "DURATION: Time taken for the current iteration.\n",
      "METRIC: The result of computing score on the fitted pipeline.\n",
      "BEST: The best observed score thus far.\n",
      "****************************************************************************************************\n",
      "\n",
      " ITERATION   PIPELINE                                       DURATION      METRIC      BEST\n",
      "         0   MaxAbsScaler LightGBM                          0:00:45       0.0346    0.0346\n",
      "         3   MaxAbsScaler DecisionTree                      0:00:44       0.0550    0.0346\n",
      "         5   MaxAbsScaler DecisionTree                      0:00:45       0.0518    0.0346\n",
      "         2   StandardScalerWrapper ElasticNet               0:01:01       0.0405    0.0346\n",
      "         9   MaxAbsScaler DecisionTree                      0:00:39       0.0481    0.0346\n",
      "         4   MaxAbsScaler ElasticNet                        0:01:05       0.0403    0.0346\n",
      "         6   MaxAbsScaler DecisionTree                      0:01:34       0.0487    0.0346\n",
      "         1   MaxAbsScaler XGBoostRegressor                  0:01:53       0.0352    0.0346\n",
      "        10   MaxAbsScaler DecisionTree                      0:00:46       0.0500    0.0346\n",
      "        11   MaxAbsScaler DecisionTree                      0:00:42       0.0490    0.0346\n",
      "         7   MaxAbsScaler DecisionTree                      0:01:46       0.0524    0.0346\n",
      "         8   MaxAbsScaler DecisionTree                      0:01:47       0.0550    0.0346\n",
      "        12   MaxAbsScaler DecisionTree                      0:00:55       0.0557    0.0346\n",
      "        13   StandardScalerWrapper DecisionTree             0:00:46       0.0512    0.0346\n",
      "        14   MaxAbsScaler DecisionTree                      0:00:42       0.0583    0.0346\n",
      "        15   MaxAbsScaler DecisionTree                      0:00:40       0.0562    0.0346\n",
      "        16   MaxAbsScaler SGD                               0:00:45       0.0422    0.0346\n",
      "        17   MaxAbsScaler DecisionTree                      0:00:45       0.0477    0.0346\n",
      "        18    VotingEnsemble                                0:00:54       0.0336    0.0336\n",
      "        19    StackEnsemble                                 0:00:52       0.0357    0.0336\n"
     ]
    }
   ],
   "source": [
    "# TODO: Submit your experiment\n",
    "remote_run = experiment.submit(automl_config, show_output=True)"
   ]
  },
  {
   "cell_type": "code",
   "execution_count": 39,
   "metadata": {
    "collapsed": true,
    "gather": {
     "logged": 1618703839825
    },
    "jupyter": {
     "outputs_hidden": false,
     "source_hidden": false
    },
    "nteract": {
     "transient": {
      "deleting": false
     }
    }
   },
   "outputs": [
    {
     "data": {
      "application/vnd.jupyter.widget-view+json": {
       "model_id": "f6f5886314a04922989d5164bfa1db62",
       "version_major": 2,
       "version_minor": 0
      },
      "text/plain": [
       "_AutoMLWidget(widget_settings={'childWidgetDisplay': 'popup', 'send_telemetry': False, 'log_level': 'INFO', 's…"
      ]
     },
     "metadata": {},
     "output_type": "display_data"
    },
    {
     "data": {
      "application/aml.mini.widget.v1": "{\"status\": \"Completed\", \"workbench_run_details_uri\": \"https://ml.azure.com/runs/AutoML_0f23fc94-dc45-4346-855e-1006973b5760?wsid=/subscriptions/5a4ab2ba-6c51-4805-8155-58759ad589d8/resourcegroups/aml-quickstarts-142974/workspaces/quick-starts-ws-142974&tid=660b3398-b80e-49d2-bc5b-ac1dc93b5254\", \"run_id\": \"AutoML_0f23fc94-dc45-4346-855e-1006973b5760\", \"run_properties\": {\"run_id\": \"AutoML_0f23fc94-dc45-4346-855e-1006973b5760\", \"created_utc\": \"2021-04-17T23:43:25.430659Z\", \"properties\": {\"num_iterations\": \"20\", \"training_type\": \"TrainFull\", \"acquisition_function\": \"EI\", \"primary_metric\": \"normalized_root_mean_squared_error\", \"train_split\": \"0\", \"acquisition_parameter\": \"0\", \"num_cross_validation\": \"5\", \"target\": \"compute-price\", \"AMLSettingsJsonString\": \"{\\\"path\\\":null,\\\"name\\\":\\\"udacity_automl_run\\\",\\\"subscription_id\\\":\\\"5a4ab2ba-6c51-4805-8155-58759ad589d8\\\",\\\"resource_group\\\":\\\"aml-quickstarts-142974\\\",\\\"workspace_name\\\":\\\"quick-starts-ws-142974\\\",\\\"region\\\":\\\"southcentralus\\\",\\\"compute_target\\\":\\\"compute-price\\\",\\\"spark_service\\\":null,\\\"azure_service\\\":\\\"remote\\\",\\\"many_models\\\":false,\\\"pipeline_fetch_max_batch_size\\\":1,\\\"enable_batch_run\\\":false,\\\"enable_run_restructure\\\":false,\\\"iterations\\\":20,\\\"primary_metric\\\":\\\"normalized_root_mean_squared_error\\\",\\\"task_type\\\":\\\"regression\\\",\\\"data_script\\\":null,\\\"test_size\\\":0.0,\\\"validation_size\\\":0.0,\\\"n_cross_validations\\\":5,\\\"y_min\\\":null,\\\"y_max\\\":null,\\\"num_classes\\\":null,\\\"featurization\\\":\\\"auto\\\",\\\"_ignore_package_version_incompatibilities\\\":false,\\\"is_timeseries\\\":false,\\\"max_cores_per_iteration\\\":1,\\\"max_concurrent_iterations\\\":6,\\\"iteration_timeout_minutes\\\":null,\\\"mem_in_mb\\\":null,\\\"enforce_time_on_windows\\\":false,\\\"experiment_timeout_minutes\\\":20,\\\"experiment_exit_score\\\":null,\\\"whitelist_models\\\":null,\\\"blacklist_algos\\\":[\\\"TensorFlowDNN\\\",\\\"TensorFlowLinearRegressor\\\"],\\\"supported_models\\\":[\\\"DecisionTree\\\",\\\"ExtremeRandomTrees\\\",\\\"OnlineGradientDescentRegressor\\\",\\\"TensorFlowDNN\\\",\\\"FastLinearRegressor\\\",\\\"XGBoostRegressor\\\",\\\"LassoLars\\\",\\\"SGD\\\",\\\"LightGBM\\\",\\\"TensorFlowLinearRegressor\\\",\\\"RandomForest\\\",\\\"KNN\\\",\\\"ElasticNet\\\",\\\"GradientBoosting\\\"],\\\"private_models\\\":[],\\\"auto_blacklist\\\":true,\\\"blacklist_samples_reached\\\":false,\\\"exclude_nan_labels\\\":true,\\\"verbosity\\\":20,\\\"_debug_log\\\":\\\"azureml_automl.log\\\",\\\"show_warnings\\\":false,\\\"model_explainability\\\":true,\\\"service_url\\\":null,\\\"sdk_url\\\":null,\\\"sdk_packages\\\":null,\\\"enable_onnx_compatible_models\\\":false,\\\"enable_split_onnx_featurizer_estimator_models\\\":false,\\\"vm_type\\\":\\\"STANDARD_DS12_V2\\\",\\\"telemetry_verbosity\\\":20,\\\"send_telemetry\\\":true,\\\"enable_dnn\\\":false,\\\"scenario\\\":\\\"SDK-1.13.0\\\",\\\"environment_label\\\":null,\\\"save_mlflow\\\":false,\\\"force_text_dnn\\\":false,\\\"enable_feature_sweeping\\\":true,\\\"enable_early_stopping\\\":true,\\\"early_stopping_n_iters\\\":10,\\\"metrics\\\":null,\\\"enable_metric_confidence\\\":false,\\\"enable_ensembling\\\":true,\\\"enable_stack_ensembling\\\":true,\\\"ensemble_iterations\\\":15,\\\"enable_tf\\\":false,\\\"enable_subsampling\\\":false,\\\"subsample_seed\\\":null,\\\"enable_nimbusml\\\":false,\\\"enable_streaming\\\":false,\\\"force_streaming\\\":false,\\\"track_child_runs\\\":true,\\\"allowed_private_models\\\":[],\\\"label_column_name\\\":\\\"SalePrice\\\",\\\"weight_column_name\\\":null,\\\"cv_split_column_names\\\":null,\\\"enable_local_managed\\\":false,\\\"_local_managed_run_id\\\":null,\\\"cost_mode\\\":1,\\\"lag_length\\\":0,\\\"metric_operation\\\":\\\"minimize\\\",\\\"preprocess\\\":true}\", \"DataPrepJsonString\": \"{\\\\\\\"training_data\\\\\\\": {\\\\\\\"datasetId\\\\\\\": \\\\\\\"565bf7fd-27e1-4371-8a67-6ff12e523c82\\\\\\\"}, \\\\\\\"datasets\\\\\\\": 0}\", \"EnableSubsampling\": \"False\", \"runTemplate\": \"AutoML\", \"azureml.runsource\": \"automl\", \"display_task_type\": \"regression\", \"dependencies_versions\": \"{\\\"azureml-widgets\\\": \\\"1.26.0\\\", \\\"azureml-train\\\": \\\"1.26.0\\\", \\\"azureml-train-restclients-hyperdrive\\\": \\\"1.26.0\\\", \\\"azureml-train-core\\\": \\\"1.26.0\\\", \\\"azureml-train-automl\\\": \\\"1.26.0\\\", \\\"azureml-train-automl-runtime\\\": \\\"1.26.0\\\", \\\"azureml-train-automl-client\\\": \\\"1.26.0\\\", \\\"azureml-tensorboard\\\": \\\"1.26.0\\\", \\\"azureml-telemetry\\\": \\\"1.26.0\\\", \\\"azureml-sdk\\\": \\\"1.26.0\\\", \\\"azureml-samples\\\": \\\"0+unknown\\\", \\\"azureml-pipeline\\\": \\\"1.26.0\\\", \\\"azureml-pipeline-steps\\\": \\\"1.26.0\\\", \\\"azureml-pipeline-core\\\": \\\"1.26.0\\\", \\\"azureml-opendatasets\\\": \\\"1.26.0\\\", \\\"azureml-model-management-sdk\\\": \\\"1.0.1b6.post1\\\", \\\"azureml-mlflow\\\": \\\"1.26.0\\\", \\\"azureml-interpret\\\": \\\"1.26.0\\\", \\\"azureml-explain-model\\\": \\\"1.26.0\\\", \\\"azureml-defaults\\\": \\\"1.26.0\\\", \\\"azureml-dataset-runtime\\\": \\\"1.26.0\\\", \\\"azureml-dataprep\\\": \\\"2.13.2\\\", \\\"azureml-dataprep-rslex\\\": \\\"1.11.2\\\", \\\"azureml-dataprep-native\\\": \\\"32.0.0\\\", \\\"azureml-datadrift\\\": \\\"1.26.0\\\", \\\"azureml-core\\\": \\\"1.26.0\\\", \\\"azureml-contrib-services\\\": \\\"1.26.0\\\", \\\"azureml-contrib-server\\\": \\\"1.26.0\\\", \\\"azureml-contrib-reinforcementlearning\\\": \\\"1.26.0\\\", \\\"azureml-contrib-pipeline-steps\\\": \\\"1.26.0\\\", \\\"azureml-contrib-notebook\\\": \\\"1.26.0\\\", \\\"azureml-contrib-gbdt\\\": \\\"1.26.0\\\", \\\"azureml-contrib-fairness\\\": \\\"1.26.0\\\", \\\"azureml-contrib-dataset\\\": \\\"1.26.0\\\", \\\"azureml-cli-common\\\": \\\"1.26.0\\\", \\\"azureml-automl-runtime\\\": \\\"1.26.0\\\", \\\"azureml-automl-dnn-nlp\\\": \\\"1.26.0\\\", \\\"azureml-automl-core\\\": \\\"1.26.0\\\", \\\"azureml-accel-models\\\": \\\"1.26.0\\\"}\", \"_aml_system_scenario_identification\": \"Remote.Parent\", \"ClientType\": \"SDK\", \"environment_cpu_name\": \"AzureML-AutoML\", \"environment_cpu_label\": \"prod\", \"environment_gpu_name\": \"AzureML-AutoML-GPU\", \"environment_gpu_label\": \"prod\", \"root_attribution\": \"automl\", \"attribution\": \"AutoML\", \"Orchestrator\": \"AutoML\", \"CancelUri\": \"https://southcentralus.experiments.azureml.net/jasmine/v1.0/subscriptions/5a4ab2ba-6c51-4805-8155-58759ad589d8/resourceGroups/aml-quickstarts-142974/providers/Microsoft.MachineLearningServices/workspaces/quick-starts-ws-142974/experimentids/4f1a1fbc-261a-455e-bf56-ab83e8b841e0/cancel/AutoML_0f23fc94-dc45-4346-855e-1006973b5760\", \"ClientSdkVersion\": \"1.25.0\", \"snapshotId\": \"00000000-0000-0000-0000-000000000000\", \"SetupRunId\": \"AutoML_0f23fc94-dc45-4346-855e-1006973b5760_setup\", \"SetupRunContainerId\": \"dcid.AutoML_0f23fc94-dc45-4346-855e-1006973b5760_setup\", \"FeaturizationRunJsonPath\": \"featurizer_container.json\", \"FeaturizationRunId\": \"AutoML_0f23fc94-dc45-4346-855e-1006973b5760_featurize\", \"ProblemInfoJsonString\": \"{\\\"dataset_num_categorical\\\": 0, \\\"is_sparse\\\": true, \\\"subsampling\\\": false, \\\"dataset_classes\\\": 864, \\\"dataset_features\\\": 484, \\\"dataset_samples\\\": 2197, \\\"single_frequency_class_detected\\\": false}\", \"ModelExplainRunId\": \"AutoML_0f23fc94-dc45-4346-855e-1006973b5760_ModelExplain\"}, \"tags\": {\"model_explain_run\": \"best_run\", \"_aml_system_azureml.automlComponent\": \"AutoML\", \"pipeline_id\": \"\", \"score\": \"\", \"predicted_cost\": \"\", \"fit_time\": \"\", \"training_percent\": \"\", \"iteration\": \"\", \"run_preprocessor\": \"\", \"run_algorithm\": \"\", \"automl_best_child_run_id\": \"AutoML_0f23fc94-dc45-4346-855e-1006973b5760_18\", \"model_explain_best_run_child_id\": \"AutoML_0f23fc94-dc45-4346-855e-1006973b5760_18\"}, \"end_time_utc\": \"2021-04-17T23:53:35.711277Z\", \"status\": \"Completed\", \"log_files\": {}, \"log_groups\": [], \"run_duration\": \"0:10:10\", \"run_number\": \"3\", \"run_queued_details\": {\"status\": \"Completed\", \"details\": null}}, \"child_runs\": [{\"run_id\": \"AutoML_0f23fc94-dc45-4346-855e-1006973b5760_0\", \"run_number\": 7, \"metric\": null, \"status\": \"Completed\", \"run_type\": \"azureml.scriptrun\", \"training_percent\": \"100\", \"start_time\": \"2021-04-17T23:47:13.177194Z\", \"end_time\": \"2021-04-17T23:47:58.048806Z\", \"created_time\": \"2021-04-17T23:47:02.233437Z\", \"created_time_dt\": \"2021-04-17T23:47:02.233437Z\", \"duration\": \"0:00:55\", \"iteration\": \"0\", \"goal\": \"normalized_root_mean_squared_error_min\", \"run_name\": \"MaxAbsScaler, LightGBM\", \"run_properties\": \"copy=True\", \"primary_metric\": 0.03459339, \"best_metric\": 0.03459339}, {\"run_id\": \"AutoML_0f23fc94-dc45-4346-855e-1006973b5760_2\", \"run_number\": 8, \"metric\": null, \"status\": \"Completed\", \"run_type\": \"azureml.scriptrun\", \"training_percent\": \"100\", \"start_time\": \"2021-04-17T23:48:17.080243Z\", \"end_time\": \"2021-04-17T23:49:18.225274Z\", \"created_time\": \"2021-04-17T23:47:02.362058Z\", \"created_time_dt\": \"2021-04-17T23:47:02.362058Z\", \"duration\": \"0:02:15\", \"iteration\": \"2\", \"goal\": \"normalized_root_mean_squared_error_min\", \"run_name\": \"StandardScalerWrapper, ElasticNet\", \"run_properties\": \"<azureml.automl.runtime.shared.model_wrappers.StandardScalerWrapper object at 0x7f2a08f7fe10\", \"primary_metric\": 0.04053758, \"best_metric\": 0.03459339}, {\"run_id\": \"AutoML_0f23fc94-dc45-4346-855e-1006973b5760_5\", \"run_number\": 9, \"metric\": null, \"status\": \"Completed\", \"run_type\": \"azureml.scriptrun\", \"training_percent\": \"100\", \"start_time\": \"2021-04-17T23:48:18.050565Z\", \"end_time\": \"2021-04-17T23:49:03.471596Z\", \"created_time\": \"2021-04-17T23:47:02.373272Z\", \"created_time_dt\": \"2021-04-17T23:47:02.373272Z\", \"duration\": \"0:02:01\", \"iteration\": \"5\", \"goal\": \"normalized_root_mean_squared_error_min\", \"run_name\": \"MaxAbsScaler, DecisionTree\", \"run_properties\": \"copy=True\", \"primary_metric\": 0.05176479, \"best_metric\": 0.03459339}, {\"run_id\": \"AutoML_0f23fc94-dc45-4346-855e-1006973b5760_1\", \"run_number\": 10, \"metric\": null, \"status\": \"Completed\", \"run_type\": \"azureml.scriptrun\", \"training_percent\": \"100\", \"start_time\": \"2021-04-17T23:49:30.026889Z\", \"end_time\": \"2021-04-17T23:51:22.692739Z\", \"created_time\": \"2021-04-17T23:47:02.402566Z\", \"created_time_dt\": \"2021-04-17T23:47:02.402566Z\", \"duration\": \"0:04:20\", \"iteration\": \"1\", \"goal\": \"normalized_root_mean_squared_error_min\", \"run_name\": \"MaxAbsScaler, XGBoostRegressor\", \"run_properties\": \"copy=True\", \"primary_metric\": 0.03521118, \"best_metric\": 0.03459339}, {\"run_id\": \"AutoML_0f23fc94-dc45-4346-855e-1006973b5760_4\", \"run_number\": 11, \"metric\": null, \"status\": \"Completed\", \"run_type\": \"azureml.scriptrun\", \"training_percent\": \"100\", \"start_time\": \"2021-04-17T23:49:19.660183Z\", \"end_time\": \"2021-04-17T23:50:24.371745Z\", \"created_time\": \"2021-04-17T23:47:02.417012Z\", \"created_time_dt\": \"2021-04-17T23:47:02.417012Z\", \"duration\": \"0:03:21\", \"iteration\": \"4\", \"goal\": \"normalized_root_mean_squared_error_min\", \"run_name\": \"MaxAbsScaler, ElasticNet\", \"run_properties\": \"copy=True\", \"primary_metric\": 0.04029883, \"best_metric\": 0.03459339}, {\"run_id\": \"AutoML_0f23fc94-dc45-4346-855e-1006973b5760_3\", \"run_number\": 12, \"metric\": null, \"status\": \"Completed\", \"run_type\": \"azureml.scriptrun\", \"training_percent\": \"100\", \"start_time\": \"2021-04-17T23:47:18.898685Z\", \"end_time\": \"2021-04-17T23:48:03.375542Z\", \"created_time\": \"2021-04-17T23:47:02.374272Z\", \"created_time_dt\": \"2021-04-17T23:47:02.374272Z\", \"duration\": \"0:01:01\", \"iteration\": \"3\", \"goal\": \"normalized_root_mean_squared_error_min\", \"run_name\": \"MaxAbsScaler, DecisionTree\", \"run_properties\": \"copy=True\", \"primary_metric\": 0.05500648, \"best_metric\": 0.03459339}, {\"run_id\": \"AutoML_0f23fc94-dc45-4346-855e-1006973b5760_6\", \"run_number\": 13, \"metric\": null, \"status\": \"Completed\", \"run_type\": \"azureml.scriptrun\", \"training_percent\": \"100\", \"start_time\": \"2021-04-17T23:49:29.175232Z\", \"end_time\": \"2021-04-17T23:51:03.581681Z\", \"created_time\": \"2021-04-17T23:47:59.756231Z\", \"created_time_dt\": \"2021-04-17T23:47:59.756231Z\", \"duration\": \"0:03:03\", \"iteration\": \"6\", \"goal\": \"normalized_root_mean_squared_error_min\", \"run_name\": \"MaxAbsScaler, DecisionTree\", \"run_properties\": \"copy=True\", \"primary_metric\": 0.04870416, \"best_metric\": 0.03459339}, {\"run_id\": \"AutoML_0f23fc94-dc45-4346-855e-1006973b5760_7\", \"run_number\": 14, \"metric\": null, \"status\": \"Completed\", \"run_type\": \"azureml.scriptrun\", \"training_percent\": \"100\", \"start_time\": \"2021-04-17T23:49:29.241164Z\", \"end_time\": \"2021-04-17T23:51:15.02632Z\", \"created_time\": \"2021-04-17T23:48:06.986165Z\", \"created_time_dt\": \"2021-04-17T23:48:06.986165Z\", \"duration\": \"0:03:08\", \"iteration\": \"7\", \"goal\": \"normalized_root_mean_squared_error_min\", \"run_name\": \"MaxAbsScaler, DecisionTree\", \"run_properties\": \"copy=True\", \"primary_metric\": 0.05236983, \"best_metric\": 0.03459339}, {\"run_id\": \"AutoML_0f23fc94-dc45-4346-855e-1006973b5760_8\", \"run_number\": 15, \"metric\": null, \"status\": \"Completed\", \"run_type\": \"azureml.scriptrun\", \"training_percent\": \"100\", \"start_time\": \"2021-04-17T23:49:29.491875Z\", \"end_time\": \"2021-04-17T23:51:16.942953Z\", \"created_time\": \"2021-04-17T23:49:07.72817Z\", \"created_time_dt\": \"2021-04-17T23:49:07.72817Z\", \"duration\": \"0:02:09\", \"iteration\": \"8\", \"goal\": \"normalized_root_mean_squared_error_min\", \"run_name\": \"MaxAbsScaler, DecisionTree\", \"run_properties\": \"copy=True\", \"primary_metric\": 0.05502623, \"best_metric\": 0.03459339}, {\"run_id\": \"AutoML_0f23fc94-dc45-4346-855e-1006973b5760_9\", \"run_number\": 16, \"metric\": null, \"status\": \"Completed\", \"run_type\": \"azureml.scriptrun\", \"training_percent\": \"100\", \"start_time\": \"2021-04-17T23:49:33.423806Z\", \"end_time\": \"2021-04-17T23:50:12.612252Z\", \"created_time\": \"2021-04-17T23:49:23.342678Z\", \"created_time_dt\": \"2021-04-17T23:49:23.342678Z\", \"duration\": \"0:00:49\", \"iteration\": \"9\", \"goal\": \"normalized_root_mean_squared_error_min\", \"run_name\": \"MaxAbsScaler, DecisionTree\", \"run_properties\": \"copy=True\", \"primary_metric\": 0.04813238, \"best_metric\": 0.03459339}, {\"run_id\": \"AutoML_0f23fc94-dc45-4346-855e-1006973b5760_10\", \"run_number\": 17, \"metric\": null, \"status\": \"Completed\", \"run_type\": \"azureml.scriptrun\", \"training_percent\": \"100\", \"start_time\": \"2021-04-17T23:50:30.60304Z\", \"end_time\": \"2021-04-17T23:51:16.9503Z\", \"created_time\": \"2021-04-17T23:50:16.608117Z\", \"created_time_dt\": \"2021-04-17T23:50:16.608117Z\", \"duration\": \"0:01:00\", \"iteration\": \"10\", \"goal\": \"normalized_root_mean_squared_error_min\", \"run_name\": \"MaxAbsScaler, DecisionTree\", \"run_properties\": \"copy=True\", \"primary_metric\": 0.04996122, \"best_metric\": 0.03459339}, {\"run_id\": \"AutoML_0f23fc94-dc45-4346-855e-1006973b5760_11\", \"run_number\": 18, \"metric\": null, \"status\": \"Completed\", \"run_type\": \"azureml.scriptrun\", \"training_percent\": \"100\", \"start_time\": \"2021-04-17T23:50:36.597356Z\", \"end_time\": \"2021-04-17T23:51:18.772508Z\", \"created_time\": \"2021-04-17T23:50:28.167604Z\", \"created_time_dt\": \"2021-04-17T23:50:28.167604Z\", \"duration\": \"0:00:50\", \"iteration\": \"11\", \"goal\": \"normalized_root_mean_squared_error_min\", \"run_name\": \"MaxAbsScaler, DecisionTree\", \"run_properties\": \"copy=True\", \"primary_metric\": 0.0490324, \"best_metric\": 0.03459339}, {\"run_id\": \"AutoML_0f23fc94-dc45-4346-855e-1006973b5760_12\", \"run_number\": 19, \"metric\": null, \"status\": \"Completed\", \"run_type\": \"azureml.scriptrun\", \"training_percent\": \"100\", \"start_time\": \"2021-04-17T23:51:19.386204Z\", \"end_time\": \"2021-04-17T23:52:14.768115Z\", \"created_time\": \"2021-04-17T23:51:07.542233Z\", \"created_time_dt\": \"2021-04-17T23:51:07.542233Z\", \"duration\": \"0:01:07\", \"iteration\": \"12\", \"goal\": \"normalized_root_mean_squared_error_min\", \"run_name\": \"MaxAbsScaler, DecisionTree\", \"run_properties\": \"copy=True\", \"primary_metric\": 0.05566101, \"best_metric\": 0.03459339}, {\"run_id\": \"AutoML_0f23fc94-dc45-4346-855e-1006973b5760_13\", \"run_number\": 20, \"metric\": null, \"status\": \"Completed\", \"run_type\": \"azureml.scriptrun\", \"training_percent\": \"100\", \"start_time\": \"2021-04-17T23:51:30.198825Z\", \"end_time\": \"2021-04-17T23:52:15.733982Z\", \"created_time\": \"2021-04-17T23:51:19.648653Z\", \"created_time_dt\": \"2021-04-17T23:51:19.648653Z\", \"duration\": \"0:00:56\", \"iteration\": \"13\", \"goal\": \"normalized_root_mean_squared_error_min\", \"run_name\": \"StandardScalerWrapper, DecisionTree\", \"run_properties\": \"<azureml.automl.runtime.shared.model_wrappers.StandardScalerWrapper object at 0x7f2c25851390\", \"primary_metric\": 0.0512164, \"best_metric\": 0.03459339}, {\"run_id\": \"AutoML_0f23fc94-dc45-4346-855e-1006973b5760_14\", \"run_number\": 21, \"metric\": null, \"status\": \"Completed\", \"run_type\": \"azureml.scriptrun\", \"training_percent\": \"100\", \"start_time\": \"2021-04-17T23:51:34.67838Z\", \"end_time\": \"2021-04-17T23:52:16.598809Z\", \"created_time\": \"2021-04-17T23:51:26.059642Z\", \"created_time_dt\": \"2021-04-17T23:51:26.059642Z\", \"duration\": \"0:00:50\", \"iteration\": \"14\", \"goal\": \"normalized_root_mean_squared_error_min\", \"run_name\": \"MaxAbsScaler, DecisionTree\", \"run_properties\": \"copy=True\", \"primary_metric\": 0.05829577, \"best_metric\": 0.03459339}, {\"run_id\": \"AutoML_0f23fc94-dc45-4346-855e-1006973b5760_15\", \"run_number\": 22, \"metric\": null, \"status\": \"Completed\", \"run_type\": \"azureml.scriptrun\", \"training_percent\": \"100\", \"start_time\": \"2021-04-17T23:51:36.914981Z\", \"end_time\": \"2021-04-17T23:52:16.805396Z\", \"created_time\": \"2021-04-17T23:51:26.181172Z\", \"created_time_dt\": \"2021-04-17T23:51:26.181172Z\", \"duration\": \"0:00:50\", \"iteration\": \"15\", \"goal\": \"normalized_root_mean_squared_error_min\", \"run_name\": \"MaxAbsScaler, DecisionTree\", \"run_properties\": \"copy=True\", \"primary_metric\": 0.05618468, \"best_metric\": 0.03459339}, {\"run_id\": \"AutoML_0f23fc94-dc45-4346-855e-1006973b5760_16\", \"run_number\": 23, \"metric\": null, \"status\": \"Completed\", \"run_type\": \"azureml.scriptrun\", \"training_percent\": \"100\", \"start_time\": \"2021-04-17T23:51:35.080408Z\", \"end_time\": \"2021-04-17T23:52:20.229063Z\", \"created_time\": \"2021-04-17T23:51:26.19184Z\", \"created_time_dt\": \"2021-04-17T23:51:26.19184Z\", \"duration\": \"0:00:54\", \"iteration\": \"16\", \"goal\": \"normalized_root_mean_squared_error_min\", \"run_name\": \"MaxAbsScaler, SGD\", \"run_properties\": \"copy=True\", \"primary_metric\": 0.04218131, \"best_metric\": 0.03459339}, {\"run_id\": \"AutoML_0f23fc94-dc45-4346-855e-1006973b5760_17\", \"run_number\": 24, \"metric\": null, \"status\": \"Completed\", \"run_type\": \"azureml.scriptrun\", \"training_percent\": \"100\", \"start_time\": \"2021-04-17T23:51:42.886728Z\", \"end_time\": \"2021-04-17T23:52:27.563149Z\", \"created_time\": \"2021-04-17T23:51:32.526628Z\", \"created_time_dt\": \"2021-04-17T23:51:32.526628Z\", \"duration\": \"0:00:55\", \"iteration\": \"17\", \"goal\": \"normalized_root_mean_squared_error_min\", \"run_name\": \"MaxAbsScaler, DecisionTree\", \"run_properties\": \"copy=True\", \"primary_metric\": 0.04767348, \"best_metric\": 0.03459339}, {\"run_id\": \"AutoML_0f23fc94-dc45-4346-855e-1006973b5760_18\", \"run_number\": 25, \"metric\": null, \"status\": \"Completed\", \"run_type\": \"azureml.scriptrun\", \"training_percent\": \"100\", \"start_time\": \"2021-04-17T23:52:39.041534Z\", \"end_time\": \"2021-04-17T23:53:32.9608Z\", \"created_time\": \"2021-04-17T23:52:28.759662Z\", \"created_time_dt\": \"2021-04-17T23:52:28.759662Z\", \"duration\": \"0:01:04\", \"iteration\": \"18\", \"goal\": \"normalized_root_mean_squared_error_min\", \"run_name\": \"VotingEnsemble\", \"run_properties\": \"estimators=[('0',\\n                                          Pipeline(memory=None,\\n                                                   steps=[('maxabsscaler',\\n                                                           MaxAbsScaler(copy=True\", \"primary_metric\": 0.03357215, \"best_metric\": 0.03357215}, {\"run_id\": \"AutoML_0f23fc94-dc45-4346-855e-1006973b5760_19\", \"run_number\": 26, \"metric\": null, \"status\": \"Completed\", \"run_type\": \"azureml.scriptrun\", \"training_percent\": \"100\", \"start_time\": \"2021-04-17T23:52:39.446588Z\", \"end_time\": \"2021-04-17T23:53:31.697172Z\", \"created_time\": \"2021-04-17T23:52:28.968461Z\", \"created_time_dt\": \"2021-04-17T23:52:28.968461Z\", \"duration\": \"0:01:02\", \"iteration\": \"19\", \"goal\": \"normalized_root_mean_squared_error_min\", \"run_name\": \"StackEnsemble\", \"run_properties\": \"base_learners=[('0',\\n                                       Pipeline(memory=None,\\n                                                steps=[('maxabsscaler',\\n                                                        MaxAbsScaler(copy=True\", \"primary_metric\": 0.03570401, \"best_metric\": 0.03357215}], \"children_metrics\": {\"categories\": [0], \"series\": {\"root_mean_squared_log_error\": [{\"categories\": [\"0\", \"1\", \"2\", \"3\", \"4\", \"5\", \"6\", \"7\", \"8\", \"9\", \"10\", \"11\", \"12\", \"13\", \"14\", \"15\", \"16\", \"17\", \"18\", \"19\"], \"mode\": \"markers\", \"name\": \"root_mean_squared_log_error\", \"stepped\": false, \"type\": \"scatter\", \"data\": [0.13387881894782247, 0.14079916467132575, 0.16544712734885259, 0.2123954200764216, 0.16338043490835727, 0.2006263202994508, 0.1928045796908981, 0.20398962040535565, 0.21287567614267963, 0.19366986842819522, 0.1968653541896809, 0.19404386198449086, 0.2116400455062303, 0.19970789972045094, 0.22260309222247227, 0.21832087296803696, 0.16677624403345687, 0.19157545801967144, 0.13094863664849818, 0.13465099063484284]}, {\"categories\": [\"0\", \"1\", \"2\", \"3\", \"4\", \"5\", \"6\", \"7\", \"8\", \"9\", \"10\", \"11\", \"12\", \"13\", \"14\", \"15\", \"16\", \"17\", \"18\", \"19\"], \"mode\": \"lines\", \"name\": \"root_mean_squared_log_error_min\", \"stepped\": true, \"type\": \"scatter\", \"data\": [0.13387881894782247, 0.13387881894782247, 0.13387881894782247, 0.13387881894782247, 0.13387881894782247, 0.13387881894782247, 0.13387881894782247, 0.13387881894782247, 0.13387881894782247, 0.13387881894782247, 0.13387881894782247, 0.13387881894782247, 0.13387881894782247, 0.13387881894782247, 0.13387881894782247, 0.13387881894782247, 0.13387881894782247, 0.13387881894782247, 0.13094863664849818, 0.13094863664849818]}], \"r2_score\": [{\"categories\": [\"0\", \"1\", \"2\", \"3\", \"4\", \"5\", \"6\", \"7\", \"8\", \"9\", \"10\", \"11\", \"12\", \"13\", \"14\", \"15\", \"16\", \"17\", \"18\", \"19\"], \"mode\": \"markers\", \"name\": \"r2_score\", \"stepped\": false, \"type\": \"scatter\", \"data\": [0.8949465429175184, 0.889217788373035, 0.8407450181314978, 0.7381026253099197, 0.8444868664493207, 0.7677178474382771, 0.7940372763889495, 0.7622394566085786, 0.737447474375918, 0.7987378756648814, 0.7834276635253548, 0.7896844819742268, 0.7319074454641455, 0.7713660382044709, 0.7052188796885989, 0.7261283338099699, 0.8328963886699187, 0.8024530398076142, 0.8987423512844135, 0.8832132470968375]}, {\"categories\": [\"0\", \"1\", \"2\", \"3\", \"4\", \"5\", \"6\", \"7\", \"8\", \"9\", \"10\", \"11\", \"12\", \"13\", \"14\", \"15\", \"16\", \"17\", \"18\", \"19\"], \"mode\": \"lines\", \"name\": \"r2_score_max\", \"stepped\": true, \"type\": \"scatter\", \"data\": [0.8949465429175184, 0.8949465429175184, 0.8949465429175184, 0.8949465429175184, 0.8949465429175184, 0.8949465429175184, 0.8949465429175184, 0.8949465429175184, 0.8949465429175184, 0.8949465429175184, 0.8949465429175184, 0.8949465429175184, 0.8949465429175184, 0.8949465429175184, 0.8949465429175184, 0.8949465429175184, 0.8949465429175184, 0.8949465429175184, 0.8987423512844135, 0.8987423512844135]}], \"normalized_mean_absolute_error\": [{\"categories\": [\"0\", \"1\", \"2\", \"3\", \"4\", \"5\", \"6\", \"7\", \"8\", \"9\", \"10\", \"11\", \"12\", \"13\", \"14\", \"15\", \"16\", \"17\", \"18\", \"19\"], \"mode\": \"markers\", \"name\": \"normalized_mean_absolute_error\", \"stepped\": false, \"type\": \"scatter\", \"data\": [0.020102714112142265, 0.021510678322979242, 0.022060820877086544, 0.03599587008929735, 0.022620556610143002, 0.03366125416566369, 0.032217033058333656, 0.03434172685792554, 0.03630208276613099, 0.031680639959151685, 0.03304044183019719, 0.03174454268899207, 0.0359719624818873, 0.03334702341897798, 0.038342988099928886, 0.036924255069904585, 0.0247145881308731, 0.03157722304192741, 0.019172263885181253, 0.019705839477862575]}, {\"categories\": [\"0\", \"1\", \"2\", \"3\", \"4\", \"5\", \"6\", \"7\", \"8\", \"9\", \"10\", \"11\", \"12\", \"13\", \"14\", \"15\", \"16\", \"17\", \"18\", \"19\"], \"mode\": \"lines\", \"name\": \"normalized_mean_absolute_error_min\", \"stepped\": true, \"type\": \"scatter\", \"data\": [0.020102714112142265, 0.020102714112142265, 0.020102714112142265, 0.020102714112142265, 0.020102714112142265, 0.020102714112142265, 0.020102714112142265, 0.020102714112142265, 0.020102714112142265, 0.020102714112142265, 0.020102714112142265, 0.020102714112142265, 0.020102714112142265, 0.020102714112142265, 0.020102714112142265, 0.020102714112142265, 0.020102714112142265, 0.020102714112142265, 0.019172263885181253, 0.019172263885181253]}], \"normalized_median_absolute_error\": [{\"categories\": [\"0\", \"1\", \"2\", \"3\", \"4\", \"5\", \"6\", \"7\", \"8\", \"9\", \"10\", \"11\", \"12\", \"13\", \"14\", \"15\", \"16\", \"17\", \"18\", \"19\"], \"mode\": \"markers\", \"name\": \"normalized_median_absolute_error\", \"stepped\": false, \"type\": \"scatter\", \"data\": [0.012634378768319571, 0.014584677009086177, 0.015030593612256182, 0.022427500720873895, 0.015512724797690586, 0.02175609998004284, 0.02112846818496556, 0.02242700775350167, 0.02377336260852278, 0.020908760315291243, 0.021579347282986598, 0.020748107462697216, 0.022460241097542823, 0.022682403357176355, 0.024981762011306398, 0.023928693905943228, 0.017018617027638277, 0.020856482788815037, 0.01222706870013655, 0.012169840112780248]}, {\"categories\": [\"0\", \"1\", \"2\", \"3\", \"4\", \"5\", \"6\", \"7\", \"8\", \"9\", \"10\", \"11\", \"12\", \"13\", \"14\", \"15\", \"16\", \"17\", \"18\", \"19\"], \"mode\": \"lines\", \"name\": \"normalized_median_absolute_error_min\", \"stepped\": true, \"type\": \"scatter\", \"data\": [0.012634378768319571, 0.012634378768319571, 0.012634378768319571, 0.012634378768319571, 0.012634378768319571, 0.012634378768319571, 0.012634378768319571, 0.012634378768319571, 0.012634378768319571, 0.012634378768319571, 0.012634378768319571, 0.012634378768319571, 0.012634378768319571, 0.012634378768319571, 0.012634378768319571, 0.012634378768319571, 0.012634378768319571, 0.012634378768319571, 0.01222706870013655, 0.012169840112780248]}], \"normalized_root_mean_squared_error\": [{\"categories\": [\"0\", \"1\", \"2\", \"3\", \"4\", \"5\", \"6\", \"7\", \"8\", \"9\", \"10\", \"11\", \"12\", \"13\", \"14\", \"15\", \"16\", \"17\", \"18\", \"19\"], \"mode\": \"markers\", \"name\": \"normalized_root_mean_squared_error\", \"stepped\": false, \"type\": \"scatter\", \"data\": [0.03459339342144292, 0.03521118007386141, 0.04053757883515711, 0.05500648007139973, 0.040298834010541414, 0.051764790481939216, 0.04870415957153148, 0.052369832343300136, 0.05502623389680676, 0.04813238075853596, 0.04996121581152623, 0.049032400694783054, 0.05566100939313774, 0.05121639917377625, 0.05829576527300175, 0.056184682203131865, 0.04218131463896856, 0.047673484048554725, 0.03357214737646978, 0.03570401188648209]}, {\"categories\": [\"0\", \"1\", \"2\", \"3\", \"4\", \"5\", \"6\", \"7\", \"8\", \"9\", \"10\", \"11\", \"12\", \"13\", \"14\", \"15\", \"16\", \"17\", \"18\", \"19\"], \"mode\": \"lines\", \"name\": \"normalized_root_mean_squared_error_min\", \"stepped\": true, \"type\": \"scatter\", \"data\": [0.03459339342144292, 0.03459339342144292, 0.03459339342144292, 0.03459339342144292, 0.03459339342144292, 0.03459339342144292, 0.03459339342144292, 0.03459339342144292, 0.03459339342144292, 0.03459339342144292, 0.03459339342144292, 0.03459339342144292, 0.03459339342144292, 0.03459339342144292, 0.03459339342144292, 0.03459339342144292, 0.03459339342144292, 0.03459339342144292, 0.03357214737646978, 0.03357214737646978]}], \"explained_variance\": [{\"categories\": [\"0\", \"1\", \"2\", \"3\", \"4\", \"5\", \"6\", \"7\", \"8\", \"9\", \"10\", \"11\", \"12\", \"13\", \"14\", \"15\", \"16\", \"17\", \"18\", \"19\"], \"mode\": \"markers\", \"name\": \"explained_variance\", \"stepped\": false, \"type\": \"scatter\", \"data\": [0.8950877543411769, 0.8893068978243965, 0.8412369182077803, 0.7383897869612611, 0.8450492485147197, 0.7680477108522388, 0.7942044730719152, 0.7627560389648723, 0.7379433360069261, 0.7995293157000776, 0.7835551996434647, 0.7899039032984984, 0.732199505392442, 0.7717165196989549, 0.7056155038197385, 0.7267912998861973, 0.8399895982424749, 0.8027622830765221, 0.8988675191930078, 0.8834858885451731]}, {\"categories\": [\"0\", \"1\", \"2\", \"3\", \"4\", \"5\", \"6\", \"7\", \"8\", \"9\", \"10\", \"11\", \"12\", \"13\", \"14\", \"15\", \"16\", \"17\", \"18\", \"19\"], \"mode\": \"lines\", \"name\": \"explained_variance_max\", \"stepped\": true, \"type\": \"scatter\", \"data\": [0.8950877543411769, 0.8950877543411769, 0.8950877543411769, 0.8950877543411769, 0.8950877543411769, 0.8950877543411769, 0.8950877543411769, 0.8950877543411769, 0.8950877543411769, 0.8950877543411769, 0.8950877543411769, 0.8950877543411769, 0.8950877543411769, 0.8950877543411769, 0.8950877543411769, 0.8950877543411769, 0.8950877543411769, 0.8950877543411769, 0.8988675191930078, 0.8988675191930078]}], \"spearman_correlation\": [{\"categories\": [\"0\", \"1\", \"2\", \"3\", \"4\", \"5\", \"6\", \"7\", \"8\", \"9\", \"10\", \"11\", \"12\", \"13\", \"14\", \"15\", \"16\", \"17\", \"18\", \"19\"], \"mode\": \"markers\", \"name\": \"spearman_correlation\", \"stepped\": false, \"type\": \"scatter\", \"data\": [0.9567224601136761, 0.94972390517745, 0.9487870315218917, 0.8636750748850354, 0.9463784351295719, 0.8838539561628711, 0.885123736004903, 0.8789028618683323, 0.866035632863273, 0.8889305810828804, 0.8810565661390198, 0.8876543751652669, 0.8680198758358681, 0.8854198159737425, 0.8513752417409577, 0.8586892127636088, 0.9424221742988228, 0.8878472547977058, 0.9593180676757124, 0.9578057318268034]}, {\"categories\": [\"0\", \"1\", \"2\", \"3\", \"4\", \"5\", \"6\", \"7\", \"8\", \"9\", \"10\", \"11\", \"12\", \"13\", \"14\", \"15\", \"16\", \"17\", \"18\", \"19\"], \"mode\": \"lines\", \"name\": \"spearman_correlation_max\", \"stepped\": true, \"type\": \"scatter\", \"data\": [0.9567224601136761, 0.9567224601136761, 0.9567224601136761, 0.9567224601136761, 0.9567224601136761, 0.9567224601136761, 0.9567224601136761, 0.9567224601136761, 0.9567224601136761, 0.9567224601136761, 0.9567224601136761, 0.9567224601136761, 0.9567224601136761, 0.9567224601136761, 0.9567224601136761, 0.9567224601136761, 0.9567224601136761, 0.9567224601136761, 0.9593180676757124, 0.9593180676757124]}], \"mean_absolute_percentage_error\": [{\"categories\": [\"0\", \"1\", \"2\", \"3\", \"4\", \"5\", \"6\", \"7\", \"8\", \"9\", \"10\", \"11\", \"12\", \"13\", \"14\", \"15\", \"16\", \"17\", \"18\", \"19\"], \"mode\": \"markers\", \"name\": \"mean_absolute_percentage_error\", \"stepped\": false, \"type\": \"scatter\", \"data\": [8.941158663177285, 9.800191197967198, 10.314274918176869, 16.067122670904393, 10.403373998204021, 14.943688718349975, 14.375591369125345, 15.276281092131029, 16.23373514881589, 14.09474011219125, 14.694269852636065, 14.251190928853347, 15.88737392788705, 14.90499707699673, 17.1347129136659, 16.658543368479872, 11.148617397988072, 14.060371945373285, 8.676986840925514, 8.930356598024218]}, {\"categories\": [\"0\", \"1\", \"2\", \"3\", \"4\", \"5\", \"6\", \"7\", \"8\", \"9\", \"10\", \"11\", \"12\", \"13\", \"14\", \"15\", \"16\", \"17\", \"18\", \"19\"], \"mode\": \"lines\", \"name\": \"mean_absolute_percentage_error_min\", \"stepped\": true, \"type\": \"scatter\", \"data\": [8.941158663177285, 8.941158663177285, 8.941158663177285, 8.941158663177285, 8.941158663177285, 8.941158663177285, 8.941158663177285, 8.941158663177285, 8.941158663177285, 8.941158663177285, 8.941158663177285, 8.941158663177285, 8.941158663177285, 8.941158663177285, 8.941158663177285, 8.941158663177285, 8.941158663177285, 8.941158663177285, 8.676986840925514, 8.676986840925514]}], \"median_absolute_error\": [{\"categories\": [\"0\", \"1\", \"2\", \"3\", \"4\", \"5\", \"6\", \"7\", \"8\", \"9\", \"10\", \"11\", \"12\", \"13\", \"14\", \"15\", \"16\", \"17\", \"18\", \"19\"], \"mode\": \"markers\", \"name\": \"median_absolute_error\", \"stepped\": false, \"type\": \"scatter\", \"data\": [9251.03111233004, 10679.0609375, 11005.56597942371, 16421.662730331795, 11358.58773684182, 15930.055722487148, 15470.49681818182, 16421.301774199215, 17407.117608949073, 15309.624299219717, 15800.6354534229, 15191.992513368989, 16445.63559427293, 16608.305244561452, 18291.920944060672, 17520.852893564595, 12461.218592424051, 15271.346119281046, 8952.794199995682, 8910.890798818938]}, {\"categories\": [\"0\", \"1\", \"2\", \"3\", \"4\", \"5\", \"6\", \"7\", \"8\", \"9\", \"10\", \"11\", \"12\", \"13\", \"14\", \"15\", \"16\", \"17\", \"18\", \"19\"], \"mode\": \"lines\", \"name\": \"median_absolute_error_min\", \"stepped\": true, \"type\": \"scatter\", \"data\": [9251.03111233004, 9251.03111233004, 9251.03111233004, 9251.03111233004, 9251.03111233004, 9251.03111233004, 9251.03111233004, 9251.03111233004, 9251.03111233004, 9251.03111233004, 9251.03111233004, 9251.03111233004, 9251.03111233004, 9251.03111233004, 9251.03111233004, 9251.03111233004, 9251.03111233004, 9251.03111233004, 8952.794199995682, 8910.890798818938]}], \"mean_absolute_error\": [{\"categories\": [\"0\", \"1\", \"2\", \"3\", \"4\", \"5\", \"6\", \"7\", \"8\", \"9\", \"10\", \"11\", \"12\", \"13\", \"14\", \"15\", \"16\", \"17\", \"18\", \"19\"], \"mode\": \"markers\", \"name\": \"mean_absolute_error\", \"stepped\": false, \"type\": \"scatter\", \"data\": [14719.428402765796, 15750.355285546957, 16153.175715232413, 26356.5720339545, 16563.02037606942, 24647.14057389478, 23589.665992675546, 25145.390164368517, 26580.784324271546, 23196.913065130415, 24192.574952930514, 23243.703346849576, 26339.06662082517, 24417.057364633285, 28075.157659637032, 27036.3457289899, 18096.293289894726, 23121.190060752706, 14038.14251163245, 14428.832429925233]}, {\"categories\": [\"0\", \"1\", \"2\", \"3\", \"4\", \"5\", \"6\", \"7\", \"8\", \"9\", \"10\", \"11\", \"12\", \"13\", \"14\", \"15\", \"16\", \"17\", \"18\", \"19\"], \"mode\": \"lines\", \"name\": \"mean_absolute_error_min\", \"stepped\": true, \"type\": \"scatter\", \"data\": [14719.428402765796, 14719.428402765796, 14719.428402765796, 14719.428402765796, 14719.428402765796, 14719.428402765796, 14719.428402765796, 14719.428402765796, 14719.428402765796, 14719.428402765796, 14719.428402765796, 14719.428402765796, 14719.428402765796, 14719.428402765796, 14719.428402765796, 14719.428402765796, 14719.428402765796, 14719.428402765796, 14038.14251163245, 14038.14251163245]}], \"root_mean_squared_error\": [{\"categories\": [\"0\", \"1\", \"2\", \"3\", \"4\", \"5\", \"6\", \"7\", \"8\", \"9\", \"10\", \"11\", \"12\", \"13\", \"14\", \"15\", \"16\", \"17\", \"18\", \"19\"], \"mode\": \"markers\", \"name\": \"root_mean_squared_error\", \"stepped\": false, \"type\": \"scatter\", \"data\": [25329.663190508145, 25782.01337306214, 29682.061136469223, 40276.34977955968, 29507.249549692537, 37902.74900357119, 35661.721384030636, 38345.767309920135, 40290.813747814784, 35243.058647588376, 36582.151790573436, 35902.06314512779, 40755.60334875878, 37501.210855429876, 42684.80058630989, 41139.04234063739, 30885.622573113815, 34907.0494286763, 24581.89560267231, 26142.870247412942]}, {\"categories\": [\"0\", \"1\", \"2\", \"3\", \"4\", \"5\", \"6\", \"7\", \"8\", \"9\", \"10\", \"11\", \"12\", \"13\", \"14\", \"15\", \"16\", \"17\", \"18\", \"19\"], \"mode\": \"lines\", \"name\": \"root_mean_squared_error_min\", \"stepped\": true, \"type\": \"scatter\", \"data\": [25329.663190508145, 25329.663190508145, 25329.663190508145, 25329.663190508145, 25329.663190508145, 25329.663190508145, 25329.663190508145, 25329.663190508145, 25329.663190508145, 25329.663190508145, 25329.663190508145, 25329.663190508145, 25329.663190508145, 25329.663190508145, 25329.663190508145, 25329.663190508145, 25329.663190508145, 25329.663190508145, 24581.89560267231, 24581.89560267231]}], \"normalized_root_mean_squared_log_error\": [{\"categories\": [\"0\", \"1\", \"2\", \"3\", \"4\", \"5\", \"6\", \"7\", \"8\", \"9\", \"10\", \"11\", \"12\", \"13\", \"14\", \"15\", \"16\", \"17\", \"18\", \"19\"], \"mode\": \"markers\", \"name\": \"normalized_root_mean_squared_log_error\", \"stepped\": false, \"type\": \"scatter\", \"data\": [0.032936771753897656, 0.034639310283475847, 0.04070318451906113, 0.052253370082064744, 0.040194738315747755, 0.04935794453118646, 0.04743364547352523, 0.05018538122952796, 0.05237152233767981, 0.047646523192835556, 0.04843267432559915, 0.047738532821378354, 0.05206753336791816, 0.049131995353995164, 0.05476465431847649, 0.05371114578522261, 0.041030172859854386, 0.04713125783475512, 0.03221589039007437, 0.03312674088277176]}, {\"categories\": [\"0\", \"1\", \"2\", \"3\", \"4\", \"5\", \"6\", \"7\", \"8\", \"9\", \"10\", \"11\", \"12\", \"13\", \"14\", \"15\", \"16\", \"17\", \"18\", \"19\"], \"mode\": \"lines\", \"name\": \"normalized_root_mean_squared_log_error_min\", \"stepped\": true, \"type\": \"scatter\", \"data\": [0.032936771753897656, 0.032936771753897656, 0.032936771753897656, 0.032936771753897656, 0.032936771753897656, 0.032936771753897656, 0.032936771753897656, 0.032936771753897656, 0.032936771753897656, 0.032936771753897656, 0.032936771753897656, 0.032936771753897656, 0.032936771753897656, 0.032936771753897656, 0.032936771753897656, 0.032936771753897656, 0.032936771753897656, 0.032936771753897656, 0.03221589039007437, 0.03221589039007437]}]}, \"metricName\": null, \"primaryMetricName\": \"normalized_root_mean_squared_error\", \"showLegend\": false}, \"run_metrics\": [{\"name\": \"experiment_status\", \"run_id\": \"AutoML_0f23fc94-dc45-4346-855e-1006973b5760\", \"categories\": [0, 1, 2, 3, 4, 5, 6, 7, 8, 9, 10, 11, 12, 13], \"series\": [{\"data\": [\"DatasetEvaluation\", \"FeaturesGeneration\", \"DatasetFeaturization\", \"DatasetFeaturizationCompleted\", \"DatasetCrossValidationSplit\", \"ModelSelection\", \"BestRunExplainModel\", \"ModelExplanationDataSetSetup\", \"PickSurrogateModel\", \"EngineeredFeatureExplanations\", \"EngineeredFeatureExplanations\", \"RawFeaturesExplanations\", \"RawFeaturesExplanations\", \"BestRunExplainModel\"]}]}, {\"name\": \"experiment_status_description\", \"run_id\": \"AutoML_0f23fc94-dc45-4346-855e-1006973b5760\", \"categories\": [0, 1, 2, 3, 4, 5, 6, 7, 8, 9, 10, 11, 12, 13], \"series\": [{\"data\": [\"Gathering dataset statistics.\", \"Generating features for the dataset.\", \"Beginning to fit featurizers and featurize the dataset.\", \"Completed fit featurizers and featurizing the dataset.\", \"Generating individually featurized CV splits.\", \"Beginning model selection.\", \"Best run model explanations started\", \"Model explanations data setup completed\", \"Choosing LightGBM as the surrogate model for explanations\", \"Computation of engineered features started\", \"Computation of engineered features completed\", \"Computation of raw features started\", \"Computation of raw features completed\", \"Best run model explanations completed\"]}]}, {\"name\": \"explained_variance\", \"run_id\": \"AutoML_0f23fc94-dc45-4346-855e-1006973b5760\", \"categories\": [0], \"series\": [{\"data\": [0.8988675191930078]}]}, {\"name\": \"normalized_root_mean_squared_log_error\", \"run_id\": \"AutoML_0f23fc94-dc45-4346-855e-1006973b5760\", \"categories\": [0], \"series\": [{\"data\": [0.03221589039007437]}]}, {\"name\": \"normalized_median_absolute_error\", \"run_id\": \"AutoML_0f23fc94-dc45-4346-855e-1006973b5760\", \"categories\": [0], \"series\": [{\"data\": [0.01222706870013655]}]}, {\"name\": \"mean_absolute_percentage_error\", \"run_id\": \"AutoML_0f23fc94-dc45-4346-855e-1006973b5760\", \"categories\": [0], \"series\": [{\"data\": [8.676986840925514]}]}, {\"name\": \"r2_score\", \"run_id\": \"AutoML_0f23fc94-dc45-4346-855e-1006973b5760\", \"categories\": [0], \"series\": [{\"data\": [0.8987423512844135]}]}, {\"name\": \"spearman_correlation\", \"run_id\": \"AutoML_0f23fc94-dc45-4346-855e-1006973b5760\", \"categories\": [0], \"series\": [{\"data\": [0.9593180676757124]}]}, {\"name\": \"root_mean_squared_log_error\", \"run_id\": \"AutoML_0f23fc94-dc45-4346-855e-1006973b5760\", \"categories\": [0], \"series\": [{\"data\": [0.13094863664849818]}]}, {\"name\": \"normalized_mean_absolute_error\", \"run_id\": \"AutoML_0f23fc94-dc45-4346-855e-1006973b5760\", \"categories\": [0], \"series\": [{\"data\": [0.019172263885181253]}]}, {\"name\": \"normalized_root_mean_squared_error\", \"run_id\": \"AutoML_0f23fc94-dc45-4346-855e-1006973b5760\", \"categories\": [0], \"series\": [{\"data\": [0.03357214737646978]}]}, {\"name\": \"median_absolute_error\", \"run_id\": \"AutoML_0f23fc94-dc45-4346-855e-1006973b5760\", \"categories\": [0], \"series\": [{\"data\": [8952.794199995682]}]}, {\"name\": \"root_mean_squared_error\", \"run_id\": \"AutoML_0f23fc94-dc45-4346-855e-1006973b5760\", \"categories\": [0], \"series\": [{\"data\": [24581.89560267231]}]}, {\"name\": \"mean_absolute_error\", \"run_id\": \"AutoML_0f23fc94-dc45-4346-855e-1006973b5760\", \"categories\": [0], \"series\": [{\"data\": [14038.14251163245]}]}], \"run_logs\": \"\\nRun is completed.\", \"graph\": {}, \"widget_settings\": {\"childWidgetDisplay\": \"popup\", \"send_telemetry\": false, \"log_level\": \"INFO\", \"sdk_version\": \"1.26.0\"}, \"loading\": false}"
     },
     "metadata": {},
     "output_type": "display_data"
    },
    {
     "data": {
      "text/html": [
       "<table style=\"width:100%\"><tr><th>Experiment</th><th>Id</th><th>Type</th><th>Status</th><th>Details Page</th><th>Docs Page</th></tr><tr><td>predict-housing-prices</td><td>AutoML_0f23fc94-dc45-4346-855e-1006973b5760</td><td>automl</td><td>Completed</td><td><a href=\"https://ml.azure.com/runs/AutoML_0f23fc94-dc45-4346-855e-1006973b5760?wsid=/subscriptions/5a4ab2ba-6c51-4805-8155-58759ad589d8/resourcegroups/aml-quickstarts-142974/workspaces/quick-starts-ws-142974&amp;tid=660b3398-b80e-49d2-bc5b-ac1dc93b5254\" target=\"_blank\" rel=\"noopener\">Link to Azure Machine Learning studio</a></td><td><a href=\"https://docs.microsoft.com/en-us/python/api/overview/azure/ml/intro?view=azure-ml-py\" target=\"_blank\" rel=\"noopener\">Link to Documentation</a></td></tr></table>"
      ],
      "text/plain": [
       "<IPython.core.display.HTML object>"
      ]
     },
     "metadata": {},
     "output_type": "display_data"
    },
    {
     "name": "stdout",
     "output_type": "stream",
     "text": [
      "\n",
      "\n",
      "****************************************************************************************************\n",
      "DATA GUARDRAILS: \n",
      "\n",
      "TYPE:         Missing feature values imputation\n",
      "STATUS:       DONE\n",
      "DESCRIPTION:  If the missing values are expected, let the run complete. Otherwise cancel the current run and use a script to customize the handling of missing feature values that may be more appropriate based on the data type and business requirement.\n",
      "              Learn more about missing value imputation: https://aka.ms/AutomatedMLFeaturization\n",
      "DETAILS:      \n",
      "+---------------------------------+---------------------------------+---------------------------------+\n",
      "|Column name                      |Missing value count              |Imputation type                  |\n",
      "+=================================+=================================+=================================+\n",
      "|Lot Frontage                     |361                              |mean                             |\n",
      "|Mas Vnr Type                     |19                               |                                 |\n",
      "|Mas Vnr Area                     |19                               |mean                             |\n",
      "|Bsmt Qual                        |1                                |                                 |\n",
      "|Bsmt Cond                        |1                                |                                 |\n",
      "|Bsmt Exposure                    |4                                |                                 |\n",
      "|BsmtFin Type 1                   |1                                |                                 |\n",
      "|BsmtFin SF 1                     |1                                |mean                             |\n",
      "|BsmtFin Type 2                   |2                                |                                 |\n",
      "|BsmtFin SF 2                     |1                                |mean                             |\n",
      "|Bsmt Unf SF                      |1                                |mean                             |\n",
      "|Total Bsmt SF                    |1                                |mean                             |\n",
      "|Electrical                       |1                                |                                 |\n",
      "|Bsmt Full Bath                   |2                                |mean                             |\n",
      "|Bsmt Half Bath                   |2                                |mean                             |\n",
      "|Garage Yr Blt                    |111                              |mean                             |\n",
      "|Garage Finish                    |2                                |                                 |\n",
      "|Garage Cars                      |1                                |mean                             |\n",
      "|Garage Area                      |1                                |mean                             |\n",
      "|Garage Qual                      |1                                |                                 |\n",
      "|Garage Cond                      |1                                |                                 |\n",
      "+---------------------------------+---------------------------------+---------------------------------+\n",
      "\n",
      "****************************************************************************************************\n",
      "\n",
      "TYPE:         High cardinality feature detection\n",
      "STATUS:       PASSED\n",
      "DESCRIPTION:  Your inputs were analyzed, and no high cardinality features were detected.\n",
      "              Learn more about high cardinality feature handling: https://aka.ms/AutomatedMLFeaturization\n",
      "\n",
      "****************************************************************************************************\n",
      "\n",
      "****************************************************************************************************\n",
      "ITERATION: The iteration being evaluated.\n",
      "PIPELINE: A summary description of the pipeline being evaluated.\n",
      "DURATION: Time taken for the current iteration.\n",
      "METRIC: The result of computing score on the fitted pipeline.\n",
      "BEST: The best observed score thus far.\n",
      "****************************************************************************************************\n",
      "\n",
      " ITERATION   PIPELINE                                       DURATION      METRIC      BEST\n",
      "         0   MaxAbsScaler LightGBM                          0:00:45       0.0346    0.0346\n",
      "         1   MaxAbsScaler XGBoostRegressor                  0:01:53       0.0352    0.0346\n",
      "         2   StandardScalerWrapper ElasticNet               0:01:01       0.0405    0.0346\n",
      "         3   MaxAbsScaler DecisionTree                      0:00:44       0.0550    0.0346\n",
      "         4   MaxAbsScaler ElasticNet                        0:01:05       0.0403    0.0346\n",
      "         5   MaxAbsScaler DecisionTree                      0:00:45       0.0518    0.0346\n",
      "        10   MaxAbsScaler DecisionTree                      0:00:46       0.0500    0.0346\n",
      "        11   MaxAbsScaler DecisionTree                      0:00:42       0.0490    0.0346\n",
      "         6   MaxAbsScaler DecisionTree                      0:01:34       0.0487    0.0346\n",
      "         7   MaxAbsScaler DecisionTree                      0:01:46       0.0524    0.0346\n",
      "         8   MaxAbsScaler DecisionTree                      0:01:47       0.0550    0.0346\n",
      "         9   MaxAbsScaler DecisionTree                      0:00:39       0.0481    0.0346\n",
      "        12   MaxAbsScaler DecisionTree                      0:00:55       0.0557    0.0346\n",
      "        13   StandardScalerWrapper DecisionTree             0:00:46       0.0512    0.0346\n",
      "        14   MaxAbsScaler DecisionTree                      0:00:42       0.0583    0.0346\n",
      "        15   MaxAbsScaler DecisionTree                      0:00:40       0.0562    0.0346\n",
      "        16   MaxAbsScaler SGD                               0:00:45       0.0422    0.0346\n",
      "        17   MaxAbsScaler DecisionTree                      0:00:45       0.0477    0.0346\n",
      "        18    VotingEnsemble                                0:00:54       0.0336    0.0336\n",
      "        19    StackEnsemble                                 0:00:52       0.0357    0.0336\n"
     ]
    },
    {
     "data": {
      "text/plain": [
       "{'runId': 'AutoML_0f23fc94-dc45-4346-855e-1006973b5760',\n",
       " 'target': 'compute-price',\n",
       " 'status': 'Completed',\n",
       " 'startTimeUtc': '2021-04-17T23:43:41.304733Z',\n",
       " 'endTimeUtc': '2021-04-17T23:53:35.711277Z',\n",
       " 'properties': {'num_iterations': '20',\n",
       "  'training_type': 'TrainFull',\n",
       "  'acquisition_function': 'EI',\n",
       "  'primary_metric': 'normalized_root_mean_squared_error',\n",
       "  'train_split': '0',\n",
       "  'acquisition_parameter': '0',\n",
       "  'num_cross_validation': '5',\n",
       "  'target': 'compute-price',\n",
       "  'AMLSettingsJsonString': '{\"path\":null,\"name\":\"udacity_automl_run\",\"subscription_id\":\"5a4ab2ba-6c51-4805-8155-58759ad589d8\",\"resource_group\":\"aml-quickstarts-142974\",\"workspace_name\":\"quick-starts-ws-142974\",\"region\":\"southcentralus\",\"compute_target\":\"compute-price\",\"spark_service\":null,\"azure_service\":\"remote\",\"many_models\":false,\"pipeline_fetch_max_batch_size\":1,\"enable_batch_run\":false,\"enable_run_restructure\":false,\"iterations\":20,\"primary_metric\":\"normalized_root_mean_squared_error\",\"task_type\":\"regression\",\"data_script\":null,\"test_size\":0.0,\"validation_size\":0.0,\"n_cross_validations\":5,\"y_min\":null,\"y_max\":null,\"num_classes\":null,\"featurization\":\"auto\",\"_ignore_package_version_incompatibilities\":false,\"is_timeseries\":false,\"max_cores_per_iteration\":1,\"max_concurrent_iterations\":6,\"iteration_timeout_minutes\":null,\"mem_in_mb\":null,\"enforce_time_on_windows\":false,\"experiment_timeout_minutes\":20,\"experiment_exit_score\":null,\"whitelist_models\":null,\"blacklist_algos\":[\"TensorFlowDNN\",\"TensorFlowLinearRegressor\"],\"supported_models\":[\"DecisionTree\",\"ExtremeRandomTrees\",\"OnlineGradientDescentRegressor\",\"TensorFlowDNN\",\"FastLinearRegressor\",\"XGBoostRegressor\",\"LassoLars\",\"SGD\",\"LightGBM\",\"TensorFlowLinearRegressor\",\"RandomForest\",\"KNN\",\"ElasticNet\",\"GradientBoosting\"],\"private_models\":[],\"auto_blacklist\":true,\"blacklist_samples_reached\":false,\"exclude_nan_labels\":true,\"verbosity\":20,\"_debug_log\":\"azureml_automl.log\",\"show_warnings\":false,\"model_explainability\":true,\"service_url\":null,\"sdk_url\":null,\"sdk_packages\":null,\"enable_onnx_compatible_models\":false,\"enable_split_onnx_featurizer_estimator_models\":false,\"vm_type\":\"STANDARD_DS12_V2\",\"telemetry_verbosity\":20,\"send_telemetry\":true,\"enable_dnn\":false,\"scenario\":\"SDK-1.13.0\",\"environment_label\":null,\"save_mlflow\":false,\"force_text_dnn\":false,\"enable_feature_sweeping\":true,\"enable_early_stopping\":true,\"early_stopping_n_iters\":10,\"metrics\":null,\"enable_metric_confidence\":false,\"enable_ensembling\":true,\"enable_stack_ensembling\":true,\"ensemble_iterations\":15,\"enable_tf\":false,\"enable_subsampling\":false,\"subsample_seed\":null,\"enable_nimbusml\":false,\"enable_streaming\":false,\"force_streaming\":false,\"track_child_runs\":true,\"allowed_private_models\":[],\"label_column_name\":\"SalePrice\",\"weight_column_name\":null,\"cv_split_column_names\":null,\"enable_local_managed\":false,\"_local_managed_run_id\":null,\"cost_mode\":1,\"lag_length\":0,\"metric_operation\":\"minimize\",\"preprocess\":true}',\n",
       "  'DataPrepJsonString': '{\\\\\"training_data\\\\\": {\\\\\"datasetId\\\\\": \\\\\"565bf7fd-27e1-4371-8a67-6ff12e523c82\\\\\"}, \\\\\"datasets\\\\\": 0}',\n",
       "  'EnableSubsampling': 'False',\n",
       "  'runTemplate': 'AutoML',\n",
       "  'azureml.runsource': 'automl',\n",
       "  'display_task_type': 'regression',\n",
       "  'dependencies_versions': '{\"azureml-widgets\": \"1.26.0\", \"azureml-train\": \"1.26.0\", \"azureml-train-restclients-hyperdrive\": \"1.26.0\", \"azureml-train-core\": \"1.26.0\", \"azureml-train-automl\": \"1.26.0\", \"azureml-train-automl-runtime\": \"1.26.0\", \"azureml-train-automl-client\": \"1.26.0\", \"azureml-tensorboard\": \"1.26.0\", \"azureml-telemetry\": \"1.26.0\", \"azureml-sdk\": \"1.26.0\", \"azureml-samples\": \"0+unknown\", \"azureml-pipeline\": \"1.26.0\", \"azureml-pipeline-steps\": \"1.26.0\", \"azureml-pipeline-core\": \"1.26.0\", \"azureml-opendatasets\": \"1.26.0\", \"azureml-model-management-sdk\": \"1.0.1b6.post1\", \"azureml-mlflow\": \"1.26.0\", \"azureml-interpret\": \"1.26.0\", \"azureml-explain-model\": \"1.26.0\", \"azureml-defaults\": \"1.26.0\", \"azureml-dataset-runtime\": \"1.26.0\", \"azureml-dataprep\": \"2.13.2\", \"azureml-dataprep-rslex\": \"1.11.2\", \"azureml-dataprep-native\": \"32.0.0\", \"azureml-datadrift\": \"1.26.0\", \"azureml-core\": \"1.26.0\", \"azureml-contrib-services\": \"1.26.0\", \"azureml-contrib-server\": \"1.26.0\", \"azureml-contrib-reinforcementlearning\": \"1.26.0\", \"azureml-contrib-pipeline-steps\": \"1.26.0\", \"azureml-contrib-notebook\": \"1.26.0\", \"azureml-contrib-gbdt\": \"1.26.0\", \"azureml-contrib-fairness\": \"1.26.0\", \"azureml-contrib-dataset\": \"1.26.0\", \"azureml-cli-common\": \"1.26.0\", \"azureml-automl-runtime\": \"1.26.0\", \"azureml-automl-dnn-nlp\": \"1.26.0\", \"azureml-automl-core\": \"1.26.0\", \"azureml-accel-models\": \"1.26.0\"}',\n",
       "  '_aml_system_scenario_identification': 'Remote.Parent',\n",
       "  'ClientType': 'SDK',\n",
       "  'environment_cpu_name': 'AzureML-AutoML',\n",
       "  'environment_cpu_label': 'prod',\n",
       "  'environment_gpu_name': 'AzureML-AutoML-GPU',\n",
       "  'environment_gpu_label': 'prod',\n",
       "  'root_attribution': 'automl',\n",
       "  'attribution': 'AutoML',\n",
       "  'Orchestrator': 'AutoML',\n",
       "  'CancelUri': 'https://southcentralus.experiments.azureml.net/jasmine/v1.0/subscriptions/5a4ab2ba-6c51-4805-8155-58759ad589d8/resourceGroups/aml-quickstarts-142974/providers/Microsoft.MachineLearningServices/workspaces/quick-starts-ws-142974/experimentids/4f1a1fbc-261a-455e-bf56-ab83e8b841e0/cancel/AutoML_0f23fc94-dc45-4346-855e-1006973b5760',\n",
       "  'ClientSdkVersion': '1.25.0',\n",
       "  'snapshotId': '00000000-0000-0000-0000-000000000000',\n",
       "  'SetupRunId': 'AutoML_0f23fc94-dc45-4346-855e-1006973b5760_setup',\n",
       "  'SetupRunContainerId': 'dcid.AutoML_0f23fc94-dc45-4346-855e-1006973b5760_setup',\n",
       "  'FeaturizationRunJsonPath': 'featurizer_container.json',\n",
       "  'FeaturizationRunId': 'AutoML_0f23fc94-dc45-4346-855e-1006973b5760_featurize',\n",
       "  'ProblemInfoJsonString': '{\"dataset_num_categorical\": 0, \"is_sparse\": true, \"subsampling\": false, \"dataset_classes\": 864, \"dataset_features\": 484, \"dataset_samples\": 2197, \"single_frequency_class_detected\": false}',\n",
       "  'ModelExplainRunId': 'AutoML_0f23fc94-dc45-4346-855e-1006973b5760_ModelExplain'},\n",
       " 'inputDatasets': [{'dataset': {'id': '565bf7fd-27e1-4371-8a67-6ff12e523c82'}, 'consumptionDetails': {'type': 'RunInput', 'inputName': 'training_data', 'mechanism': 'Direct'}}],\n",
       " 'outputDatasets': [],\n",
       " 'logFiles': {},\n",
       " 'submittedBy': 'ODL_User 142974'}"
      ]
     },
     "execution_count": 39,
     "metadata": {},
     "output_type": "execute_result"
    }
   ],
   "source": [
    "RunDetails(remote_run).show()\r\n",
    "remote_run.wait_for_completion(show_output=True)"
   ]
  },
  {
   "cell_type": "markdown",
   "metadata": {},
   "source": [
    "## Run Details\n",
    "\n",
    "OPTIONAL: Write about the different models trained and their performance. Why do you think some models did better than others?\n",
    "\n",
    "TODO: In the cell below, use the `RunDetails` widget to show the different experiments."
   ]
  },
  {
   "cell_type": "code",
   "execution_count": 43,
   "metadata": {
    "gather": {
     "logged": 1618703987346
    },
    "jupyter": {
     "outputs_hidden": false,
     "source_hidden": false
    },
    "nteract": {
     "transient": {
      "deleting": false
     }
    }
   },
   "outputs": [
    {
     "data": {
      "application/vnd.jupyter.widget-view+json": {
       "model_id": "8962fa73692c41528a31a421056a7bf6",
       "version_major": 2,
       "version_minor": 0
      },
      "text/plain": [
       "_AutoMLWidget(widget_settings={'childWidgetDisplay': 'popup', 'send_telemetry': False, 'log_level': 'INFO', 's…"
      ]
     },
     "metadata": {},
     "output_type": "display_data"
    },
    {
     "data": {
      "application/aml.mini.widget.v1": "{\"status\": \"Completed\", \"workbench_run_details_uri\": \"https://ml.azure.com/runs/AutoML_0f23fc94-dc45-4346-855e-1006973b5760?wsid=/subscriptions/5a4ab2ba-6c51-4805-8155-58759ad589d8/resourcegroups/aml-quickstarts-142974/workspaces/quick-starts-ws-142974&tid=660b3398-b80e-49d2-bc5b-ac1dc93b5254\", \"run_id\": \"AutoML_0f23fc94-dc45-4346-855e-1006973b5760\", \"run_properties\": {\"run_id\": \"AutoML_0f23fc94-dc45-4346-855e-1006973b5760\", \"created_utc\": \"2021-04-17T23:43:25.430659Z\", \"properties\": {\"num_iterations\": \"20\", \"training_type\": \"TrainFull\", \"acquisition_function\": \"EI\", \"primary_metric\": \"normalized_root_mean_squared_error\", \"train_split\": \"0\", \"acquisition_parameter\": \"0\", \"num_cross_validation\": \"5\", \"target\": \"compute-price\", \"AMLSettingsJsonString\": \"{\\\"path\\\":null,\\\"name\\\":\\\"udacity_automl_run\\\",\\\"subscription_id\\\":\\\"5a4ab2ba-6c51-4805-8155-58759ad589d8\\\",\\\"resource_group\\\":\\\"aml-quickstarts-142974\\\",\\\"workspace_name\\\":\\\"quick-starts-ws-142974\\\",\\\"region\\\":\\\"southcentralus\\\",\\\"compute_target\\\":\\\"compute-price\\\",\\\"spark_service\\\":null,\\\"azure_service\\\":\\\"remote\\\",\\\"many_models\\\":false,\\\"pipeline_fetch_max_batch_size\\\":1,\\\"enable_batch_run\\\":false,\\\"enable_run_restructure\\\":false,\\\"iterations\\\":20,\\\"primary_metric\\\":\\\"normalized_root_mean_squared_error\\\",\\\"task_type\\\":\\\"regression\\\",\\\"data_script\\\":null,\\\"test_size\\\":0.0,\\\"validation_size\\\":0.0,\\\"n_cross_validations\\\":5,\\\"y_min\\\":null,\\\"y_max\\\":null,\\\"num_classes\\\":null,\\\"featurization\\\":\\\"auto\\\",\\\"_ignore_package_version_incompatibilities\\\":false,\\\"is_timeseries\\\":false,\\\"max_cores_per_iteration\\\":1,\\\"max_concurrent_iterations\\\":6,\\\"iteration_timeout_minutes\\\":null,\\\"mem_in_mb\\\":null,\\\"enforce_time_on_windows\\\":false,\\\"experiment_timeout_minutes\\\":20,\\\"experiment_exit_score\\\":null,\\\"whitelist_models\\\":null,\\\"blacklist_algos\\\":[\\\"TensorFlowDNN\\\",\\\"TensorFlowLinearRegressor\\\"],\\\"supported_models\\\":[\\\"DecisionTree\\\",\\\"ExtremeRandomTrees\\\",\\\"OnlineGradientDescentRegressor\\\",\\\"TensorFlowDNN\\\",\\\"FastLinearRegressor\\\",\\\"XGBoostRegressor\\\",\\\"LassoLars\\\",\\\"SGD\\\",\\\"LightGBM\\\",\\\"TensorFlowLinearRegressor\\\",\\\"RandomForest\\\",\\\"KNN\\\",\\\"ElasticNet\\\",\\\"GradientBoosting\\\"],\\\"private_models\\\":[],\\\"auto_blacklist\\\":true,\\\"blacklist_samples_reached\\\":false,\\\"exclude_nan_labels\\\":true,\\\"verbosity\\\":20,\\\"_debug_log\\\":\\\"azureml_automl.log\\\",\\\"show_warnings\\\":false,\\\"model_explainability\\\":true,\\\"service_url\\\":null,\\\"sdk_url\\\":null,\\\"sdk_packages\\\":null,\\\"enable_onnx_compatible_models\\\":false,\\\"enable_split_onnx_featurizer_estimator_models\\\":false,\\\"vm_type\\\":\\\"STANDARD_DS12_V2\\\",\\\"telemetry_verbosity\\\":20,\\\"send_telemetry\\\":true,\\\"enable_dnn\\\":false,\\\"scenario\\\":\\\"SDK-1.13.0\\\",\\\"environment_label\\\":null,\\\"save_mlflow\\\":false,\\\"force_text_dnn\\\":false,\\\"enable_feature_sweeping\\\":true,\\\"enable_early_stopping\\\":true,\\\"early_stopping_n_iters\\\":10,\\\"metrics\\\":null,\\\"enable_metric_confidence\\\":false,\\\"enable_ensembling\\\":true,\\\"enable_stack_ensembling\\\":true,\\\"ensemble_iterations\\\":15,\\\"enable_tf\\\":false,\\\"enable_subsampling\\\":false,\\\"subsample_seed\\\":null,\\\"enable_nimbusml\\\":false,\\\"enable_streaming\\\":false,\\\"force_streaming\\\":false,\\\"track_child_runs\\\":true,\\\"allowed_private_models\\\":[],\\\"label_column_name\\\":\\\"SalePrice\\\",\\\"weight_column_name\\\":null,\\\"cv_split_column_names\\\":null,\\\"enable_local_managed\\\":false,\\\"_local_managed_run_id\\\":null,\\\"cost_mode\\\":1,\\\"lag_length\\\":0,\\\"metric_operation\\\":\\\"minimize\\\",\\\"preprocess\\\":true}\", \"DataPrepJsonString\": \"{\\\\\\\"training_data\\\\\\\": {\\\\\\\"datasetId\\\\\\\": \\\\\\\"565bf7fd-27e1-4371-8a67-6ff12e523c82\\\\\\\"}, \\\\\\\"datasets\\\\\\\": 0}\", \"EnableSubsampling\": \"False\", \"runTemplate\": \"AutoML\", \"azureml.runsource\": \"automl\", \"display_task_type\": \"regression\", \"dependencies_versions\": \"{\\\"azureml-widgets\\\": \\\"1.26.0\\\", \\\"azureml-train\\\": \\\"1.26.0\\\", \\\"azureml-train-restclients-hyperdrive\\\": \\\"1.26.0\\\", \\\"azureml-train-core\\\": \\\"1.26.0\\\", \\\"azureml-train-automl\\\": \\\"1.26.0\\\", \\\"azureml-train-automl-runtime\\\": \\\"1.26.0\\\", \\\"azureml-train-automl-client\\\": \\\"1.26.0\\\", \\\"azureml-tensorboard\\\": \\\"1.26.0\\\", \\\"azureml-telemetry\\\": \\\"1.26.0\\\", \\\"azureml-sdk\\\": \\\"1.26.0\\\", \\\"azureml-samples\\\": \\\"0+unknown\\\", \\\"azureml-pipeline\\\": \\\"1.26.0\\\", \\\"azureml-pipeline-steps\\\": \\\"1.26.0\\\", \\\"azureml-pipeline-core\\\": \\\"1.26.0\\\", \\\"azureml-opendatasets\\\": \\\"1.26.0\\\", \\\"azureml-model-management-sdk\\\": \\\"1.0.1b6.post1\\\", \\\"azureml-mlflow\\\": \\\"1.26.0\\\", \\\"azureml-interpret\\\": \\\"1.26.0\\\", \\\"azureml-explain-model\\\": \\\"1.26.0\\\", \\\"azureml-defaults\\\": \\\"1.26.0\\\", \\\"azureml-dataset-runtime\\\": \\\"1.26.0\\\", \\\"azureml-dataprep\\\": \\\"2.13.2\\\", \\\"azureml-dataprep-rslex\\\": \\\"1.11.2\\\", \\\"azureml-dataprep-native\\\": \\\"32.0.0\\\", \\\"azureml-datadrift\\\": \\\"1.26.0\\\", \\\"azureml-core\\\": \\\"1.26.0\\\", \\\"azureml-contrib-services\\\": \\\"1.26.0\\\", \\\"azureml-contrib-server\\\": \\\"1.26.0\\\", \\\"azureml-contrib-reinforcementlearning\\\": \\\"1.26.0\\\", \\\"azureml-contrib-pipeline-steps\\\": \\\"1.26.0\\\", \\\"azureml-contrib-notebook\\\": \\\"1.26.0\\\", \\\"azureml-contrib-gbdt\\\": \\\"1.26.0\\\", \\\"azureml-contrib-fairness\\\": \\\"1.26.0\\\", \\\"azureml-contrib-dataset\\\": \\\"1.26.0\\\", \\\"azureml-cli-common\\\": \\\"1.26.0\\\", \\\"azureml-automl-runtime\\\": \\\"1.26.0\\\", \\\"azureml-automl-dnn-nlp\\\": \\\"1.26.0\\\", \\\"azureml-automl-core\\\": \\\"1.26.0\\\", \\\"azureml-accel-models\\\": \\\"1.26.0\\\"}\", \"_aml_system_scenario_identification\": \"Remote.Parent\", \"ClientType\": \"SDK\", \"environment_cpu_name\": \"AzureML-AutoML\", \"environment_cpu_label\": \"prod\", \"environment_gpu_name\": \"AzureML-AutoML-GPU\", \"environment_gpu_label\": \"prod\", \"root_attribution\": \"automl\", \"attribution\": \"AutoML\", \"Orchestrator\": \"AutoML\", \"CancelUri\": \"https://southcentralus.experiments.azureml.net/jasmine/v1.0/subscriptions/5a4ab2ba-6c51-4805-8155-58759ad589d8/resourceGroups/aml-quickstarts-142974/providers/Microsoft.MachineLearningServices/workspaces/quick-starts-ws-142974/experimentids/4f1a1fbc-261a-455e-bf56-ab83e8b841e0/cancel/AutoML_0f23fc94-dc45-4346-855e-1006973b5760\", \"ClientSdkVersion\": \"1.25.0\", \"snapshotId\": \"00000000-0000-0000-0000-000000000000\", \"SetupRunId\": \"AutoML_0f23fc94-dc45-4346-855e-1006973b5760_setup\", \"SetupRunContainerId\": \"dcid.AutoML_0f23fc94-dc45-4346-855e-1006973b5760_setup\", \"FeaturizationRunJsonPath\": \"featurizer_container.json\", \"FeaturizationRunId\": \"AutoML_0f23fc94-dc45-4346-855e-1006973b5760_featurize\", \"ProblemInfoJsonString\": \"{\\\"dataset_num_categorical\\\": 0, \\\"is_sparse\\\": true, \\\"subsampling\\\": false, \\\"dataset_classes\\\": 864, \\\"dataset_features\\\": 484, \\\"dataset_samples\\\": 2197, \\\"single_frequency_class_detected\\\": false}\", \"ModelExplainRunId\": \"AutoML_0f23fc94-dc45-4346-855e-1006973b5760_ModelExplain\"}, \"tags\": {\"model_explain_run\": \"best_run\", \"_aml_system_azureml.automlComponent\": \"AutoML\", \"pipeline_id\": \"\", \"score\": \"\", \"predicted_cost\": \"\", \"fit_time\": \"\", \"training_percent\": \"\", \"iteration\": \"\", \"run_preprocessor\": \"\", \"run_algorithm\": \"\", \"automl_best_child_run_id\": \"AutoML_0f23fc94-dc45-4346-855e-1006973b5760_18\", \"model_explain_best_run_child_id\": \"AutoML_0f23fc94-dc45-4346-855e-1006973b5760_18\"}, \"end_time_utc\": \"2021-04-17T23:53:35.711277Z\", \"status\": \"Completed\", \"log_files\": {}, \"log_groups\": [], \"run_duration\": \"0:10:10\", \"run_number\": \"3\", \"run_queued_details\": {\"status\": \"Completed\", \"details\": null}}, \"child_runs\": [{\"run_id\": \"AutoML_0f23fc94-dc45-4346-855e-1006973b5760_0\", \"run_number\": 7, \"metric\": null, \"status\": \"Completed\", \"run_type\": \"azureml.scriptrun\", \"training_percent\": \"100\", \"start_time\": \"2021-04-17T23:47:13.177194Z\", \"end_time\": \"2021-04-17T23:47:58.048806Z\", \"created_time\": \"2021-04-17T23:47:02.233437Z\", \"created_time_dt\": \"2021-04-17T23:47:02.233437Z\", \"duration\": \"0:00:55\", \"iteration\": \"0\", \"goal\": \"normalized_root_mean_squared_error_min\", \"run_name\": \"MaxAbsScaler, LightGBM\", \"run_properties\": \"copy=True\", \"primary_metric\": 0.03459339, \"best_metric\": 0.03459339}, {\"run_id\": \"AutoML_0f23fc94-dc45-4346-855e-1006973b5760_2\", \"run_number\": 8, \"metric\": null, \"status\": \"Completed\", \"run_type\": \"azureml.scriptrun\", \"training_percent\": \"100\", \"start_time\": \"2021-04-17T23:48:17.080243Z\", \"end_time\": \"2021-04-17T23:49:18.225274Z\", \"created_time\": \"2021-04-17T23:47:02.362058Z\", \"created_time_dt\": \"2021-04-17T23:47:02.362058Z\", \"duration\": \"0:02:15\", \"iteration\": \"2\", \"goal\": \"normalized_root_mean_squared_error_min\", \"run_name\": \"StandardScalerWrapper, ElasticNet\", \"run_properties\": \"<azureml.automl.runtime.shared.model_wrappers.StandardScalerWrapper object at 0x7f2a08f7fe10\", \"primary_metric\": 0.04053758, \"best_metric\": 0.03459339}, {\"run_id\": \"AutoML_0f23fc94-dc45-4346-855e-1006973b5760_5\", \"run_number\": 9, \"metric\": null, \"status\": \"Completed\", \"run_type\": \"azureml.scriptrun\", \"training_percent\": \"100\", \"start_time\": \"2021-04-17T23:48:18.050565Z\", \"end_time\": \"2021-04-17T23:49:03.471596Z\", \"created_time\": \"2021-04-17T23:47:02.373272Z\", \"created_time_dt\": \"2021-04-17T23:47:02.373272Z\", \"duration\": \"0:02:01\", \"iteration\": \"5\", \"goal\": \"normalized_root_mean_squared_error_min\", \"run_name\": \"MaxAbsScaler, DecisionTree\", \"run_properties\": \"copy=True\", \"primary_metric\": 0.05176479, \"best_metric\": 0.03459339}, {\"run_id\": \"AutoML_0f23fc94-dc45-4346-855e-1006973b5760_1\", \"run_number\": 10, \"metric\": null, \"status\": \"Completed\", \"run_type\": \"azureml.scriptrun\", \"training_percent\": \"100\", \"start_time\": \"2021-04-17T23:49:30.026889Z\", \"end_time\": \"2021-04-17T23:51:22.692739Z\", \"created_time\": \"2021-04-17T23:47:02.402566Z\", \"created_time_dt\": \"2021-04-17T23:47:02.402566Z\", \"duration\": \"0:04:20\", \"iteration\": \"1\", \"goal\": \"normalized_root_mean_squared_error_min\", \"run_name\": \"MaxAbsScaler, XGBoostRegressor\", \"run_properties\": \"copy=True\", \"primary_metric\": 0.03521118, \"best_metric\": 0.03459339}, {\"run_id\": \"AutoML_0f23fc94-dc45-4346-855e-1006973b5760_4\", \"run_number\": 11, \"metric\": null, \"status\": \"Completed\", \"run_type\": \"azureml.scriptrun\", \"training_percent\": \"100\", \"start_time\": \"2021-04-17T23:49:19.660183Z\", \"end_time\": \"2021-04-17T23:50:24.371745Z\", \"created_time\": \"2021-04-17T23:47:02.417012Z\", \"created_time_dt\": \"2021-04-17T23:47:02.417012Z\", \"duration\": \"0:03:21\", \"iteration\": \"4\", \"goal\": \"normalized_root_mean_squared_error_min\", \"run_name\": \"MaxAbsScaler, ElasticNet\", \"run_properties\": \"copy=True\", \"primary_metric\": 0.04029883, \"best_metric\": 0.03459339}, {\"run_id\": \"AutoML_0f23fc94-dc45-4346-855e-1006973b5760_3\", \"run_number\": 12, \"metric\": null, \"status\": \"Completed\", \"run_type\": \"azureml.scriptrun\", \"training_percent\": \"100\", \"start_time\": \"2021-04-17T23:47:18.898685Z\", \"end_time\": \"2021-04-17T23:48:03.375542Z\", \"created_time\": \"2021-04-17T23:47:02.374272Z\", \"created_time_dt\": \"2021-04-17T23:47:02.374272Z\", \"duration\": \"0:01:01\", \"iteration\": \"3\", \"goal\": \"normalized_root_mean_squared_error_min\", \"run_name\": \"MaxAbsScaler, DecisionTree\", \"run_properties\": \"copy=True\", \"primary_metric\": 0.05500648, \"best_metric\": 0.03459339}, {\"run_id\": \"AutoML_0f23fc94-dc45-4346-855e-1006973b5760_6\", \"run_number\": 13, \"metric\": null, \"status\": \"Completed\", \"run_type\": \"azureml.scriptrun\", \"training_percent\": \"100\", \"start_time\": \"2021-04-17T23:49:29.175232Z\", \"end_time\": \"2021-04-17T23:51:03.581681Z\", \"created_time\": \"2021-04-17T23:47:59.756231Z\", \"created_time_dt\": \"2021-04-17T23:47:59.756231Z\", \"duration\": \"0:03:03\", \"iteration\": \"6\", \"goal\": \"normalized_root_mean_squared_error_min\", \"run_name\": \"MaxAbsScaler, DecisionTree\", \"run_properties\": \"copy=True\", \"primary_metric\": 0.04870416, \"best_metric\": 0.03459339}, {\"run_id\": \"AutoML_0f23fc94-dc45-4346-855e-1006973b5760_7\", \"run_number\": 14, \"metric\": null, \"status\": \"Completed\", \"run_type\": \"azureml.scriptrun\", \"training_percent\": \"100\", \"start_time\": \"2021-04-17T23:49:29.241164Z\", \"end_time\": \"2021-04-17T23:51:15.02632Z\", \"created_time\": \"2021-04-17T23:48:06.986165Z\", \"created_time_dt\": \"2021-04-17T23:48:06.986165Z\", \"duration\": \"0:03:08\", \"iteration\": \"7\", \"goal\": \"normalized_root_mean_squared_error_min\", \"run_name\": \"MaxAbsScaler, DecisionTree\", \"run_properties\": \"copy=True\", \"primary_metric\": 0.05236983, \"best_metric\": 0.03459339}, {\"run_id\": \"AutoML_0f23fc94-dc45-4346-855e-1006973b5760_8\", \"run_number\": 15, \"metric\": null, \"status\": \"Completed\", \"run_type\": \"azureml.scriptrun\", \"training_percent\": \"100\", \"start_time\": \"2021-04-17T23:49:29.491875Z\", \"end_time\": \"2021-04-17T23:51:16.942953Z\", \"created_time\": \"2021-04-17T23:49:07.72817Z\", \"created_time_dt\": \"2021-04-17T23:49:07.72817Z\", \"duration\": \"0:02:09\", \"iteration\": \"8\", \"goal\": \"normalized_root_mean_squared_error_min\", \"run_name\": \"MaxAbsScaler, DecisionTree\", \"run_properties\": \"copy=True\", \"primary_metric\": 0.05502623, \"best_metric\": 0.03459339}, {\"run_id\": \"AutoML_0f23fc94-dc45-4346-855e-1006973b5760_9\", \"run_number\": 16, \"metric\": null, \"status\": \"Completed\", \"run_type\": \"azureml.scriptrun\", \"training_percent\": \"100\", \"start_time\": \"2021-04-17T23:49:33.423806Z\", \"end_time\": \"2021-04-17T23:50:12.612252Z\", \"created_time\": \"2021-04-17T23:49:23.342678Z\", \"created_time_dt\": \"2021-04-17T23:49:23.342678Z\", \"duration\": \"0:00:49\", \"iteration\": \"9\", \"goal\": \"normalized_root_mean_squared_error_min\", \"run_name\": \"MaxAbsScaler, DecisionTree\", \"run_properties\": \"copy=True\", \"primary_metric\": 0.04813238, \"best_metric\": 0.03459339}, {\"run_id\": \"AutoML_0f23fc94-dc45-4346-855e-1006973b5760_10\", \"run_number\": 17, \"metric\": null, \"status\": \"Completed\", \"run_type\": \"azureml.scriptrun\", \"training_percent\": \"100\", \"start_time\": \"2021-04-17T23:50:30.60304Z\", \"end_time\": \"2021-04-17T23:51:16.9503Z\", \"created_time\": \"2021-04-17T23:50:16.608117Z\", \"created_time_dt\": \"2021-04-17T23:50:16.608117Z\", \"duration\": \"0:01:00\", \"iteration\": \"10\", \"goal\": \"normalized_root_mean_squared_error_min\", \"run_name\": \"MaxAbsScaler, DecisionTree\", \"run_properties\": \"copy=True\", \"primary_metric\": 0.04996122, \"best_metric\": 0.03459339}, {\"run_id\": \"AutoML_0f23fc94-dc45-4346-855e-1006973b5760_11\", \"run_number\": 18, \"metric\": null, \"status\": \"Completed\", \"run_type\": \"azureml.scriptrun\", \"training_percent\": \"100\", \"start_time\": \"2021-04-17T23:50:36.597356Z\", \"end_time\": \"2021-04-17T23:51:18.772508Z\", \"created_time\": \"2021-04-17T23:50:28.167604Z\", \"created_time_dt\": \"2021-04-17T23:50:28.167604Z\", \"duration\": \"0:00:50\", \"iteration\": \"11\", \"goal\": \"normalized_root_mean_squared_error_min\", \"run_name\": \"MaxAbsScaler, DecisionTree\", \"run_properties\": \"copy=True\", \"primary_metric\": 0.0490324, \"best_metric\": 0.03459339}, {\"run_id\": \"AutoML_0f23fc94-dc45-4346-855e-1006973b5760_12\", \"run_number\": 19, \"metric\": null, \"status\": \"Completed\", \"run_type\": \"azureml.scriptrun\", \"training_percent\": \"100\", \"start_time\": \"2021-04-17T23:51:19.386204Z\", \"end_time\": \"2021-04-17T23:52:14.768115Z\", \"created_time\": \"2021-04-17T23:51:07.542233Z\", \"created_time_dt\": \"2021-04-17T23:51:07.542233Z\", \"duration\": \"0:01:07\", \"iteration\": \"12\", \"goal\": \"normalized_root_mean_squared_error_min\", \"run_name\": \"MaxAbsScaler, DecisionTree\", \"run_properties\": \"copy=True\", \"primary_metric\": 0.05566101, \"best_metric\": 0.03459339}, {\"run_id\": \"AutoML_0f23fc94-dc45-4346-855e-1006973b5760_13\", \"run_number\": 20, \"metric\": null, \"status\": \"Completed\", \"run_type\": \"azureml.scriptrun\", \"training_percent\": \"100\", \"start_time\": \"2021-04-17T23:51:30.198825Z\", \"end_time\": \"2021-04-17T23:52:15.733982Z\", \"created_time\": \"2021-04-17T23:51:19.648653Z\", \"created_time_dt\": \"2021-04-17T23:51:19.648653Z\", \"duration\": \"0:00:56\", \"iteration\": \"13\", \"goal\": \"normalized_root_mean_squared_error_min\", \"run_name\": \"StandardScalerWrapper, DecisionTree\", \"run_properties\": \"<azureml.automl.runtime.shared.model_wrappers.StandardScalerWrapper object at 0x7f2c25851390\", \"primary_metric\": 0.0512164, \"best_metric\": 0.03459339}, {\"run_id\": \"AutoML_0f23fc94-dc45-4346-855e-1006973b5760_14\", \"run_number\": 21, \"metric\": null, \"status\": \"Completed\", \"run_type\": \"azureml.scriptrun\", \"training_percent\": \"100\", \"start_time\": \"2021-04-17T23:51:34.67838Z\", \"end_time\": \"2021-04-17T23:52:16.598809Z\", \"created_time\": \"2021-04-17T23:51:26.059642Z\", \"created_time_dt\": \"2021-04-17T23:51:26.059642Z\", \"duration\": \"0:00:50\", \"iteration\": \"14\", \"goal\": \"normalized_root_mean_squared_error_min\", \"run_name\": \"MaxAbsScaler, DecisionTree\", \"run_properties\": \"copy=True\", \"primary_metric\": 0.05829577, \"best_metric\": 0.03459339}, {\"run_id\": \"AutoML_0f23fc94-dc45-4346-855e-1006973b5760_15\", \"run_number\": 22, \"metric\": null, \"status\": \"Completed\", \"run_type\": \"azureml.scriptrun\", \"training_percent\": \"100\", \"start_time\": \"2021-04-17T23:51:36.914981Z\", \"end_time\": \"2021-04-17T23:52:16.805396Z\", \"created_time\": \"2021-04-17T23:51:26.181172Z\", \"created_time_dt\": \"2021-04-17T23:51:26.181172Z\", \"duration\": \"0:00:50\", \"iteration\": \"15\", \"goal\": \"normalized_root_mean_squared_error_min\", \"run_name\": \"MaxAbsScaler, DecisionTree\", \"run_properties\": \"copy=True\", \"primary_metric\": 0.05618468, \"best_metric\": 0.03459339}, {\"run_id\": \"AutoML_0f23fc94-dc45-4346-855e-1006973b5760_16\", \"run_number\": 23, \"metric\": null, \"status\": \"Completed\", \"run_type\": \"azureml.scriptrun\", \"training_percent\": \"100\", \"start_time\": \"2021-04-17T23:51:35.080408Z\", \"end_time\": \"2021-04-17T23:52:20.229063Z\", \"created_time\": \"2021-04-17T23:51:26.19184Z\", \"created_time_dt\": \"2021-04-17T23:51:26.19184Z\", \"duration\": \"0:00:54\", \"iteration\": \"16\", \"goal\": \"normalized_root_mean_squared_error_min\", \"run_name\": \"MaxAbsScaler, SGD\", \"run_properties\": \"copy=True\", \"primary_metric\": 0.04218131, \"best_metric\": 0.03459339}, {\"run_id\": \"AutoML_0f23fc94-dc45-4346-855e-1006973b5760_17\", \"run_number\": 24, \"metric\": null, \"status\": \"Completed\", \"run_type\": \"azureml.scriptrun\", \"training_percent\": \"100\", \"start_time\": \"2021-04-17T23:51:42.886728Z\", \"end_time\": \"2021-04-17T23:52:27.563149Z\", \"created_time\": \"2021-04-17T23:51:32.526628Z\", \"created_time_dt\": \"2021-04-17T23:51:32.526628Z\", \"duration\": \"0:00:55\", \"iteration\": \"17\", \"goal\": \"normalized_root_mean_squared_error_min\", \"run_name\": \"MaxAbsScaler, DecisionTree\", \"run_properties\": \"copy=True\", \"primary_metric\": 0.04767348, \"best_metric\": 0.03459339}, {\"run_id\": \"AutoML_0f23fc94-dc45-4346-855e-1006973b5760_18\", \"run_number\": 25, \"metric\": null, \"status\": \"Completed\", \"run_type\": \"azureml.scriptrun\", \"training_percent\": \"100\", \"start_time\": \"2021-04-17T23:52:39.041534Z\", \"end_time\": \"2021-04-17T23:53:32.9608Z\", \"created_time\": \"2021-04-17T23:52:28.759662Z\", \"created_time_dt\": \"2021-04-17T23:52:28.759662Z\", \"duration\": \"0:01:04\", \"iteration\": \"18\", \"goal\": \"normalized_root_mean_squared_error_min\", \"run_name\": \"VotingEnsemble\", \"run_properties\": \"estimators=[('0',\\n                                          Pipeline(memory=None,\\n                                                   steps=[('maxabsscaler',\\n                                                           MaxAbsScaler(copy=True\", \"primary_metric\": 0.03357215, \"best_metric\": 0.03357215}, {\"run_id\": \"AutoML_0f23fc94-dc45-4346-855e-1006973b5760_19\", \"run_number\": 26, \"metric\": null, \"status\": \"Completed\", \"run_type\": \"azureml.scriptrun\", \"training_percent\": \"100\", \"start_time\": \"2021-04-17T23:52:39.446588Z\", \"end_time\": \"2021-04-17T23:53:31.697172Z\", \"created_time\": \"2021-04-17T23:52:28.968461Z\", \"created_time_dt\": \"2021-04-17T23:52:28.968461Z\", \"duration\": \"0:01:02\", \"iteration\": \"19\", \"goal\": \"normalized_root_mean_squared_error_min\", \"run_name\": \"StackEnsemble\", \"run_properties\": \"base_learners=[('0',\\n                                       Pipeline(memory=None,\\n                                                steps=[('maxabsscaler',\\n                                                        MaxAbsScaler(copy=True\", \"primary_metric\": 0.03570401, \"best_metric\": 0.03357215}], \"children_metrics\": {\"categories\": [0], \"series\": {\"root_mean_squared_log_error\": [{\"categories\": [\"0\", \"1\", \"2\", \"3\", \"4\", \"5\", \"6\", \"7\", \"8\", \"9\", \"10\", \"11\", \"12\", \"13\", \"14\", \"15\", \"16\", \"17\", \"18\", \"19\"], \"mode\": \"markers\", \"name\": \"root_mean_squared_log_error\", \"stepped\": false, \"type\": \"scatter\", \"data\": [0.13387881894782247, 0.14079916467132575, 0.16544712734885259, 0.2123954200764216, 0.16338043490835727, 0.2006263202994508, 0.1928045796908981, 0.20398962040535565, 0.21287567614267963, 0.19366986842819522, 0.1968653541896809, 0.19404386198449086, 0.2116400455062303, 0.19970789972045094, 0.22260309222247227, 0.21832087296803696, 0.16677624403345687, 0.19157545801967144, 0.13094863664849818, 0.13465099063484284]}, {\"categories\": [\"0\", \"1\", \"2\", \"3\", \"4\", \"5\", \"6\", \"7\", \"8\", \"9\", \"10\", \"11\", \"12\", \"13\", \"14\", \"15\", \"16\", \"17\", \"18\", \"19\"], \"mode\": \"lines\", \"name\": \"root_mean_squared_log_error_min\", \"stepped\": true, \"type\": \"scatter\", \"data\": [0.13387881894782247, 0.13387881894782247, 0.13387881894782247, 0.13387881894782247, 0.13387881894782247, 0.13387881894782247, 0.13387881894782247, 0.13387881894782247, 0.13387881894782247, 0.13387881894782247, 0.13387881894782247, 0.13387881894782247, 0.13387881894782247, 0.13387881894782247, 0.13387881894782247, 0.13387881894782247, 0.13387881894782247, 0.13387881894782247, 0.13094863664849818, 0.13094863664849818]}], \"r2_score\": [{\"categories\": [\"0\", \"1\", \"2\", \"3\", \"4\", \"5\", \"6\", \"7\", \"8\", \"9\", \"10\", \"11\", \"12\", \"13\", \"14\", \"15\", \"16\", \"17\", \"18\", \"19\"], \"mode\": \"markers\", \"name\": \"r2_score\", \"stepped\": false, \"type\": \"scatter\", \"data\": [0.8949465429175184, 0.889217788373035, 0.8407450181314978, 0.7381026253099197, 0.8444868664493207, 0.7677178474382771, 0.7940372763889495, 0.7622394566085786, 0.737447474375918, 0.7987378756648814, 0.7834276635253548, 0.7896844819742268, 0.7319074454641455, 0.7713660382044709, 0.7052188796885989, 0.7261283338099699, 0.8328963886699187, 0.8024530398076142, 0.8987423512844135, 0.8832132470968375]}, {\"categories\": [\"0\", \"1\", \"2\", \"3\", \"4\", \"5\", \"6\", \"7\", \"8\", \"9\", \"10\", \"11\", \"12\", \"13\", \"14\", \"15\", \"16\", \"17\", \"18\", \"19\"], \"mode\": \"lines\", \"name\": \"r2_score_max\", \"stepped\": true, \"type\": \"scatter\", \"data\": [0.8949465429175184, 0.8949465429175184, 0.8949465429175184, 0.8949465429175184, 0.8949465429175184, 0.8949465429175184, 0.8949465429175184, 0.8949465429175184, 0.8949465429175184, 0.8949465429175184, 0.8949465429175184, 0.8949465429175184, 0.8949465429175184, 0.8949465429175184, 0.8949465429175184, 0.8949465429175184, 0.8949465429175184, 0.8949465429175184, 0.8987423512844135, 0.8987423512844135]}], \"normalized_mean_absolute_error\": [{\"categories\": [\"0\", \"1\", \"2\", \"3\", \"4\", \"5\", \"6\", \"7\", \"8\", \"9\", \"10\", \"11\", \"12\", \"13\", \"14\", \"15\", \"16\", \"17\", \"18\", \"19\"], \"mode\": \"markers\", \"name\": \"normalized_mean_absolute_error\", \"stepped\": false, \"type\": \"scatter\", \"data\": [0.020102714112142265, 0.021510678322979242, 0.022060820877086544, 0.03599587008929735, 0.022620556610143002, 0.03366125416566369, 0.032217033058333656, 0.03434172685792554, 0.03630208276613099, 0.031680639959151685, 0.03304044183019719, 0.03174454268899207, 0.0359719624818873, 0.03334702341897798, 0.038342988099928886, 0.036924255069904585, 0.0247145881308731, 0.03157722304192741, 0.019172263885181253, 0.019705839477862575]}, {\"categories\": [\"0\", \"1\", \"2\", \"3\", \"4\", \"5\", \"6\", \"7\", \"8\", \"9\", \"10\", \"11\", \"12\", \"13\", \"14\", \"15\", \"16\", \"17\", \"18\", \"19\"], \"mode\": \"lines\", \"name\": \"normalized_mean_absolute_error_min\", \"stepped\": true, \"type\": \"scatter\", \"data\": [0.020102714112142265, 0.020102714112142265, 0.020102714112142265, 0.020102714112142265, 0.020102714112142265, 0.020102714112142265, 0.020102714112142265, 0.020102714112142265, 0.020102714112142265, 0.020102714112142265, 0.020102714112142265, 0.020102714112142265, 0.020102714112142265, 0.020102714112142265, 0.020102714112142265, 0.020102714112142265, 0.020102714112142265, 0.020102714112142265, 0.019172263885181253, 0.019172263885181253]}], \"normalized_median_absolute_error\": [{\"categories\": [\"0\", \"1\", \"2\", \"3\", \"4\", \"5\", \"6\", \"7\", \"8\", \"9\", \"10\", \"11\", \"12\", \"13\", \"14\", \"15\", \"16\", \"17\", \"18\", \"19\"], \"mode\": \"markers\", \"name\": \"normalized_median_absolute_error\", \"stepped\": false, \"type\": \"scatter\", \"data\": [0.012634378768319571, 0.014584677009086177, 0.015030593612256182, 0.022427500720873895, 0.015512724797690586, 0.02175609998004284, 0.02112846818496556, 0.02242700775350167, 0.02377336260852278, 0.020908760315291243, 0.021579347282986598, 0.020748107462697216, 0.022460241097542823, 0.022682403357176355, 0.024981762011306398, 0.023928693905943228, 0.017018617027638277, 0.020856482788815037, 0.01222706870013655, 0.012169840112780248]}, {\"categories\": [\"0\", \"1\", \"2\", \"3\", \"4\", \"5\", \"6\", \"7\", \"8\", \"9\", \"10\", \"11\", \"12\", \"13\", \"14\", \"15\", \"16\", \"17\", \"18\", \"19\"], \"mode\": \"lines\", \"name\": \"normalized_median_absolute_error_min\", \"stepped\": true, \"type\": \"scatter\", \"data\": [0.012634378768319571, 0.012634378768319571, 0.012634378768319571, 0.012634378768319571, 0.012634378768319571, 0.012634378768319571, 0.012634378768319571, 0.012634378768319571, 0.012634378768319571, 0.012634378768319571, 0.012634378768319571, 0.012634378768319571, 0.012634378768319571, 0.012634378768319571, 0.012634378768319571, 0.012634378768319571, 0.012634378768319571, 0.012634378768319571, 0.01222706870013655, 0.012169840112780248]}], \"normalized_root_mean_squared_error\": [{\"categories\": [\"0\", \"1\", \"2\", \"3\", \"4\", \"5\", \"6\", \"7\", \"8\", \"9\", \"10\", \"11\", \"12\", \"13\", \"14\", \"15\", \"16\", \"17\", \"18\", \"19\"], \"mode\": \"markers\", \"name\": \"normalized_root_mean_squared_error\", \"stepped\": false, \"type\": \"scatter\", \"data\": [0.03459339342144292, 0.03521118007386141, 0.04053757883515711, 0.05500648007139973, 0.040298834010541414, 0.051764790481939216, 0.04870415957153148, 0.052369832343300136, 0.05502623389680676, 0.04813238075853596, 0.04996121581152623, 0.049032400694783054, 0.05566100939313774, 0.05121639917377625, 0.05829576527300175, 0.056184682203131865, 0.04218131463896856, 0.047673484048554725, 0.03357214737646978, 0.03570401188648209]}, {\"categories\": [\"0\", \"1\", \"2\", \"3\", \"4\", \"5\", \"6\", \"7\", \"8\", \"9\", \"10\", \"11\", \"12\", \"13\", \"14\", \"15\", \"16\", \"17\", \"18\", \"19\"], \"mode\": \"lines\", \"name\": \"normalized_root_mean_squared_error_min\", \"stepped\": true, \"type\": \"scatter\", \"data\": [0.03459339342144292, 0.03459339342144292, 0.03459339342144292, 0.03459339342144292, 0.03459339342144292, 0.03459339342144292, 0.03459339342144292, 0.03459339342144292, 0.03459339342144292, 0.03459339342144292, 0.03459339342144292, 0.03459339342144292, 0.03459339342144292, 0.03459339342144292, 0.03459339342144292, 0.03459339342144292, 0.03459339342144292, 0.03459339342144292, 0.03357214737646978, 0.03357214737646978]}], \"explained_variance\": [{\"categories\": [\"0\", \"1\", \"2\", \"3\", \"4\", \"5\", \"6\", \"7\", \"8\", \"9\", \"10\", \"11\", \"12\", \"13\", \"14\", \"15\", \"16\", \"17\", \"18\", \"19\"], \"mode\": \"markers\", \"name\": \"explained_variance\", \"stepped\": false, \"type\": \"scatter\", \"data\": [0.8950877543411769, 0.8893068978243965, 0.8412369182077803, 0.7383897869612611, 0.8450492485147197, 0.7680477108522388, 0.7942044730719152, 0.7627560389648723, 0.7379433360069261, 0.7995293157000776, 0.7835551996434647, 0.7899039032984984, 0.732199505392442, 0.7717165196989549, 0.7056155038197385, 0.7267912998861973, 0.8399895982424749, 0.8027622830765221, 0.8988675191930078, 0.8834858885451731]}, {\"categories\": [\"0\", \"1\", \"2\", \"3\", \"4\", \"5\", \"6\", \"7\", \"8\", \"9\", \"10\", \"11\", \"12\", \"13\", \"14\", \"15\", \"16\", \"17\", \"18\", \"19\"], \"mode\": \"lines\", \"name\": \"explained_variance_max\", \"stepped\": true, \"type\": \"scatter\", \"data\": [0.8950877543411769, 0.8950877543411769, 0.8950877543411769, 0.8950877543411769, 0.8950877543411769, 0.8950877543411769, 0.8950877543411769, 0.8950877543411769, 0.8950877543411769, 0.8950877543411769, 0.8950877543411769, 0.8950877543411769, 0.8950877543411769, 0.8950877543411769, 0.8950877543411769, 0.8950877543411769, 0.8950877543411769, 0.8950877543411769, 0.8988675191930078, 0.8988675191930078]}], \"spearman_correlation\": [{\"categories\": [\"0\", \"1\", \"2\", \"3\", \"4\", \"5\", \"6\", \"7\", \"8\", \"9\", \"10\", \"11\", \"12\", \"13\", \"14\", \"15\", \"16\", \"17\", \"18\", \"19\"], \"mode\": \"markers\", \"name\": \"spearman_correlation\", \"stepped\": false, \"type\": \"scatter\", \"data\": [0.9567224601136761, 0.94972390517745, 0.9487870315218917, 0.8636750748850354, 0.9463784351295719, 0.8838539561628711, 0.885123736004903, 0.8789028618683323, 0.866035632863273, 0.8889305810828804, 0.8810565661390198, 0.8876543751652669, 0.8680198758358681, 0.8854198159737425, 0.8513752417409577, 0.8586892127636088, 0.9424221742988228, 0.8878472547977058, 0.9593180676757124, 0.9578057318268034]}, {\"categories\": [\"0\", \"1\", \"2\", \"3\", \"4\", \"5\", \"6\", \"7\", \"8\", \"9\", \"10\", \"11\", \"12\", \"13\", \"14\", \"15\", \"16\", \"17\", \"18\", \"19\"], \"mode\": \"lines\", \"name\": \"spearman_correlation_max\", \"stepped\": true, \"type\": \"scatter\", \"data\": [0.9567224601136761, 0.9567224601136761, 0.9567224601136761, 0.9567224601136761, 0.9567224601136761, 0.9567224601136761, 0.9567224601136761, 0.9567224601136761, 0.9567224601136761, 0.9567224601136761, 0.9567224601136761, 0.9567224601136761, 0.9567224601136761, 0.9567224601136761, 0.9567224601136761, 0.9567224601136761, 0.9567224601136761, 0.9567224601136761, 0.9593180676757124, 0.9593180676757124]}], \"mean_absolute_percentage_error\": [{\"categories\": [\"0\", \"1\", \"2\", \"3\", \"4\", \"5\", \"6\", \"7\", \"8\", \"9\", \"10\", \"11\", \"12\", \"13\", \"14\", \"15\", \"16\", \"17\", \"18\", \"19\"], \"mode\": \"markers\", \"name\": \"mean_absolute_percentage_error\", \"stepped\": false, \"type\": \"scatter\", \"data\": [8.941158663177285, 9.800191197967198, 10.314274918176869, 16.067122670904393, 10.403373998204021, 14.943688718349975, 14.375591369125345, 15.276281092131029, 16.23373514881589, 14.09474011219125, 14.694269852636065, 14.251190928853347, 15.88737392788705, 14.90499707699673, 17.1347129136659, 16.658543368479872, 11.148617397988072, 14.060371945373285, 8.676986840925514, 8.930356598024218]}, {\"categories\": [\"0\", \"1\", \"2\", \"3\", \"4\", \"5\", \"6\", \"7\", \"8\", \"9\", \"10\", \"11\", \"12\", \"13\", \"14\", \"15\", \"16\", \"17\", \"18\", \"19\"], \"mode\": \"lines\", \"name\": \"mean_absolute_percentage_error_min\", \"stepped\": true, \"type\": \"scatter\", \"data\": [8.941158663177285, 8.941158663177285, 8.941158663177285, 8.941158663177285, 8.941158663177285, 8.941158663177285, 8.941158663177285, 8.941158663177285, 8.941158663177285, 8.941158663177285, 8.941158663177285, 8.941158663177285, 8.941158663177285, 8.941158663177285, 8.941158663177285, 8.941158663177285, 8.941158663177285, 8.941158663177285, 8.676986840925514, 8.676986840925514]}], \"median_absolute_error\": [{\"categories\": [\"0\", \"1\", \"2\", \"3\", \"4\", \"5\", \"6\", \"7\", \"8\", \"9\", \"10\", \"11\", \"12\", \"13\", \"14\", \"15\", \"16\", \"17\", \"18\", \"19\"], \"mode\": \"markers\", \"name\": \"median_absolute_error\", \"stepped\": false, \"type\": \"scatter\", \"data\": [9251.03111233004, 10679.0609375, 11005.56597942371, 16421.662730331795, 11358.58773684182, 15930.055722487148, 15470.49681818182, 16421.301774199215, 17407.117608949073, 15309.624299219717, 15800.6354534229, 15191.992513368989, 16445.63559427293, 16608.305244561452, 18291.920944060672, 17520.852893564595, 12461.218592424051, 15271.346119281046, 8952.794199995682, 8910.890798818938]}, {\"categories\": [\"0\", \"1\", \"2\", \"3\", \"4\", \"5\", \"6\", \"7\", \"8\", \"9\", \"10\", \"11\", \"12\", \"13\", \"14\", \"15\", \"16\", \"17\", \"18\", \"19\"], \"mode\": \"lines\", \"name\": \"median_absolute_error_min\", \"stepped\": true, \"type\": \"scatter\", \"data\": [9251.03111233004, 9251.03111233004, 9251.03111233004, 9251.03111233004, 9251.03111233004, 9251.03111233004, 9251.03111233004, 9251.03111233004, 9251.03111233004, 9251.03111233004, 9251.03111233004, 9251.03111233004, 9251.03111233004, 9251.03111233004, 9251.03111233004, 9251.03111233004, 9251.03111233004, 9251.03111233004, 8952.794199995682, 8910.890798818938]}], \"mean_absolute_error\": [{\"categories\": [\"0\", \"1\", \"2\", \"3\", \"4\", \"5\", \"6\", \"7\", \"8\", \"9\", \"10\", \"11\", \"12\", \"13\", \"14\", \"15\", \"16\", \"17\", \"18\", \"19\"], \"mode\": \"markers\", \"name\": \"mean_absolute_error\", \"stepped\": false, \"type\": \"scatter\", \"data\": [14719.428402765796, 15750.355285546957, 16153.175715232413, 26356.5720339545, 16563.02037606942, 24647.14057389478, 23589.665992675546, 25145.390164368517, 26580.784324271546, 23196.913065130415, 24192.574952930514, 23243.703346849576, 26339.06662082517, 24417.057364633285, 28075.157659637032, 27036.3457289899, 18096.293289894726, 23121.190060752706, 14038.14251163245, 14428.832429925233]}, {\"categories\": [\"0\", \"1\", \"2\", \"3\", \"4\", \"5\", \"6\", \"7\", \"8\", \"9\", \"10\", \"11\", \"12\", \"13\", \"14\", \"15\", \"16\", \"17\", \"18\", \"19\"], \"mode\": \"lines\", \"name\": \"mean_absolute_error_min\", \"stepped\": true, \"type\": \"scatter\", \"data\": [14719.428402765796, 14719.428402765796, 14719.428402765796, 14719.428402765796, 14719.428402765796, 14719.428402765796, 14719.428402765796, 14719.428402765796, 14719.428402765796, 14719.428402765796, 14719.428402765796, 14719.428402765796, 14719.428402765796, 14719.428402765796, 14719.428402765796, 14719.428402765796, 14719.428402765796, 14719.428402765796, 14038.14251163245, 14038.14251163245]}], \"root_mean_squared_error\": [{\"categories\": [\"0\", \"1\", \"2\", \"3\", \"4\", \"5\", \"6\", \"7\", \"8\", \"9\", \"10\", \"11\", \"12\", \"13\", \"14\", \"15\", \"16\", \"17\", \"18\", \"19\"], \"mode\": \"markers\", \"name\": \"root_mean_squared_error\", \"stepped\": false, \"type\": \"scatter\", \"data\": [25329.663190508145, 25782.01337306214, 29682.061136469223, 40276.34977955968, 29507.249549692537, 37902.74900357119, 35661.721384030636, 38345.767309920135, 40290.813747814784, 35243.058647588376, 36582.151790573436, 35902.06314512779, 40755.60334875878, 37501.210855429876, 42684.80058630989, 41139.04234063739, 30885.622573113815, 34907.0494286763, 24581.89560267231, 26142.870247412942]}, {\"categories\": [\"0\", \"1\", \"2\", \"3\", \"4\", \"5\", \"6\", \"7\", \"8\", \"9\", \"10\", \"11\", \"12\", \"13\", \"14\", \"15\", \"16\", \"17\", \"18\", \"19\"], \"mode\": \"lines\", \"name\": \"root_mean_squared_error_min\", \"stepped\": true, \"type\": \"scatter\", \"data\": [25329.663190508145, 25329.663190508145, 25329.663190508145, 25329.663190508145, 25329.663190508145, 25329.663190508145, 25329.663190508145, 25329.663190508145, 25329.663190508145, 25329.663190508145, 25329.663190508145, 25329.663190508145, 25329.663190508145, 25329.663190508145, 25329.663190508145, 25329.663190508145, 25329.663190508145, 25329.663190508145, 24581.89560267231, 24581.89560267231]}], \"normalized_root_mean_squared_log_error\": [{\"categories\": [\"0\", \"1\", \"2\", \"3\", \"4\", \"5\", \"6\", \"7\", \"8\", \"9\", \"10\", \"11\", \"12\", \"13\", \"14\", \"15\", \"16\", \"17\", \"18\", \"19\"], \"mode\": \"markers\", \"name\": \"normalized_root_mean_squared_log_error\", \"stepped\": false, \"type\": \"scatter\", \"data\": [0.032936771753897656, 0.034639310283475847, 0.04070318451906113, 0.052253370082064744, 0.040194738315747755, 0.04935794453118646, 0.04743364547352523, 0.05018538122952796, 0.05237152233767981, 0.047646523192835556, 0.04843267432559915, 0.047738532821378354, 0.05206753336791816, 0.049131995353995164, 0.05476465431847649, 0.05371114578522261, 0.041030172859854386, 0.04713125783475512, 0.03221589039007437, 0.03312674088277176]}, {\"categories\": [\"0\", \"1\", \"2\", \"3\", \"4\", \"5\", \"6\", \"7\", \"8\", \"9\", \"10\", \"11\", \"12\", \"13\", \"14\", \"15\", \"16\", \"17\", \"18\", \"19\"], \"mode\": \"lines\", \"name\": \"normalized_root_mean_squared_log_error_min\", \"stepped\": true, \"type\": \"scatter\", \"data\": [0.032936771753897656, 0.032936771753897656, 0.032936771753897656, 0.032936771753897656, 0.032936771753897656, 0.032936771753897656, 0.032936771753897656, 0.032936771753897656, 0.032936771753897656, 0.032936771753897656, 0.032936771753897656, 0.032936771753897656, 0.032936771753897656, 0.032936771753897656, 0.032936771753897656, 0.032936771753897656, 0.032936771753897656, 0.032936771753897656, 0.03221589039007437, 0.03221589039007437]}]}, \"metricName\": null, \"primaryMetricName\": \"normalized_root_mean_squared_error\", \"showLegend\": false}, \"run_metrics\": [{\"name\": \"experiment_status\", \"run_id\": \"AutoML_0f23fc94-dc45-4346-855e-1006973b5760\", \"categories\": [0, 1, 2, 3, 4, 5, 6, 7, 8, 9, 10, 11, 12, 13], \"series\": [{\"data\": [\"DatasetEvaluation\", \"FeaturesGeneration\", \"DatasetFeaturization\", \"DatasetFeaturizationCompleted\", \"DatasetCrossValidationSplit\", \"ModelSelection\", \"BestRunExplainModel\", \"ModelExplanationDataSetSetup\", \"PickSurrogateModel\", \"EngineeredFeatureExplanations\", \"EngineeredFeatureExplanations\", \"RawFeaturesExplanations\", \"RawFeaturesExplanations\", \"BestRunExplainModel\"]}]}, {\"name\": \"experiment_status_description\", \"run_id\": \"AutoML_0f23fc94-dc45-4346-855e-1006973b5760\", \"categories\": [0, 1, 2, 3, 4, 5, 6, 7, 8, 9, 10, 11, 12, 13], \"series\": [{\"data\": [\"Gathering dataset statistics.\", \"Generating features for the dataset.\", \"Beginning to fit featurizers and featurize the dataset.\", \"Completed fit featurizers and featurizing the dataset.\", \"Generating individually featurized CV splits.\", \"Beginning model selection.\", \"Best run model explanations started\", \"Model explanations data setup completed\", \"Choosing LightGBM as the surrogate model for explanations\", \"Computation of engineered features started\", \"Computation of engineered features completed\", \"Computation of raw features started\", \"Computation of raw features completed\", \"Best run model explanations completed\"]}]}, {\"name\": \"explained_variance\", \"run_id\": \"AutoML_0f23fc94-dc45-4346-855e-1006973b5760\", \"categories\": [0], \"series\": [{\"data\": [0.8988675191930078]}]}, {\"name\": \"normalized_root_mean_squared_log_error\", \"run_id\": \"AutoML_0f23fc94-dc45-4346-855e-1006973b5760\", \"categories\": [0], \"series\": [{\"data\": [0.03221589039007437]}]}, {\"name\": \"normalized_median_absolute_error\", \"run_id\": \"AutoML_0f23fc94-dc45-4346-855e-1006973b5760\", \"categories\": [0], \"series\": [{\"data\": [0.01222706870013655]}]}, {\"name\": \"mean_absolute_percentage_error\", \"run_id\": \"AutoML_0f23fc94-dc45-4346-855e-1006973b5760\", \"categories\": [0], \"series\": [{\"data\": [8.676986840925514]}]}, {\"name\": \"r2_score\", \"run_id\": \"AutoML_0f23fc94-dc45-4346-855e-1006973b5760\", \"categories\": [0], \"series\": [{\"data\": [0.8987423512844135]}]}, {\"name\": \"spearman_correlation\", \"run_id\": \"AutoML_0f23fc94-dc45-4346-855e-1006973b5760\", \"categories\": [0], \"series\": [{\"data\": [0.9593180676757124]}]}, {\"name\": \"root_mean_squared_log_error\", \"run_id\": \"AutoML_0f23fc94-dc45-4346-855e-1006973b5760\", \"categories\": [0], \"series\": [{\"data\": [0.13094863664849818]}]}, {\"name\": \"normalized_mean_absolute_error\", \"run_id\": \"AutoML_0f23fc94-dc45-4346-855e-1006973b5760\", \"categories\": [0], \"series\": [{\"data\": [0.019172263885181253]}]}, {\"name\": \"normalized_root_mean_squared_error\", \"run_id\": \"AutoML_0f23fc94-dc45-4346-855e-1006973b5760\", \"categories\": [0], \"series\": [{\"data\": [0.03357214737646978]}]}, {\"name\": \"median_absolute_error\", \"run_id\": \"AutoML_0f23fc94-dc45-4346-855e-1006973b5760\", \"categories\": [0], \"series\": [{\"data\": [8952.794199995682]}]}, {\"name\": \"root_mean_squared_error\", \"run_id\": \"AutoML_0f23fc94-dc45-4346-855e-1006973b5760\", \"categories\": [0], \"series\": [{\"data\": [24581.89560267231]}]}, {\"name\": \"mean_absolute_error\", \"run_id\": \"AutoML_0f23fc94-dc45-4346-855e-1006973b5760\", \"categories\": [0], \"series\": [{\"data\": [14038.14251163245]}]}], \"run_logs\": \"\\nRun is completed.\", \"graph\": {}, \"widget_settings\": {\"childWidgetDisplay\": \"popup\", \"send_telemetry\": false, \"log_level\": \"INFO\", \"sdk_version\": \"1.26.0\"}, \"loading\": false}"
     },
     "metadata": {},
     "output_type": "display_data"
    }
   ],
   "source": [
    "# get run\r\n",
    "run = Run(experiment,'AutoML_0f23fc94-dc45-4346-855e-1006973b5760')\r\n",
    "\r\n",
    "# submit script to AML\r\n",
    "RunDetails(run).show()"
   ]
  },
  {
   "cell_type": "markdown",
   "metadata": {},
   "source": [
    "## Best Model\n",
    "\n",
    "TODO: In the cell below, get the best model from the automl experiments and display all the properties of the model.\n",
    "\n"
   ]
  },
  {
   "cell_type": "code",
   "execution_count": 45,
   "metadata": {
    "gather": {
     "logged": 1618704047930
    },
    "jupyter": {
     "outputs_hidden": false,
     "source_hidden": false
    },
    "nteract": {
     "transient": {
      "deleting": false
     }
    }
   },
   "outputs": [
    {
     "name": "stdout",
     "output_type": "stream",
     "text": [
      "Run(Experiment: predict-housing-prices,\n",
      "Id: AutoML_0f23fc94-dc45-4346-855e-1006973b5760_18,\n",
      "Type: azureml.scriptrun,\n",
      "Status: Completed)\n"
     ]
    }
   ],
   "source": [
    "best_run, fitted_model = remote_run.get_output()\r\n",
    "print(best_run)"
   ]
  },
  {
   "cell_type": "code",
   "execution_count": 46,
   "metadata": {
    "collapsed": true,
    "gather": {
     "logged": 1618704084033
    },
    "jupyter": {
     "outputs_hidden": false,
     "source_hidden": false
    },
    "nteract": {
     "transient": {
      "deleting": false
     }
    }
   },
   "outputs": [
    {
     "name": "stdout",
     "output_type": "stream",
     "text": [
      "0.03357214737646978\n"
     ]
    }
   ],
   "source": [
    "print(best_run.properties['score'])"
   ]
  },
  {
   "cell_type": "markdown",
   "metadata": {
    "nteract": {
     "transient": {
      "deleting": false
     }
    }
   },
   "source": [
    "## Save the best model\r\n"
   ]
  },
  {
   "cell_type": "code",
   "execution_count": 50,
   "metadata": {
    "collapsed": true,
    "jupyter": {
     "outputs_hidden": false,
     "source_hidden": false
    },
    "nteract": {
     "transient": {
      "deleting": false
     }
    }
   },
   "outputs": [
    {
     "ename": "UserErrorException",
     "evalue": "UserErrorException:\n\tMessage: File with path outputs/scoring_file.py was not found,\navailable files include: automl_driver.py,azureml-logs/55_azureml-execution-tvmps_a32c0c0662ffba6d09791f429a13f95266e1a7399a7ba54ec5a9863abb310d62_d.txt,azureml-logs/65_job_prep-tvmps_a32c0c0662ffba6d09791f429a13f95266e1a7399a7ba54ec5a9863abb310d62_d.txt,azureml-logs/70_driver_log.txt,azureml-logs/75_job_post-tvmps_a32c0c0662ffba6d09791f429a13f95266e1a7399a7ba54ec5a9863abb310d62_d.txt,azureml-logs/process_info.json,azureml-logs/process_status.json,explanation/76bb0c5a/eval_data_viz.interpret.json,explanation/76bb0c5a/expected_values.interpret.json,explanation/76bb0c5a/features.interpret.json,explanation/76bb0c5a/global_names/0.interpret.json,explanation/76bb0c5a/global_rank/0.interpret.json,explanation/76bb0c5a/global_values/0.interpret.json,explanation/76bb0c5a/local_importance_values.interpret.json,explanation/76bb0c5a/rich_metadata.interpret.json,explanation/76bb0c5a/true_ys_viz.interpret.json,explanation/76bb0c5a/visualization_dict.interpret.json,explanation/9935cc6f/expected_values.interpret.json,explanation/9935cc6f/features.interpret.json,explanation/9935cc6f/global_names/0.interpret.json,explanation/9935cc6f/global_rank/0.interpret.json,explanation/9935cc6f/global_values/0.interpret.json,explanation/9935cc6f/local_importance_values.interpret.json,explanation/9935cc6f/rich_metadata.interpret.json,explanation/9935cc6f/true_ys_viz.interpret.json,explanation/9935cc6f/visualization_dict.interpret.json,explanation/9935cc6f/ys_pred_viz.interpret.json,logs/azureml/106_azureml.log,logs/azureml/azureml_automl.log,logs/azureml/job_prep_azureml.log,logs/azureml/job_release_azureml.log,outputs/conda_env_v_1_0_0.yml,outputs/env_dependencies.json,outputs/internal_cross_validated_models.pkl,outputs/model.pkl,outputs/pipeline_graph.json,outputs/scoring_file_v_1_0_0.py,predicted_true,residuals.\n\tInnerException None\n\tErrorResponse \n{\n    \"error\": {\n        \"code\": \"UserError\",\n        \"message\": \"File with path outputs/scoring_file.py was not found,\\navailable files include: automl_driver.py,azureml-logs/55_azureml-execution-tvmps_a32c0c0662ffba6d09791f429a13f95266e1a7399a7ba54ec5a9863abb310d62_d.txt,azureml-logs/65_job_prep-tvmps_a32c0c0662ffba6d09791f429a13f95266e1a7399a7ba54ec5a9863abb310d62_d.txt,azureml-logs/70_driver_log.txt,azureml-logs/75_job_post-tvmps_a32c0c0662ffba6d09791f429a13f95266e1a7399a7ba54ec5a9863abb310d62_d.txt,azureml-logs/process_info.json,azureml-logs/process_status.json,explanation/76bb0c5a/eval_data_viz.interpret.json,explanation/76bb0c5a/expected_values.interpret.json,explanation/76bb0c5a/features.interpret.json,explanation/76bb0c5a/global_names/0.interpret.json,explanation/76bb0c5a/global_rank/0.interpret.json,explanation/76bb0c5a/global_values/0.interpret.json,explanation/76bb0c5a/local_importance_values.interpret.json,explanation/76bb0c5a/rich_metadata.interpret.json,explanation/76bb0c5a/true_ys_viz.interpret.json,explanation/76bb0c5a/visualization_dict.interpret.json,explanation/9935cc6f/expected_values.interpret.json,explanation/9935cc6f/features.interpret.json,explanation/9935cc6f/global_names/0.interpret.json,explanation/9935cc6f/global_rank/0.interpret.json,explanation/9935cc6f/global_values/0.interpret.json,explanation/9935cc6f/local_importance_values.interpret.json,explanation/9935cc6f/rich_metadata.interpret.json,explanation/9935cc6f/true_ys_viz.interpret.json,explanation/9935cc6f/visualization_dict.interpret.json,explanation/9935cc6f/ys_pred_viz.interpret.json,logs/azureml/106_azureml.log,logs/azureml/azureml_automl.log,logs/azureml/job_prep_azureml.log,logs/azureml/job_release_azureml.log,outputs/conda_env_v_1_0_0.yml,outputs/env_dependencies.json,outputs/internal_cross_validated_models.pkl,outputs/model.pkl,outputs/pipeline_graph.json,outputs/scoring_file_v_1_0_0.py,predicted_true,residuals.\"\n    }\n}",
     "output_type": "error",
     "traceback": [
      "\u001b[0;31m---------------------------------------------------------------------------\u001b[0m",
      "\u001b[0;31mErrorResponseException\u001b[0m                    Traceback (most recent call last)",
      "\u001b[0;32m/anaconda/envs/azureml_py36/lib/python3.6/site-packages/azureml/_restclient/clientbase.py\u001b[0m in \u001b[0;36m_execute_with_arguments\u001b[0;34m(self, func, args_list, *args, **kwargs)\u001b[0m\n\u001b[1;32m    588\u001b[0m             \u001b[0;32melse\u001b[0m\u001b[0;34m:\u001b[0m\u001b[0;34m\u001b[0m\u001b[0;34m\u001b[0m\u001b[0m\n\u001b[0;32m--> 589\u001b[0;31m                 \u001b[0;32mreturn\u001b[0m \u001b[0mself\u001b[0m\u001b[0;34m.\u001b[0m\u001b[0m_call_api\u001b[0m\u001b[0;34m(\u001b[0m\u001b[0mfunc\u001b[0m\u001b[0;34m,\u001b[0m \u001b[0;34m*\u001b[0m\u001b[0margs_list\u001b[0m\u001b[0;34m,\u001b[0m \u001b[0;34m**\u001b[0m\u001b[0mkwargs\u001b[0m\u001b[0;34m)\u001b[0m\u001b[0;34m\u001b[0m\u001b[0;34m\u001b[0m\u001b[0m\n\u001b[0m\u001b[1;32m    590\u001b[0m         \u001b[0;32mexcept\u001b[0m \u001b[0mErrorResponseException\u001b[0m \u001b[0;32mas\u001b[0m \u001b[0me\u001b[0m\u001b[0;34m:\u001b[0m\u001b[0;34m\u001b[0m\u001b[0;34m\u001b[0m\u001b[0m\n",
      "\u001b[0;32m/anaconda/envs/azureml_py36/lib/python3.6/site-packages/azureml/_restclient/clientbase.py\u001b[0m in \u001b[0;36m_call_api\u001b[0;34m(self, func, *args, **kwargs)\u001b[0m\n\u001b[1;32m    244\u001b[0m             \u001b[0;32melse\u001b[0m\u001b[0;34m:\u001b[0m\u001b[0;34m\u001b[0m\u001b[0;34m\u001b[0m\u001b[0m\n\u001b[0;32m--> 245\u001b[0;31m                 \u001b[0;32mreturn\u001b[0m \u001b[0mself\u001b[0m\u001b[0;34m.\u001b[0m\u001b[0m_execute_with_base_arguments\u001b[0m\u001b[0;34m(\u001b[0m\u001b[0mfunc\u001b[0m\u001b[0;34m,\u001b[0m \u001b[0;34m*\u001b[0m\u001b[0margs\u001b[0m\u001b[0;34m,\u001b[0m \u001b[0;34m**\u001b[0m\u001b[0mkwargs\u001b[0m\u001b[0;34m)\u001b[0m\u001b[0;34m\u001b[0m\u001b[0;34m\u001b[0m\u001b[0m\n\u001b[0m\u001b[1;32m    246\u001b[0m \u001b[0;34m\u001b[0m\u001b[0m\n",
      "\u001b[0;32m/anaconda/envs/azureml_py36/lib/python3.6/site-packages/azureml/_restclient/clientbase.py\u001b[0m in \u001b[0;36m_execute_with_base_arguments\u001b[0;34m(self, func, *args, **kwargs)\u001b[0m\n\u001b[1;32m    333\u001b[0m         return ClientBase._execute_func_internal(\n\u001b[0;32m--> 334\u001b[0;31m             back_off, total_retry, self._logger, func, _noop_reset, *args, **kwargs)\n\u001b[0m\u001b[1;32m    335\u001b[0m \u001b[0;34m\u001b[0m\u001b[0m\n",
      "\u001b[0;32m/anaconda/envs/azureml_py36/lib/python3.6/site-packages/azureml/_restclient/clientbase.py\u001b[0m in \u001b[0;36m_execute_func_internal\u001b[0;34m(cls, back_off, total_retry, logger, func, reset_func, *args, **kwargs)\u001b[0m\n\u001b[1;32m    366\u001b[0m             \u001b[0;32mexcept\u001b[0m \u001b[0mException\u001b[0m \u001b[0;32mas\u001b[0m \u001b[0merror\u001b[0m\u001b[0;34m:\u001b[0m\u001b[0;34m\u001b[0m\u001b[0;34m\u001b[0m\u001b[0m\n\u001b[0;32m--> 367\u001b[0;31m                 \u001b[0mleft_retry\u001b[0m \u001b[0;34m=\u001b[0m \u001b[0mcls\u001b[0m\u001b[0;34m.\u001b[0m\u001b[0m_handle_retry\u001b[0m\u001b[0;34m(\u001b[0m\u001b[0mback_off\u001b[0m\u001b[0;34m,\u001b[0m \u001b[0mleft_retry\u001b[0m\u001b[0;34m,\u001b[0m \u001b[0mtotal_retry\u001b[0m\u001b[0;34m,\u001b[0m \u001b[0merror\u001b[0m\u001b[0;34m,\u001b[0m \u001b[0mlogger\u001b[0m\u001b[0;34m,\u001b[0m \u001b[0mfunc\u001b[0m\u001b[0;34m)\u001b[0m\u001b[0;34m\u001b[0m\u001b[0;34m\u001b[0m\u001b[0m\n\u001b[0m\u001b[1;32m    368\u001b[0m \u001b[0;34m\u001b[0m\u001b[0m\n",
      "\u001b[0;32m/anaconda/envs/azureml_py36/lib/python3.6/site-packages/azureml/_restclient/clientbase.py\u001b[0m in \u001b[0;36m_handle_retry\u001b[0;34m(cls, back_off, left_retry, total_retry, error, logger, func)\u001b[0m\n\u001b[1;32m    425\u001b[0m             \u001b[0;32melif\u001b[0m \u001b[0merror\u001b[0m\u001b[0;34m.\u001b[0m\u001b[0mresponse\u001b[0m\u001b[0;34m.\u001b[0m\u001b[0mstatus_code\u001b[0m \u001b[0;34m<\u001b[0m \u001b[0;36m500\u001b[0m \u001b[0;32mand\u001b[0m \u001b[0merror\u001b[0m\u001b[0;34m.\u001b[0m\u001b[0mresponse\u001b[0m\u001b[0;34m.\u001b[0m\u001b[0mstatus_code\u001b[0m \u001b[0;34m!=\u001b[0m \u001b[0;36m408\u001b[0m\u001b[0;34m:\u001b[0m\u001b[0;34m\u001b[0m\u001b[0;34m\u001b[0m\u001b[0m\n\u001b[0;32m--> 426\u001b[0;31m                 \u001b[0;32mraise\u001b[0m \u001b[0merror\u001b[0m\u001b[0;34m\u001b[0m\u001b[0;34m\u001b[0m\u001b[0m\n\u001b[0m\u001b[1;32m    427\u001b[0m         \u001b[0;32melif\u001b[0m \u001b[0misinstance\u001b[0m\u001b[0;34m(\u001b[0m\u001b[0merror\u001b[0m\u001b[0;34m,\u001b[0m \u001b[0mClientRequestError\u001b[0m\u001b[0;34m)\u001b[0m\u001b[0;34m:\u001b[0m\u001b[0;34m\u001b[0m\u001b[0;34m\u001b[0m\u001b[0m\n",
      "\u001b[0;32m/anaconda/envs/azureml_py36/lib/python3.6/site-packages/azureml/_restclient/clientbase.py\u001b[0m in \u001b[0;36m_execute_func_internal\u001b[0;34m(cls, back_off, total_retry, logger, func, reset_func, *args, **kwargs)\u001b[0m\n\u001b[1;32m    357\u001b[0m                 \u001b[0mlogger\u001b[0m\u001b[0;34m.\u001b[0m\u001b[0mdebug\u001b[0m\u001b[0;34m(\u001b[0m\u001b[0;34m\"ClientBase: Calling {} with url {}\"\u001b[0m\u001b[0;34m.\u001b[0m\u001b[0mformat\u001b[0m\u001b[0;34m(\u001b[0m\u001b[0mfunc_name\u001b[0m\u001b[0;34m,\u001b[0m \u001b[0mfunc_url\u001b[0m\u001b[0;34m)\u001b[0m\u001b[0;34m)\u001b[0m\u001b[0;34m\u001b[0m\u001b[0;34m\u001b[0m\u001b[0m\n\u001b[0;32m--> 358\u001b[0;31m                 \u001b[0mresponse\u001b[0m \u001b[0;34m=\u001b[0m \u001b[0mfunc\u001b[0m\u001b[0;34m(\u001b[0m\u001b[0;34m*\u001b[0m\u001b[0margs\u001b[0m\u001b[0;34m,\u001b[0m \u001b[0;34m**\u001b[0m\u001b[0mkwargs\u001b[0m\u001b[0;34m)\u001b[0m\u001b[0;34m\u001b[0m\u001b[0;34m\u001b[0m\u001b[0m\n\u001b[0m\u001b[1;32m    359\u001b[0m                 if (isinstance(response, Response) and cls._is_retryable_status_code(response.status_code) and\n",
      "\u001b[0;32m/anaconda/envs/azureml_py36/lib/python3.6/site-packages/azureml/_restclient/operations/artifact_operations.py\u001b[0m in \u001b[0;36mget_content_information\u001b[0;34m(self, subscription_id, resource_group_name, workspace_name, origin, container, path, custom_headers, raw, **operation_config)\u001b[0m\n\u001b[1;32m    586\u001b[0m         \u001b[0;32mif\u001b[0m \u001b[0mresponse\u001b[0m\u001b[0;34m.\u001b[0m\u001b[0mstatus_code\u001b[0m \u001b[0;32mnot\u001b[0m \u001b[0;32min\u001b[0m \u001b[0;34m[\u001b[0m\u001b[0;36m200\u001b[0m\u001b[0;34m]\u001b[0m\u001b[0;34m:\u001b[0m\u001b[0;34m\u001b[0m\u001b[0;34m\u001b[0m\u001b[0m\n\u001b[0;32m--> 587\u001b[0;31m             \u001b[0;32mraise\u001b[0m \u001b[0mmodels\u001b[0m\u001b[0;34m.\u001b[0m\u001b[0mErrorResponseException\u001b[0m\u001b[0;34m(\u001b[0m\u001b[0mself\u001b[0m\u001b[0;34m.\u001b[0m\u001b[0m_deserialize\u001b[0m\u001b[0;34m,\u001b[0m \u001b[0mresponse\u001b[0m\u001b[0;34m)\u001b[0m\u001b[0;34m\u001b[0m\u001b[0;34m\u001b[0m\u001b[0m\n\u001b[0m\u001b[1;32m    588\u001b[0m \u001b[0;34m\u001b[0m\u001b[0m\n",
      "\u001b[0;31mErrorResponseException\u001b[0m: (UserError) Artifact with Id ExperimentRun/dcid.AutoML_0f23fc94-dc45-4346-855e-1006973b5760_18/outputs/scoring_file.py not found in workspace quick-starts-ws-142974",
      "\nDuring handling of the above exception, another exception occurred:\n",
      "\u001b[0;31mServiceException\u001b[0m                          Traceback (most recent call last)",
      "\u001b[0;32m/anaconda/envs/azureml_py36/lib/python3.6/site-packages/azureml/_restclient/artifacts_client.py\u001b[0m in \u001b[0;36mdownload_artifact\u001b[0;34m(self, origin, container, path, output_file_path, _validate_checksum)\u001b[0m\n\u001b[1;32m    255\u001b[0m             content_info = self._execute_with_workspace_arguments(self._client.artifact.get_content_information,\n\u001b[0;32m--> 256\u001b[0;31m                                                                   origin, container, path)\n\u001b[0m\u001b[1;32m    257\u001b[0m             \u001b[0;32mif\u001b[0m \u001b[0;32mnot\u001b[0m \u001b[0mcontent_info\u001b[0m\u001b[0;34m:\u001b[0m\u001b[0;34m\u001b[0m\u001b[0;34m\u001b[0m\u001b[0m\n",
      "\u001b[0;32m/anaconda/envs/azureml_py36/lib/python3.6/site-packages/azureml/_restclient/workspace_client.py\u001b[0m in \u001b[0;36m_execute_with_workspace_arguments\u001b[0;34m(self, func, *args, **kwargs)\u001b[0m\n\u001b[1;32m     71\u001b[0m     \u001b[0;32mdef\u001b[0m \u001b[0m_execute_with_workspace_arguments\u001b[0m\u001b[0;34m(\u001b[0m\u001b[0mself\u001b[0m\u001b[0;34m,\u001b[0m \u001b[0mfunc\u001b[0m\u001b[0;34m,\u001b[0m \u001b[0;34m*\u001b[0m\u001b[0margs\u001b[0m\u001b[0;34m,\u001b[0m \u001b[0;34m**\u001b[0m\u001b[0mkwargs\u001b[0m\u001b[0;34m)\u001b[0m\u001b[0;34m:\u001b[0m\u001b[0;34m\u001b[0m\u001b[0;34m\u001b[0m\u001b[0m\n\u001b[0;32m---> 72\u001b[0;31m         \u001b[0;32mreturn\u001b[0m \u001b[0mself\u001b[0m\u001b[0;34m.\u001b[0m\u001b[0m_execute_with_arguments\u001b[0m\u001b[0;34m(\u001b[0m\u001b[0mfunc\u001b[0m\u001b[0;34m,\u001b[0m \u001b[0mcopy\u001b[0m\u001b[0;34m.\u001b[0m\u001b[0mdeepcopy\u001b[0m\u001b[0;34m(\u001b[0m\u001b[0mself\u001b[0m\u001b[0;34m.\u001b[0m\u001b[0m_workspace_arguments\u001b[0m\u001b[0;34m)\u001b[0m\u001b[0;34m,\u001b[0m \u001b[0;34m*\u001b[0m\u001b[0margs\u001b[0m\u001b[0;34m,\u001b[0m \u001b[0;34m**\u001b[0m\u001b[0mkwargs\u001b[0m\u001b[0;34m)\u001b[0m\u001b[0;34m\u001b[0m\u001b[0;34m\u001b[0m\u001b[0m\n\u001b[0m\u001b[1;32m     73\u001b[0m \u001b[0;34m\u001b[0m\u001b[0m\n",
      "\u001b[0;32m/anaconda/envs/azureml_py36/lib/python3.6/site-packages/azureml/_restclient/clientbase.py\u001b[0m in \u001b[0;36m_execute_with_arguments\u001b[0;34m(self, func, args_list, *args, **kwargs)\u001b[0m\n\u001b[1;32m    590\u001b[0m         \u001b[0;32mexcept\u001b[0m \u001b[0mErrorResponseException\u001b[0m \u001b[0;32mas\u001b[0m \u001b[0me\u001b[0m\u001b[0;34m:\u001b[0m\u001b[0;34m\u001b[0m\u001b[0;34m\u001b[0m\u001b[0m\n\u001b[0;32m--> 591\u001b[0;31m             \u001b[0;32mraise\u001b[0m \u001b[0mServiceException\u001b[0m\u001b[0;34m(\u001b[0m\u001b[0me\u001b[0m\u001b[0;34m)\u001b[0m\u001b[0;34m\u001b[0m\u001b[0;34m\u001b[0m\u001b[0m\n\u001b[0m",
      "\u001b[0;31mServiceException\u001b[0m: ServiceException:\n\tCode: 404\n\tMessage: (UserError) Artifact with Id ExperimentRun/dcid.AutoML_0f23fc94-dc45-4346-855e-1006973b5760_18/outputs/scoring_file.py not found in workspace quick-starts-ws-142974\n\tDetails:\n\n\tHeaders: {\n\t    \"Date\": \"Sun, 18 Apr 2021 00:05:18 GMT\",\n\t    \"Content-Type\": \"application/json; charset=utf-8\",\n\t    \"Transfer-Encoding\": \"chunked\",\n\t    \"Connection\": \"keep-alive\",\n\t    \"Vary\": \"Accept-Encoding\",\n\t    \"Request-Context\": \"appId=cid-v1:2d2e8e63-272e-4b3c-8598-4ee570a0e70d\",\n\t    \"x-ms-response-type\": \"error\",\n\t    \"x-ms-client-request-id\": \"10bcff58-3de0-4206-add4-d700744a3b78\",\n\t    \"x-ms-client-session-id\": \"\",\n\t    \"Strict-Transport-Security\": \"max-age=15724800; includeSubDomains; preload\",\n\t    \"X-Content-Type-Options\": \"nosniff\",\n\t    \"x-request-time\": \"0.048\",\n\t    \"Content-Encoding\": \"gzip\"\n\t}\n\tInnerException: {\n    \"additional_properties\": {},\n    \"error\": {\n        \"additional_properties\": {\n            \"debugInfo\": null\n        },\n        \"code\": \"UserError\",\n        \"severity\": null,\n        \"message\": \"Artifact with Id ExperimentRun/dcid.AutoML_0f23fc94-dc45-4346-855e-1006973b5760_18/outputs/scoring_file.py not found in workspace quick-starts-ws-142974\",\n        \"message_format\": \"Artifact with Id {artifactId} not found in workspace {workspaceName}\",\n        \"message_parameters\": {\n            \"artifactId\": \"ExperimentRun/dcid.AutoML_0f23fc94-dc45-4346-855e-1006973b5760_18/outputs/scoring_file.py\",\n            \"workspaceName\": \"quick-starts-ws-142974\"\n        },\n        \"reference_code\": null,\n        \"details_uri\": null,\n        \"target\": null,\n        \"details\": [],\n        \"inner_error\": {\n            \"additional_properties\": {},\n            \"code\": \"NotFound\",\n            \"inner_error\": {\n                \"additional_properties\": {},\n                \"code\": \"ArtifactNotFound\",\n                \"inner_error\": null\n            }\n        }\n    },\n    \"correlation\": {\n        \"operation\": \"35ee46f565ab1341b95b39f0a0fd1416\",\n        \"request\": \"216b2bd71fd8fe40\"\n    },\n    \"environment\": \"southcentralus\",\n    \"location\": \"southcentralus\",\n    \"time\": {},\n    \"component_name\": \"artifact\"\n}",
      "\nDuring handling of the above exception, another exception occurred:\n",
      "\u001b[0;31mUserErrorException\u001b[0m                        Traceback (most recent call last)",
      "\u001b[0;32m<ipython-input-50-62adff46225e>\u001b[0m in \u001b[0;36m<module>\u001b[0;34m\u001b[0m\n\u001b[1;32m      1\u001b[0m \u001b[0mmodel_name\u001b[0m \u001b[0;34m=\u001b[0m \u001b[0mbest_run\u001b[0m\u001b[0;34m.\u001b[0m\u001b[0mproperties\u001b[0m\u001b[0;34m[\u001b[0m\u001b[0;34m'model_name'\u001b[0m\u001b[0;34m]\u001b[0m\u001b[0;34m\u001b[0m\u001b[0;34m\u001b[0m\u001b[0m\n\u001b[1;32m      2\u001b[0m \u001b[0mfile_name\u001b[0m \u001b[0;34m=\u001b[0m \u001b[0;34m'./results/score.py'\u001b[0m\u001b[0;34m\u001b[0m\u001b[0;34m\u001b[0m\u001b[0m\n\u001b[0;32m----> 3\u001b[0;31m \u001b[0mbest_run\u001b[0m\u001b[0;34m.\u001b[0m\u001b[0mdownload_file\u001b[0m\u001b[0;34m(\u001b[0m\u001b[0;34m'outputs/scoring_file.py'\u001b[0m\u001b[0;34m,\u001b[0m \u001b[0mfile_name\u001b[0m\u001b[0;34m)\u001b[0m\u001b[0;34m\u001b[0m\u001b[0;34m\u001b[0m\u001b[0m\n\u001b[0m",
      "\u001b[0;32m/anaconda/envs/azureml_py36/lib/python3.6/site-packages/azureml/core/run.py\u001b[0m in \u001b[0;36mwrapped\u001b[0;34m(self, *args, **kwargs)\u001b[0m\n\u001b[1;32m     51\u001b[0m                                      \u001b[0;34m\"therefore, the {} cannot upload files, or log file backed metrics.\"\u001b[0m\u001b[0;34m\u001b[0m\u001b[0;34m\u001b[0m\u001b[0m\n\u001b[1;32m     52\u001b[0m                                      .format(self, self.__class__.__name__))\n\u001b[0;32m---> 53\u001b[0;31m         \u001b[0;32mreturn\u001b[0m \u001b[0mfunc\u001b[0m\u001b[0;34m(\u001b[0m\u001b[0mself\u001b[0m\u001b[0;34m,\u001b[0m \u001b[0;34m*\u001b[0m\u001b[0margs\u001b[0m\u001b[0;34m,\u001b[0m \u001b[0;34m**\u001b[0m\u001b[0mkwargs\u001b[0m\u001b[0;34m)\u001b[0m\u001b[0;34m\u001b[0m\u001b[0;34m\u001b[0m\u001b[0m\n\u001b[0m\u001b[1;32m     54\u001b[0m \u001b[0;34m\u001b[0m\u001b[0m\n\u001b[1;32m     55\u001b[0m     \u001b[0;32mreturn\u001b[0m \u001b[0mwrapped\u001b[0m\u001b[0;34m\u001b[0m\u001b[0;34m\u001b[0m\u001b[0m\n",
      "\u001b[0;32m/anaconda/envs/azureml_py36/lib/python3.6/site-packages/azureml/core/run.py\u001b[0m in \u001b[0;36mdownload_file\u001b[0;34m(self, name, output_file_path, _validate_checksum)\u001b[0m\n\u001b[1;32m   2067\u001b[0m \u001b[0;34m\u001b[0m\u001b[0m\n\u001b[1;32m   2068\u001b[0m         self._client.artifacts.download_artifact(RUN_ORIGIN, self._container, name, output_file_path,\n\u001b[0;32m-> 2069\u001b[0;31m                                                  _validate_checksum)\n\u001b[0m\u001b[1;32m   2070\u001b[0m \u001b[0;34m\u001b[0m\u001b[0m\n\u001b[1;32m   2071\u001b[0m     \u001b[0;34m@\u001b[0m\u001b[0m_check_for_data_container_id\u001b[0m\u001b[0;34m\u001b[0m\u001b[0;34m\u001b[0m\u001b[0m\n",
      "\u001b[0;32m/anaconda/envs/azureml_py36/lib/python3.6/site-packages/azureml/_restclient/artifacts_client.py\u001b[0m in \u001b[0;36mdownload_artifact\u001b[0;34m(self, origin, container, path, output_file_path, _validate_checksum)\u001b[0m\n\u001b[1;32m    261\u001b[0m                                _validate_check_sum=_validate_checksum)\n\u001b[1;32m    262\u001b[0m         \u001b[0;32mexcept\u001b[0m \u001b[0mHttpOperationError\u001b[0m \u001b[0;32mas\u001b[0m \u001b[0moperation_error\u001b[0m\u001b[0;34m:\u001b[0m\u001b[0;34m\u001b[0m\u001b[0;34m\u001b[0m\u001b[0m\n\u001b[0;32m--> 263\u001b[0;31m             \u001b[0mself\u001b[0m\u001b[0;34m.\u001b[0m\u001b[0m_handle_http_operation_error\u001b[0m\u001b[0;34m(\u001b[0m\u001b[0moperation_error\u001b[0m\u001b[0;34m,\u001b[0m \u001b[0morigin\u001b[0m\u001b[0;34m,\u001b[0m \u001b[0mcontainer\u001b[0m\u001b[0;34m,\u001b[0m \u001b[0mpath\u001b[0m\u001b[0;34m)\u001b[0m\u001b[0;34m\u001b[0m\u001b[0;34m\u001b[0m\u001b[0m\n\u001b[0m\u001b[1;32m    264\u001b[0m \u001b[0;34m\u001b[0m\u001b[0m\n\u001b[1;32m    265\u001b[0m     def download_artifacts_from_prefix(self, origin, container, prefix=None, output_directory=None, output_paths=None,\n",
      "\u001b[0;32m/anaconda/envs/azureml_py36/lib/python3.6/site-packages/azureml/_restclient/artifacts_client.py\u001b[0m in \u001b[0;36m_handle_http_operation_error\u001b[0;34m(self, operation_error, origin, container, path, prefix)\u001b[0m\n\u001b[1;32m    506\u001b[0m             raise UserErrorException(\"{0} with path {1} was not found,\\n\"\n\u001b[1;32m    507\u001b[0m                                      \u001b[0;34m\"available files include: \"\u001b[0m\u001b[0;34m\u001b[0m\u001b[0;34m\u001b[0m\u001b[0m\n\u001b[0;32m--> 508\u001b[0;31m                                      \"{2}.\".format(type_string, path, \",\".join(existing_files)))\n\u001b[0m\u001b[1;32m    509\u001b[0m         \u001b[0;32melse\u001b[0m\u001b[0;34m:\u001b[0m\u001b[0;34m\u001b[0m\u001b[0;34m\u001b[0m\u001b[0m\n\u001b[1;32m    510\u001b[0m             \u001b[0;32mraise\u001b[0m \u001b[0moperation_error\u001b[0m\u001b[0;34m\u001b[0m\u001b[0;34m\u001b[0m\u001b[0m\n",
      "\u001b[0;31mUserErrorException\u001b[0m: UserErrorException:\n\tMessage: File with path outputs/scoring_file.py was not found,\navailable files include: automl_driver.py,azureml-logs/55_azureml-execution-tvmps_a32c0c0662ffba6d09791f429a13f95266e1a7399a7ba54ec5a9863abb310d62_d.txt,azureml-logs/65_job_prep-tvmps_a32c0c0662ffba6d09791f429a13f95266e1a7399a7ba54ec5a9863abb310d62_d.txt,azureml-logs/70_driver_log.txt,azureml-logs/75_job_post-tvmps_a32c0c0662ffba6d09791f429a13f95266e1a7399a7ba54ec5a9863abb310d62_d.txt,azureml-logs/process_info.json,azureml-logs/process_status.json,explanation/76bb0c5a/eval_data_viz.interpret.json,explanation/76bb0c5a/expected_values.interpret.json,explanation/76bb0c5a/features.interpret.json,explanation/76bb0c5a/global_names/0.interpret.json,explanation/76bb0c5a/global_rank/0.interpret.json,explanation/76bb0c5a/global_values/0.interpret.json,explanation/76bb0c5a/local_importance_values.interpret.json,explanation/76bb0c5a/rich_metadata.interpret.json,explanation/76bb0c5a/true_ys_viz.interpret.json,explanation/76bb0c5a/visualization_dict.interpret.json,explanation/9935cc6f/expected_values.interpret.json,explanation/9935cc6f/features.interpret.json,explanation/9935cc6f/global_names/0.interpret.json,explanation/9935cc6f/global_rank/0.interpret.json,explanation/9935cc6f/global_values/0.interpret.json,explanation/9935cc6f/local_importance_values.interpret.json,explanation/9935cc6f/rich_metadata.interpret.json,explanation/9935cc6f/true_ys_viz.interpret.json,explanation/9935cc6f/visualization_dict.interpret.json,explanation/9935cc6f/ys_pred_viz.interpret.json,logs/azureml/106_azureml.log,logs/azureml/azureml_automl.log,logs/azureml/job_prep_azureml.log,logs/azureml/job_release_azureml.log,outputs/conda_env_v_1_0_0.yml,outputs/env_dependencies.json,outputs/internal_cross_validated_models.pkl,outputs/model.pkl,outputs/pipeline_graph.json,outputs/scoring_file_v_1_0_0.py,predicted_true,residuals.\n\tInnerException None\n\tErrorResponse \n{\n    \"error\": {\n        \"code\": \"UserError\",\n        \"message\": \"File with path outputs/scoring_file.py was not found,\\navailable files include: automl_driver.py,azureml-logs/55_azureml-execution-tvmps_a32c0c0662ffba6d09791f429a13f95266e1a7399a7ba54ec5a9863abb310d62_d.txt,azureml-logs/65_job_prep-tvmps_a32c0c0662ffba6d09791f429a13f95266e1a7399a7ba54ec5a9863abb310d62_d.txt,azureml-logs/70_driver_log.txt,azureml-logs/75_job_post-tvmps_a32c0c0662ffba6d09791f429a13f95266e1a7399a7ba54ec5a9863abb310d62_d.txt,azureml-logs/process_info.json,azureml-logs/process_status.json,explanation/76bb0c5a/eval_data_viz.interpret.json,explanation/76bb0c5a/expected_values.interpret.json,explanation/76bb0c5a/features.interpret.json,explanation/76bb0c5a/global_names/0.interpret.json,explanation/76bb0c5a/global_rank/0.interpret.json,explanation/76bb0c5a/global_values/0.interpret.json,explanation/76bb0c5a/local_importance_values.interpret.json,explanation/76bb0c5a/rich_metadata.interpret.json,explanation/76bb0c5a/true_ys_viz.interpret.json,explanation/76bb0c5a/visualization_dict.interpret.json,explanation/9935cc6f/expected_values.interpret.json,explanation/9935cc6f/features.interpret.json,explanation/9935cc6f/global_names/0.interpret.json,explanation/9935cc6f/global_rank/0.interpret.json,explanation/9935cc6f/global_values/0.interpret.json,explanation/9935cc6f/local_importance_values.interpret.json,explanation/9935cc6f/rich_metadata.interpret.json,explanation/9935cc6f/true_ys_viz.interpret.json,explanation/9935cc6f/visualization_dict.interpret.json,explanation/9935cc6f/ys_pred_viz.interpret.json,logs/azureml/106_azureml.log,logs/azureml/azureml_automl.log,logs/azureml/job_prep_azureml.log,logs/azureml/job_release_azureml.log,outputs/conda_env_v_1_0_0.yml,outputs/env_dependencies.json,outputs/internal_cross_validated_models.pkl,outputs/model.pkl,outputs/pipeline_graph.json,outputs/scoring_file_v_1_0_0.py,predicted_true,residuals.\"\n    }\n}"
     ]
    }
   ],
   "source": [
    "model_name = best_run.properties['model_name']\r",
    "de)"
   ]
  },
  {
   "cell_type": "markdown",
   "metadata": {},
   "source": [
    "## Model Deployment\n",
    "\n",
    "Remember you have to deploy only one of the two models you trained.. Perform the steps in the rest of this notebook only if you wish to deploy this model.\n",
    "\n",
    "TODO: In the cell below, register the model, create an inference config and deploy the model as a web service."
   ]
  },
  {
   "cell_type": "code",
   "execution_count": null,
   "metadata": {
    "gather": {
     "logged": 1598431435189
    },
    "jupyter": {
     "outputs_hidden": false,
     "source_hidden": false
    },
    "nteract": {
     "transient": {
      "deleting": false
     }
    }
   },
   "outputs": [],
   "source": []
  },
  {
   "cell_type": "markdown",
   "metadata": {
    "gather": {
     "logged": 1598431657736
    },
    "jupyter": {
     "outputs_hidden": false,
     "source_hidden": false
    },
    "nteract": {
     "transient": {
      "deleting": false
     }
    }
   },
   "source": [
    "TODO: In the cell below, send a request to the web service you deployed to test it."
   ]
  },
  {
   "cell_type": "code",
   "execution_count": null,
   "metadata": {
    "gather": {
     "logged": 1598432707604
    },
    "jupyter": {
     "outputs_hidden": false,
     "source_hidden": false
    },
    "nteract": {
     "transient": {
      "deleting": false
     }
    }
   },
   "outputs": [],
   "source": []
  },
  {
   "cell_type": "markdown",
   "metadata": {
    "gather": {
     "logged": 1598432765711
    },
    "jupyter": {
     "outputs_hidden": false,
     "source_hidden": false
    },
    "nteract": {
     "transient": {
      "deleting": false
     }
    }
   },
   "source": [
    "TODO: In the cell below, print the logs of the web service and delete the service"
   ]
  },
  {
   "cell_type": "code",
   "execution_count": null,
   "metadata": {
    "jupyter": {
     "outputs_hidden": false,
     "source_hidden": false
    },
    "nteract": {
     "transient": {
      "deleting": false
     }
    }
   },
   "outputs": [],
   "source": []
  }
 ],
 "metadata": {
  "kernel_info": {
   "name": "python3"
  },
  "kernelspec": {
   "display_name": "Python 3",
   "language": "python",
   "name": "python3"
  },
  "language_info": {
   "codemirror_mode": {
    "name": "ipython",
    "version": 3
   },
   "file_extension": ".py",
   "mimetype": "text/x-python",
   "name": "python",
   "nbconvert_exporter": "python",
   "pygments_lexer": "ipython3",
   "version": "3.7.0"
  },
  "microsoft": {
   "host": {
    "AzureML": {
     "notebookHasBeenCompleted": true
    }
   }
  },
  "nteract": {
   "version": "nteract-front-end@1.0.0"
  }
 },
 "nbformat": 4,
 "nbformat_minor": 2
}
